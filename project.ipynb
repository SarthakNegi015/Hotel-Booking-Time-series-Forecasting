{
 "cells": [
  {
   "cell_type": "markdown",
   "id": "f4a41692",
   "metadata": {},
   "source": [
    "# 1. Data understanding and Preprocessing\n",
    "\n",
    "* Load the dataset and provide a summary of its structure (number of rows, columns, data types, and missing values).\n",
    "* Perform data cleaning:\n",
    "    * Handle missing values appropriately.\n",
    "    * Convert data types if necessary.\n",
    "    * Create any new features you think might be useful."
   ]
  },
  {
   "cell_type": "code",
   "execution_count": 1,
   "id": "e1439520",
   "metadata": {},
   "outputs": [],
   "source": [
    "import pandas as pd\n",
    "import numpy as np\n",
    "import matplotlib.pyplot as plt\n",
    "import seaborn as sns"
   ]
  },
  {
   "cell_type": "markdown",
   "id": "3cf7715b",
   "metadata": {},
   "source": [
    "###  ---------------------------------------------------Importing the Dataset------------------------------------------------------------------"
   ]
  },
  {
   "cell_type": "code",
   "execution_count": 2,
   "id": "8d4f7914",
   "metadata": {},
   "outputs": [],
   "source": [
    "df = pd.read_csv(\"hotel_bookings.csv\")"
   ]
  },
  {
   "cell_type": "code",
   "execution_count": 3,
   "id": "819c427f",
   "metadata": {
    "scrolled": false
   },
   "outputs": [
    {
     "name": "stdout",
     "output_type": "stream",
     "text": [
      "<class 'pandas.core.frame.DataFrame'>\n",
      "RangeIndex: 119390 entries, 0 to 119389\n",
      "Data columns (total 32 columns):\n",
      " #   Column                          Non-Null Count   Dtype  \n",
      "---  ------                          --------------   -----  \n",
      " 0   hotel                           119390 non-null  object \n",
      " 1   is_canceled                     119390 non-null  int64  \n",
      " 2   lead_time                       119390 non-null  int64  \n",
      " 3   arrival_date_year               119390 non-null  int64  \n",
      " 4   arrival_date_month              119390 non-null  object \n",
      " 5   arrival_date_week_number        119390 non-null  int64  \n",
      " 6   arrival_date_day_of_month       119390 non-null  int64  \n",
      " 7   stays_in_weekend_nights         119390 non-null  int64  \n",
      " 8   stays_in_week_nights            119390 non-null  int64  \n",
      " 9   adults                          119390 non-null  int64  \n",
      " 10  children                        119386 non-null  float64\n",
      " 11  babies                          119390 non-null  int64  \n",
      " 12  meal                            119390 non-null  object \n",
      " 13  country                         118902 non-null  object \n",
      " 14  market_segment                  119390 non-null  object \n",
      " 15  distribution_channel            119390 non-null  object \n",
      " 16  is_repeated_guest               119390 non-null  int64  \n",
      " 17  previous_cancellations          119390 non-null  int64  \n",
      " 18  previous_bookings_not_canceled  119390 non-null  int64  \n",
      " 19  reserved_room_type              119390 non-null  object \n",
      " 20  assigned_room_type              119390 non-null  object \n",
      " 21  booking_changes                 119390 non-null  int64  \n",
      " 22  deposit_type                    119390 non-null  object \n",
      " 23  agent                           103050 non-null  float64\n",
      " 24  company                         6797 non-null    float64\n",
      " 25  days_in_waiting_list            119390 non-null  int64  \n",
      " 26  customer_type                   119390 non-null  object \n",
      " 27  adr                             119390 non-null  float64\n",
      " 28  required_car_parking_spaces     119390 non-null  int64  \n",
      " 29  total_of_special_requests       119390 non-null  int64  \n",
      " 30  reservation_status              119390 non-null  object \n",
      " 31  reservation_status_date         119390 non-null  object \n",
      "dtypes: float64(4), int64(16), object(12)\n",
      "memory usage: 29.1+ MB\n"
     ]
    }
   ],
   "source": [
    "df.info()"
   ]
  },
  {
   "cell_type": "markdown",
   "id": "8b7a85e0",
   "metadata": {},
   "source": [
    "### `Cleaning the dataset`"
   ]
  },
  {
   "cell_type": "markdown",
   "id": "90de0442",
   "metadata": {},
   "source": [
    "<b> Value count of dtypes."
   ]
  },
  {
   "cell_type": "code",
   "execution_count": 4,
   "id": "e24d574b",
   "metadata": {},
   "outputs": [
    {
     "data": {
      "text/plain": [
       "int64      16\n",
       "object     12\n",
       "float64     4\n",
       "Name: count, dtype: int64"
      ]
     },
     "execution_count": 4,
     "metadata": {},
     "output_type": "execute_result"
    }
   ],
   "source": [
    "df.dtypes.value_counts()"
   ]
  },
  {
   "cell_type": "markdown",
   "id": "31602a86",
   "metadata": {},
   "source": [
    "<b>Missing values"
   ]
  },
  {
   "cell_type": "code",
   "execution_count": 5,
   "id": "c3ce3f69",
   "metadata": {
    "scrolled": true
   },
   "outputs": [
    {
     "data": {
      "text/plain": [
       "hotel                                  0\n",
       "is_canceled                            0\n",
       "lead_time                              0\n",
       "arrival_date_year                      0\n",
       "arrival_date_month                     0\n",
       "arrival_date_week_number               0\n",
       "arrival_date_day_of_month              0\n",
       "stays_in_weekend_nights                0\n",
       "stays_in_week_nights                   0\n",
       "adults                                 0\n",
       "children                               4\n",
       "babies                                 0\n",
       "meal                                   0\n",
       "country                              488\n",
       "market_segment                         0\n",
       "distribution_channel                   0\n",
       "is_repeated_guest                      0\n",
       "previous_cancellations                 0\n",
       "previous_bookings_not_canceled         0\n",
       "reserved_room_type                     0\n",
       "assigned_room_type                     0\n",
       "booking_changes                        0\n",
       "deposit_type                           0\n",
       "agent                              16340\n",
       "company                           112593\n",
       "days_in_waiting_list                   0\n",
       "customer_type                          0\n",
       "adr                                    0\n",
       "required_car_parking_spaces            0\n",
       "total_of_special_requests              0\n",
       "reservation_status                     0\n",
       "reservation_status_date                0\n",
       "dtype: int64"
      ]
     },
     "execution_count": 5,
     "metadata": {},
     "output_type": "execute_result"
    }
   ],
   "source": [
    "df.isnull().sum()"
   ]
  },
  {
   "cell_type": "markdown",
   "id": "39dd0e15",
   "metadata": {},
   "source": [
    "## -----------------------------------------------------------------------------------------\n",
    "## Summary of the DataFrame:\n",
    "\n",
    "#### Summary of DataFrame\n",
    "\n",
    "- **Number of Rows:** 119,390\n",
    "- **Number of Columns:** 32\n",
    "\n",
    "#### Data Types\n",
    "\n",
    "- **Integer Columns (`int64`):** 16 columns  \n",
    "- **Float Columns (`float64`):** 4 columns  \n",
    "- **Object Columns (`object`):** 12 columns  \n",
    "\n",
    "#### Missing Values\n",
    "\n",
    "- **`children`**: 4 missing values  \n",
    "- **`country`**: 488 missing values  \n",
    "- **`agent`**: 16,340 missing values  \n",
    "- **`company`**: 112,593 missing values  \n",
    "\n",
    "This summary provides an overview of the structure and missing data within your DataFrame, helping to identify areas that may require data cleaning or handling."
   ]
  },
  {
   "cell_type": "markdown",
   "id": "830a5590",
   "metadata": {},
   "source": [
    "### Columns with missing values:\n",
    "* children - <b>4</b>\n",
    "\n",
    "* country - <b>488</b>\n",
    "\n",
    "* agent - <b>16340</b>\n",
    "\n",
    "* company - <b>112593</b>"
   ]
  },
  {
   "cell_type": "markdown",
   "id": "976f0121",
   "metadata": {},
   "source": [
    "### -------------------------------------------------Handling missing values------------------------------------------------------------------"
   ]
  },
  {
   "cell_type": "markdown",
   "id": "e1aab8c4",
   "metadata": {},
   "source": [
    "#### Handling missing values in \"children\" column"
   ]
  },
  {
   "cell_type": "code",
   "execution_count": 6,
   "id": "efeab14a",
   "metadata": {},
   "outputs": [
    {
     "data": {
      "text/plain": [
       "children\n",
       "0.0     110796\n",
       "1.0       4861\n",
       "2.0       3652\n",
       "3.0         76\n",
       "10.0         1\n",
       "Name: count, dtype: int64"
      ]
     },
     "execution_count": 6,
     "metadata": {},
     "output_type": "execute_result"
    }
   ],
   "source": [
    "df['children'].value_counts()"
   ]
  },
  {
   "cell_type": "markdown",
   "id": "d2de28be",
   "metadata": {},
   "source": [
    "**`Note:-`** Since there are only <b>4</b> missing values in the <b>\"children\"</b> column. We will replace it with the <b>\"0\"</b> as it has the highest occurence in this column."
   ]
  },
  {
   "cell_type": "code",
   "execution_count": 7,
   "id": "6759ef07",
   "metadata": {},
   "outputs": [],
   "source": [
    "df['children'] = df['children'].fillna(0.0)"
   ]
  },
  {
   "cell_type": "code",
   "execution_count": 8,
   "id": "e6321bd2",
   "metadata": {},
   "outputs": [
    {
     "data": {
      "text/plain": [
       "children\n",
       "0.0     110800\n",
       "1.0       4861\n",
       "2.0       3652\n",
       "3.0         76\n",
       "10.0         1\n",
       "Name: count, dtype: int64"
      ]
     },
     "execution_count": 8,
     "metadata": {},
     "output_type": "execute_result"
    }
   ],
   "source": [
    "df['children'].value_counts()"
   ]
  },
  {
   "cell_type": "markdown",
   "id": "fa87e5c4",
   "metadata": {},
   "source": [
    "#### Handling missing values in \"country\" column"
   ]
  },
  {
   "cell_type": "code",
   "execution_count": 9,
   "id": "e5847b62",
   "metadata": {},
   "outputs": [
    {
     "data": {
      "text/plain": [
       "country\n",
       "PRT    48590\n",
       "GBR    12129\n",
       "FRA    10415\n",
       "ESP     8568\n",
       "DEU     7287\n",
       "       ...  \n",
       "DJI        1\n",
       "BWA        1\n",
       "HND        1\n",
       "VGB        1\n",
       "NAM        1\n",
       "Name: count, Length: 177, dtype: int64"
      ]
     },
     "execution_count": 9,
     "metadata": {},
     "output_type": "execute_result"
    }
   ],
   "source": [
    "df['country'].value_counts()"
   ]
  },
  {
   "cell_type": "code",
   "execution_count": 10,
   "id": "b0de9f65",
   "metadata": {},
   "outputs": [
    {
     "data": {
      "text/plain": [
       "488"
      ]
     },
     "execution_count": 10,
     "metadata": {},
     "output_type": "execute_result"
    }
   ],
   "source": [
    "df['country'].isnull().sum()"
   ]
  },
  {
   "cell_type": "markdown",
   "id": "a613affb",
   "metadata": {},
   "source": [
    "**`Note:-`** Since <b>\"country\"</b> column has <b>488</b> missing values and these are all categorical values.\n",
    "* We will replace the null values with <b>\"unknown\"</b>.\n",
    "* We will not replace the null values with \"PRT\" (i.e. the category with highest occurence) because this can affect the outcome while training the model."
   ]
  },
  {
   "cell_type": "code",
   "execution_count": 11,
   "id": "5e997a27",
   "metadata": {},
   "outputs": [],
   "source": [
    "df['country'].fillna(\"unknown\", inplace=True)"
   ]
  },
  {
   "cell_type": "code",
   "execution_count": 12,
   "id": "6d95fe72",
   "metadata": {},
   "outputs": [
    {
     "data": {
      "text/plain": [
       "0"
      ]
     },
     "execution_count": 12,
     "metadata": {},
     "output_type": "execute_result"
    }
   ],
   "source": [
    "df['country'].isnull().sum()"
   ]
  },
  {
   "cell_type": "code",
   "execution_count": 13,
   "id": "c8cbacc6",
   "metadata": {},
   "outputs": [],
   "source": [
    "label = df['country'].value_counts().keys()\n",
    "size = df['country'].value_counts().values"
   ]
  },
  {
   "cell_type": "code",
   "execution_count": 14,
   "id": "86b73cdd",
   "metadata": {},
   "outputs": [
    {
     "data": {
      "text/plain": [
       "Text(0, 0.5, 'Value')"
      ]
     },
     "execution_count": 14,
     "metadata": {},
     "output_type": "execute_result"
    },
    {
     "data": {
      "image/png": "[encoded data removed]",
      "text/plain": [
       "<Figure size 1000x1000 with 1 Axes>"
      ]
     },
     "metadata": {},
     "output_type": "display_data"
    }
   ],
   "source": [
    "plt.figure(figsize=(10,10))\n",
    "plt.bar(label, size)\n",
    "\n",
    "plt.xlabel('Country')\n",
    "plt.ylabel('Value')"
   ]
  },
  {
   "cell_type": "markdown",
   "id": "7e655cd7",
   "metadata": {},
   "source": [
    "**`Note:-`** Since \"country\" column have more than 100 categories. We will consider top 10 countries with the most number of occurences and rename rest of the countries as \"others\""
   ]
  },
  {
   "cell_type": "code",
   "execution_count": 15,
   "id": "ce2ed732",
   "metadata": {},
   "outputs": [],
   "source": [
    "top_10_countries = df['country'].value_counts().keys()[:10]"
   ]
  },
  {
   "cell_type": "code",
   "execution_count": 16,
   "id": "4bfc11eb",
   "metadata": {},
   "outputs": [
    {
     "data": {
      "text/plain": [
       "Index(['PRT', 'GBR', 'FRA', 'ESP', 'DEU', 'ITA', 'IRL', 'BEL', 'BRA', 'NLD'], dtype='object', name='country')"
      ]
     },
     "execution_count": 16,
     "metadata": {},
     "output_type": "execute_result"
    }
   ],
   "source": [
    "top_10_countries"
   ]
  },
  {
   "cell_type": "code",
   "execution_count": 17,
   "id": "92b4c3a0",
   "metadata": {},
   "outputs": [],
   "source": [
    "df['country'] = df['country'].apply(lambda x: x if x in top_10_countries else 'Others')"
   ]
  },
  {
   "cell_type": "code",
   "execution_count": 18,
   "id": "0d641b3b",
   "metadata": {},
   "outputs": [
    {
     "data": {
      "text/plain": [
       "country\n",
       "PRT       48590\n",
       "Others    18590\n",
       "GBR       12129\n",
       "FRA       10415\n",
       "ESP        8568\n",
       "DEU        7287\n",
       "ITA        3766\n",
       "IRL        3375\n",
       "BEL        2342\n",
       "BRA        2224\n",
       "NLD        2104\n",
       "Name: count, dtype: int64"
      ]
     },
     "execution_count": 18,
     "metadata": {},
     "output_type": "execute_result"
    }
   ],
   "source": [
    "df['country'].value_counts()"
   ]
  },
  {
   "cell_type": "code",
   "execution_count": 19,
   "id": "d99afbb5",
   "metadata": {},
   "outputs": [],
   "source": [
    "label = df['country'].value_counts().keys()\n",
    "size = df['country'].value_counts().values"
   ]
  },
  {
   "cell_type": "code",
   "execution_count": 20,
   "id": "74a56a01",
   "metadata": {},
   "outputs": [
    {
     "data": {
      "text/plain": [
       "Text(0, 0.5, 'Value')"
      ]
     },
     "execution_count": 20,
     "metadata": {},
     "output_type": "execute_result"
    },
    {
     "data": {
      "image/png": "[encoded data removed]",
      "text/plain": [
       "<Figure size 1000x1000 with 1 Axes>"
      ]
     },
     "metadata": {},
     "output_type": "display_data"
    }
   ],
   "source": [
    "plt.figure(figsize=(10,10))\n",
    "plt.bar(label, size)\n",
    "\n",
    "plt.xlabel('Country')\n",
    "plt.ylabel('Value')"
   ]
  },
  {
   "cell_type": "markdown",
   "id": "99a6fda9",
   "metadata": {},
   "source": [
    "#### Handling the missing values in \"agent\" column"
   ]
  },
  {
   "cell_type": "code",
   "execution_count": 21,
   "id": "4971ea63",
   "metadata": {},
   "outputs": [
    {
     "name": "stdout",
     "output_type": "stream",
     "text": [
      "column 'agent' has 16340 missing values\n"
     ]
    }
   ],
   "source": [
    "print(\"column 'agent' has\",df['agent'].isna().sum(), \"missing values\")"
   ]
  },
  {
   "cell_type": "code",
   "execution_count": 22,
   "id": "fed8c63e",
   "metadata": {},
   "outputs": [
    {
     "data": {
      "text/plain": [
       "agent\n",
       "9.0      31961\n",
       "240.0    13922\n",
       "1.0       7191\n",
       "14.0      3640\n",
       "7.0       3539\n",
       "         ...  \n",
       "289.0        1\n",
       "432.0        1\n",
       "265.0        1\n",
       "93.0         1\n",
       "304.0        1\n",
       "Name: count, Length: 333, dtype: int64"
      ]
     },
     "execution_count": 22,
     "metadata": {},
     "output_type": "execute_result"
    }
   ],
   "source": [
    "df['agent'].value_counts()"
   ]
  },
  {
   "cell_type": "markdown",
   "id": "34bcba26",
   "metadata": {},
   "source": [
    "**`Note:-`** Since, column <b>\"agent\"</b> is an \"int\" datatype.\n",
    "* We will replace the missing values with the <b>mean</b> because there are <b>16340</b> missing values which is a high number.\n"
   ]
  },
  {
   "cell_type": "code",
   "execution_count": 23,
   "id": "f5220091",
   "metadata": {},
   "outputs": [
    {
     "data": {
      "text/html": [
       "<div>\n",
       "<style scoped>\n",
       "    .dataframe tbody tr th:only-of-type {\n",
       "        vertical-align: middle;\n",
       "    }\n",
       "\n",
       "    .dataframe tbody tr th {\n",
       "        vertical-align: top;\n",
       "    }\n",
       "\n",
       "    .dataframe thead th {\n",
       "        text-align: right;\n",
       "    }\n",
       "</style>\n",
       "<table border=\"1\" class=\"dataframe\">\n",
       "  <thead>\n",
       "    <tr style=\"text-align: right;\">\n",
       "      <th></th>\n",
       "      <th>is_canceled</th>\n",
       "      <th>lead_time</th>\n",
       "      <th>arrival_date_year</th>\n",
       "      <th>arrival_date_week_number</th>\n",
       "      <th>arrival_date_day_of_month</th>\n",
       "      <th>stays_in_weekend_nights</th>\n",
       "      <th>stays_in_week_nights</th>\n",
       "      <th>adults</th>\n",
       "      <th>children</th>\n",
       "      <th>babies</th>\n",
       "      <th>is_repeated_guest</th>\n",
       "      <th>previous_cancellations</th>\n",
       "      <th>previous_bookings_not_canceled</th>\n",
       "      <th>booking_changes</th>\n",
       "      <th>agent</th>\n",
       "      <th>company</th>\n",
       "      <th>days_in_waiting_list</th>\n",
       "      <th>adr</th>\n",
       "      <th>required_car_parking_spaces</th>\n",
       "      <th>total_of_special_requests</th>\n",
       "    </tr>\n",
       "  </thead>\n",
       "  <tbody>\n",
       "    <tr>\n",
       "      <th>count</th>\n",
       "      <td>119390.000000</td>\n",
       "      <td>119390.000000</td>\n",
       "      <td>119390.000000</td>\n",
       "      <td>119390.000000</td>\n",
       "      <td>119390.000000</td>\n",
       "      <td>119390.000000</td>\n",
       "      <td>119390.000000</td>\n",
       "      <td>119390.000000</td>\n",
       "      <td>119390.000000</td>\n",
       "      <td>119390.000000</td>\n",
       "      <td>119390.000000</td>\n",
       "      <td>119390.000000</td>\n",
       "      <td>119390.000000</td>\n",
       "      <td>119390.000000</td>\n",
       "      <td>103050.000000</td>\n",
       "      <td>6797.000000</td>\n",
       "      <td>119390.000000</td>\n",
       "      <td>119390.000000</td>\n",
       "      <td>119390.000000</td>\n",
       "      <td>119390.000000</td>\n",
       "    </tr>\n",
       "    <tr>\n",
       "      <th>mean</th>\n",
       "      <td>0.370416</td>\n",
       "      <td>104.011416</td>\n",
       "      <td>2016.156554</td>\n",
       "      <td>27.165173</td>\n",
       "      <td>15.798241</td>\n",
       "      <td>0.927599</td>\n",
       "      <td>2.500302</td>\n",
       "      <td>1.856403</td>\n",
       "      <td>0.103886</td>\n",
       "      <td>0.007949</td>\n",
       "      <td>0.031912</td>\n",
       "      <td>0.087118</td>\n",
       "      <td>0.137097</td>\n",
       "      <td>0.221124</td>\n",
       "      <td>86.693382</td>\n",
       "      <td>189.266735</td>\n",
       "      <td>2.321149</td>\n",
       "      <td>101.831122</td>\n",
       "      <td>0.062518</td>\n",
       "      <td>0.571363</td>\n",
       "    </tr>\n",
       "    <tr>\n",
       "      <th>std</th>\n",
       "      <td>0.482918</td>\n",
       "      <td>106.863097</td>\n",
       "      <td>0.707476</td>\n",
       "      <td>13.605138</td>\n",
       "      <td>8.780829</td>\n",
       "      <td>0.998613</td>\n",
       "      <td>1.908286</td>\n",
       "      <td>0.579261</td>\n",
       "      <td>0.398555</td>\n",
       "      <td>0.097436</td>\n",
       "      <td>0.175767</td>\n",
       "      <td>0.844336</td>\n",
       "      <td>1.497437</td>\n",
       "      <td>0.652306</td>\n",
       "      <td>110.774548</td>\n",
       "      <td>131.655015</td>\n",
       "      <td>17.594721</td>\n",
       "      <td>50.535790</td>\n",
       "      <td>0.245291</td>\n",
       "      <td>0.792798</td>\n",
       "    </tr>\n",
       "    <tr>\n",
       "      <th>min</th>\n",
       "      <td>0.000000</td>\n",
       "      <td>0.000000</td>\n",
       "      <td>2015.000000</td>\n",
       "      <td>1.000000</td>\n",
       "      <td>1.000000</td>\n",
       "      <td>0.000000</td>\n",
       "      <td>0.000000</td>\n",
       "      <td>0.000000</td>\n",
       "      <td>0.000000</td>\n",
       "      <td>0.000000</td>\n",
       "      <td>0.000000</td>\n",
       "      <td>0.000000</td>\n",
       "      <td>0.000000</td>\n",
       "      <td>0.000000</td>\n",
       "      <td>1.000000</td>\n",
       "      <td>6.000000</td>\n",
       "      <td>0.000000</td>\n",
       "      <td>-6.380000</td>\n",
       "      <td>0.000000</td>\n",
       "      <td>0.000000</td>\n",
       "    </tr>\n",
       "    <tr>\n",
       "      <th>25%</th>\n",
       "      <td>0.000000</td>\n",
       "      <td>18.000000</td>\n",
       "      <td>2016.000000</td>\n",
       "      <td>16.000000</td>\n",
       "      <td>8.000000</td>\n",
       "      <td>0.000000</td>\n",
       "      <td>1.000000</td>\n",
       "      <td>2.000000</td>\n",
       "      <td>0.000000</td>\n",
       "      <td>0.000000</td>\n",
       "      <td>0.000000</td>\n",
       "      <td>0.000000</td>\n",
       "      <td>0.000000</td>\n",
       "      <td>0.000000</td>\n",
       "      <td>9.000000</td>\n",
       "      <td>62.000000</td>\n",
       "      <td>0.000000</td>\n",
       "      <td>69.290000</td>\n",
       "      <td>0.000000</td>\n",
       "      <td>0.000000</td>\n",
       "    </tr>\n",
       "    <tr>\n",
       "      <th>50%</th>\n",
       "      <td>0.000000</td>\n",
       "      <td>69.000000</td>\n",
       "      <td>2016.000000</td>\n",
       "      <td>28.000000</td>\n",
       "      <td>16.000000</td>\n",
       "      <td>1.000000</td>\n",
       "      <td>2.000000</td>\n",
       "      <td>2.000000</td>\n",
       "      <td>0.000000</td>\n",
       "      <td>0.000000</td>\n",
       "      <td>0.000000</td>\n",
       "      <td>0.000000</td>\n",
       "      <td>0.000000</td>\n",
       "      <td>0.000000</td>\n",
       "      <td>14.000000</td>\n",
       "      <td>179.000000</td>\n",
       "      <td>0.000000</td>\n",
       "      <td>94.575000</td>\n",
       "      <td>0.000000</td>\n",
       "      <td>0.000000</td>\n",
       "    </tr>\n",
       "    <tr>\n",
       "      <th>75%</th>\n",
       "      <td>1.000000</td>\n",
       "      <td>160.000000</td>\n",
       "      <td>2017.000000</td>\n",
       "      <td>38.000000</td>\n",
       "      <td>23.000000</td>\n",
       "      <td>2.000000</td>\n",
       "      <td>3.000000</td>\n",
       "      <td>2.000000</td>\n",
       "      <td>0.000000</td>\n",
       "      <td>0.000000</td>\n",
       "      <td>0.000000</td>\n",
       "      <td>0.000000</td>\n",
       "      <td>0.000000</td>\n",
       "      <td>0.000000</td>\n",
       "      <td>229.000000</td>\n",
       "      <td>270.000000</td>\n",
       "      <td>0.000000</td>\n",
       "      <td>126.000000</td>\n",
       "      <td>0.000000</td>\n",
       "      <td>1.000000</td>\n",
       "    </tr>\n",
       "    <tr>\n",
       "      <th>max</th>\n",
       "      <td>1.000000</td>\n",
       "      <td>737.000000</td>\n",
       "      <td>2017.000000</td>\n",
       "      <td>53.000000</td>\n",
       "      <td>31.000000</td>\n",
       "      <td>19.000000</td>\n",
       "      <td>50.000000</td>\n",
       "      <td>55.000000</td>\n",
       "      <td>10.000000</td>\n",
       "      <td>10.000000</td>\n",
       "      <td>1.000000</td>\n",
       "      <td>26.000000</td>\n",
       "      <td>72.000000</td>\n",
       "      <td>21.000000</td>\n",
       "      <td>535.000000</td>\n",
       "      <td>543.000000</td>\n",
       "      <td>391.000000</td>\n",
       "      <td>5400.000000</td>\n",
       "      <td>8.000000</td>\n",
       "      <td>5.000000</td>\n",
       "    </tr>\n",
       "  </tbody>\n",
       "</table>\n",
       "</div>"
      ],
      "text/plain": [
       "         is_canceled      lead_time  arrival_date_year  \\\n",
       "count  119390.000000  119390.000000      119390.000000   \n",
       "mean        0.370416     104.011416        2016.156554   \n",
       "std         0.482918     106.863097           0.707476   \n",
       "min         0.000000       0.000000        2015.000000   \n",
       "25%         0.000000      18.000000        2016.000000   \n",
       "50%         0.000000      69.000000        2016.000000   \n",
       "75%         1.000000     160.000000        2017.000000   \n",
       "max         1.000000     737.000000        2017.000000   \n",
       "\n",
       "       arrival_date_week_number  arrival_date_day_of_month  \\\n",
       "count             119390.000000              119390.000000   \n",
       "mean                  27.165173                  15.798241   \n",
       "std                   13.605138                   8.780829   \n",
       "min                    1.000000                   1.000000   \n",
       "25%                   16.000000                   8.000000   \n",
       "50%                   28.000000                  16.000000   \n",
       "75%                   38.000000                  23.000000   \n",
       "max                   53.000000                  31.000000   \n",
       "\n",
       "       stays_in_weekend_nights  stays_in_week_nights         adults  \\\n",
       "count            119390.000000         119390.000000  119390.000000   \n",
       "mean                  0.927599              2.500302       1.856403   \n",
       "std                   0.998613              1.908286       0.579261   \n",
       "min                   0.000000              0.000000       0.000000   \n",
       "25%                   0.000000              1.000000       2.000000   \n",
       "50%                   1.000000              2.000000       2.000000   \n",
       "75%                   2.000000              3.000000       2.000000   \n",
       "max                  19.000000             50.000000      55.000000   \n",
       "\n",
       "            children         babies  is_repeated_guest  \\\n",
       "count  119390.000000  119390.000000      119390.000000   \n",
       "mean        0.103886       0.007949           0.031912   \n",
       "std         0.398555       0.097436           0.175767   \n",
       "min         0.000000       0.000000           0.000000   \n",
       "25%         0.000000       0.000000           0.000000   \n",
       "50%         0.000000       0.000000           0.000000   \n",
       "75%         0.000000       0.000000           0.000000   \n",
       "max        10.000000      10.000000           1.000000   \n",
       "\n",
       "       previous_cancellations  previous_bookings_not_canceled  \\\n",
       "count           119390.000000                   119390.000000   \n",
       "mean                 0.087118                        0.137097   \n",
       "std                  0.844336                        1.497437   \n",
       "min                  0.000000                        0.000000   \n",
       "25%                  0.000000                        0.000000   \n",
       "50%                  0.000000                        0.000000   \n",
       "75%                  0.000000                        0.000000   \n",
       "max                 26.000000                       72.000000   \n",
       "\n",
       "       booking_changes          agent      company  days_in_waiting_list  \\\n",
       "count    119390.000000  103050.000000  6797.000000         119390.000000   \n",
       "mean          0.221124      86.693382   189.266735              2.321149   \n",
       "std           0.652306     110.774548   131.655015             17.594721   \n",
       "min           0.000000       1.000000     6.000000              0.000000   \n",
       "25%           0.000000       9.000000    62.000000              0.000000   \n",
       "50%           0.000000      14.000000   179.000000              0.000000   \n",
       "75%           0.000000     229.000000   270.000000              0.000000   \n",
       "max          21.000000     535.000000   543.000000            391.000000   \n",
       "\n",
       "                 adr  required_car_parking_spaces  total_of_special_requests  \n",
       "count  119390.000000                119390.000000              119390.000000  \n",
       "mean      101.831122                     0.062518                   0.571363  \n",
       "std        50.535790                     0.245291                   0.792798  \n",
       "min        -6.380000                     0.000000                   0.000000  \n",
       "25%        69.290000                     0.000000                   0.000000  \n",
       "50%        94.575000                     0.000000                   0.000000  \n",
       "75%       126.000000                     0.000000                   1.000000  \n",
       "max      5400.000000                     8.000000                   5.000000  "
      ]
     },
     "execution_count": 23,
     "metadata": {},
     "output_type": "execute_result"
    }
   ],
   "source": [
    "df.describe()"
   ]
  },
  {
   "cell_type": "code",
   "execution_count": 24,
   "id": "58151bec",
   "metadata": {},
   "outputs": [],
   "source": [
    "mean_of_agent = np.mean(df['agent'])"
   ]
  },
  {
   "cell_type": "code",
   "execution_count": 25,
   "id": "9ae1c003",
   "metadata": {},
   "outputs": [],
   "source": [
    "df['agent'].fillna(mean_of_agent, inplace=True)"
   ]
  },
  {
   "cell_type": "markdown",
   "id": "a34dbf62",
   "metadata": {},
   "source": [
    "#### Handling the missing values in \"company\" column"
   ]
  },
  {
   "cell_type": "code",
   "execution_count": 26,
   "id": "4ddf10a3",
   "metadata": {},
   "outputs": [
    {
     "data": {
      "text/plain": [
       "0        NaN\n",
       "1        NaN\n",
       "2        NaN\n",
       "3        NaN\n",
       "4        NaN\n",
       "          ..\n",
       "119385   NaN\n",
       "119386   NaN\n",
       "119387   NaN\n",
       "119388   NaN\n",
       "119389   NaN\n",
       "Name: company, Length: 119390, dtype: float64"
      ]
     },
     "execution_count": 26,
     "metadata": {},
     "output_type": "execute_result"
    }
   ],
   "source": [
    "df['company']"
   ]
  },
  {
   "cell_type": "code",
   "execution_count": 27,
   "id": "71bff848",
   "metadata": {},
   "outputs": [
    {
     "name": "stdout",
     "output_type": "stream",
     "text": [
      "column 'company' has 112593 missing values\n"
     ]
    }
   ],
   "source": [
    "print(\"column 'company' has\",df['company'].isna().sum(), \"missing values\")"
   ]
  },
  {
   "cell_type": "code",
   "execution_count": 28,
   "id": "378efdac",
   "metadata": {},
   "outputs": [
    {
     "name": "stdout",
     "output_type": "stream",
     "text": [
      "<class 'pandas.core.frame.DataFrame'>\n",
      "RangeIndex: 119390 entries, 0 to 119389\n",
      "Data columns (total 32 columns):\n",
      " #   Column                          Non-Null Count   Dtype  \n",
      "---  ------                          --------------   -----  \n",
      " 0   hotel                           119390 non-null  object \n",
      " 1   is_canceled                     119390 non-null  int64  \n",
      " 2   lead_time                       119390 non-null  int64  \n",
      " 3   arrival_date_year               119390 non-null  int64  \n",
      " 4   arrival_date_month              119390 non-null  object \n",
      " 5   arrival_date_week_number        119390 non-null  int64  \n",
      " 6   arrival_date_day_of_month       119390 non-null  int64  \n",
      " 7   stays_in_weekend_nights         119390 non-null  int64  \n",
      " 8   stays_in_week_nights            119390 non-null  int64  \n",
      " 9   adults                          119390 non-null  int64  \n",
      " 10  children                        119390 non-null  float64\n",
      " 11  babies                          119390 non-null  int64  \n",
      " 12  meal                            119390 non-null  object \n",
      " 13  country                         119390 non-null  object \n",
      " 14  market_segment                  119390 non-null  object \n",
      " 15  distribution_channel            119390 non-null  object \n",
      " 16  is_repeated_guest               119390 non-null  int64  \n",
      " 17  previous_cancellations          119390 non-null  int64  \n",
      " 18  previous_bookings_not_canceled  119390 non-null  int64  \n",
      " 19  reserved_room_type              119390 non-null  object \n",
      " 20  assigned_room_type              119390 non-null  object \n",
      " 21  booking_changes                 119390 non-null  int64  \n",
      " 22  deposit_type                    119390 non-null  object \n",
      " 23  agent                           119390 non-null  float64\n",
      " 24  company                         6797 non-null    float64\n",
      " 25  days_in_waiting_list            119390 non-null  int64  \n",
      " 26  customer_type                   119390 non-null  object \n",
      " 27  adr                             119390 non-null  float64\n",
      " 28  required_car_parking_spaces     119390 non-null  int64  \n",
      " 29  total_of_special_requests       119390 non-null  int64  \n",
      " 30  reservation_status              119390 non-null  object \n",
      " 31  reservation_status_date         119390 non-null  object \n",
      "dtypes: float64(4), int64(16), object(12)\n",
      "memory usage: 29.1+ MB\n"
     ]
    }
   ],
   "source": [
    "df.info()"
   ]
  },
  {
   "cell_type": "markdown",
   "id": "8a9f1b5a",
   "metadata": {},
   "source": [
    "**`Note:-`** Since there is a very high occurences of missing values.\n",
    "* Replacing the missing values with \"mean\" or with any other value is not a good options as it can impact the predictions negatively.\n",
    "* Therefore, we will remove this column as it does not contain important information"
   ]
  },
  {
   "cell_type": "code",
   "execution_count": 29,
   "id": "edbf69df",
   "metadata": {},
   "outputs": [],
   "source": [
    "df.drop('company', axis=1, inplace=True)"
   ]
  },
  {
   "cell_type": "code",
   "execution_count": 30,
   "id": "55b5ca75",
   "metadata": {
    "scrolled": true
   },
   "outputs": [
    {
     "data": {
      "text/plain": [
       "hotel                             0\n",
       "is_canceled                       0\n",
       "lead_time                         0\n",
       "arrival_date_year                 0\n",
       "arrival_date_month                0\n",
       "arrival_date_week_number          0\n",
       "arrival_date_day_of_month         0\n",
       "stays_in_weekend_nights           0\n",
       "stays_in_week_nights              0\n",
       "adults                            0\n",
       "children                          0\n",
       "babies                            0\n",
       "meal                              0\n",
       "country                           0\n",
       "market_segment                    0\n",
       "distribution_channel              0\n",
       "is_repeated_guest                 0\n",
       "previous_cancellations            0\n",
       "previous_bookings_not_canceled    0\n",
       "reserved_room_type                0\n",
       "assigned_room_type                0\n",
       "booking_changes                   0\n",
       "deposit_type                      0\n",
       "agent                             0\n",
       "days_in_waiting_list              0\n",
       "customer_type                     0\n",
       "adr                               0\n",
       "required_car_parking_spaces       0\n",
       "total_of_special_requests         0\n",
       "reservation_status                0\n",
       "reservation_status_date           0\n",
       "dtype: int64"
      ]
     },
     "execution_count": 30,
     "metadata": {},
     "output_type": "execute_result"
    }
   ],
   "source": [
    "df.isnull().sum()"
   ]
  },
  {
   "cell_type": "markdown",
   "id": "5d2c53ad",
   "metadata": {},
   "source": [
    "### ---------------------------------------------Handling Categorical Values----------------------------------------------------------------"
   ]
  },
  {
   "cell_type": "code",
   "execution_count": 31,
   "id": "cb852a09",
   "metadata": {},
   "outputs": [
    {
     "data": {
      "text/plain": [
       "int64      16\n",
       "object     12\n",
       "float64     3\n",
       "Name: count, dtype: int64"
      ]
     },
     "execution_count": 31,
     "metadata": {},
     "output_type": "execute_result"
    }
   ],
   "source": [
    "df.dtypes.value_counts()"
   ]
  },
  {
   "cell_type": "code",
   "execution_count": 32,
   "id": "01e9ee2c",
   "metadata": {},
   "outputs": [
    {
     "name": "stdout",
     "output_type": "stream",
     "text": [
      "['hotel', 'arrival_date_month', 'meal', 'country', 'market_segment', 'distribution_channel', 'reserved_room_type', 'assigned_room_type', 'deposit_type', 'customer_type', 'reservation_status', 'reservation_status_date']\n"
     ]
    }
   ],
   "source": [
    "categorical_columns = df.select_dtypes(include=['object', 'category']).columns.tolist()\n",
    "print(categorical_columns)"
   ]
  },
  {
   "cell_type": "markdown",
   "id": "682f96dc",
   "metadata": {},
   "source": [
    "#### Now, getting the information of categories from these columns"
   ]
  },
  {
   "cell_type": "code",
   "execution_count": 33,
   "id": "56345f6c",
   "metadata": {},
   "outputs": [
    {
     "name": "stdout",
     "output_type": "stream",
     "text": [
      "hotel\n",
      "City Hotel      79330\n",
      "Resort Hotel    40060\n",
      "Name: count, dtype: int64\n",
      "-------------------------------\n",
      "arrival_date_month\n",
      "August       13877\n",
      "July         12661\n",
      "May          11791\n",
      "October      11160\n",
      "April        11089\n",
      "June         10939\n",
      "September    10508\n",
      "March         9794\n",
      "February      8068\n",
      "November      6794\n",
      "December      6780\n",
      "January       5929\n",
      "Name: count, dtype: int64\n",
      "-------------------------------\n",
      "meal\n",
      "BB           92310\n",
      "HB           14463\n",
      "SC           10650\n",
      "Undefined     1169\n",
      "FB             798\n",
      "Name: count, dtype: int64\n",
      "-------------------------------\n",
      "country\n",
      "PRT       48590\n",
      "Others    18590\n",
      "GBR       12129\n",
      "FRA       10415\n",
      "ESP        8568\n",
      "DEU        7287\n",
      "ITA        3766\n",
      "IRL        3375\n",
      "BEL        2342\n",
      "BRA        2224\n",
      "NLD        2104\n",
      "Name: count, dtype: int64\n",
      "-------------------------------\n",
      "market_segment\n",
      "Online TA        56477\n",
      "Offline TA/TO    24219\n",
      "Groups           19811\n",
      "Direct           12606\n",
      "Corporate         5295\n",
      "Complementary      743\n",
      "Aviation           237\n",
      "Undefined            2\n",
      "Name: count, dtype: int64\n",
      "-------------------------------\n",
      "distribution_channel\n",
      "TA/TO        97870\n",
      "Direct       14645\n",
      "Corporate     6677\n",
      "GDS            193\n",
      "Undefined        5\n",
      "Name: count, dtype: int64\n",
      "-------------------------------\n",
      "reserved_room_type\n",
      "A    85994\n",
      "D    19201\n",
      "E     6535\n",
      "F     2897\n",
      "G     2094\n",
      "B     1118\n",
      "C      932\n",
      "H      601\n",
      "P       12\n",
      "L        6\n",
      "Name: count, dtype: int64\n",
      "-------------------------------\n",
      "assigned_room_type\n",
      "A    74053\n",
      "D    25322\n",
      "E     7806\n",
      "F     3751\n",
      "G     2553\n",
      "C     2375\n",
      "B     2163\n",
      "H      712\n",
      "I      363\n",
      "K      279\n",
      "P       12\n",
      "L        1\n",
      "Name: count, dtype: int64\n",
      "-------------------------------\n",
      "deposit_type\n",
      "No Deposit    104641\n",
      "Non Refund     14587\n",
      "Refundable       162\n",
      "Name: count, dtype: int64\n",
      "-------------------------------\n",
      "customer_type\n",
      "Transient          89613\n",
      "Transient-Party    25124\n",
      "Contract            4076\n",
      "Group                577\n",
      "Name: count, dtype: int64\n",
      "-------------------------------\n",
      "reservation_status\n",
      "Check-Out    75166\n",
      "Canceled     43017\n",
      "No-Show       1207\n",
      "Name: count, dtype: int64\n",
      "-------------------------------\n",
      "reservation_status_date\n",
      "2015-10-21    1461\n",
      "2015-07-06     805\n",
      "2016-11-25     790\n",
      "2015-01-01     763\n",
      "2016-01-18     625\n",
      "              ... \n",
      "2015-02-27       1\n",
      "2015-04-25       1\n",
      "2015-03-11       1\n",
      "2015-06-14       1\n",
      "2015-02-12       1\n",
      "Name: count, Length: 926, dtype: int64\n",
      "-------------------------------\n"
     ]
    }
   ],
   "source": [
    "for cat_cols in categorical_columns:\n",
    "    print(df[cat_cols].value_counts())\n",
    "    print(\"-------------------------------\")"
   ]
  },
  {
   "cell_type": "markdown",
   "id": "8f0635e1",
   "metadata": {},
   "source": [
    "Here’s a summary of each categorical column and its distribution:\n",
    "\n",
    "#### 1. **hotel**\n",
    "- **City Hotel**: 79,330 bookings\n",
    "- **Resort Hotel**: 40,060 bookings\n",
    "\n",
    "#### 2. **arrival_date_month**\n",
    "- **August**: 13,877 bookings\n",
    "- **July**: 12,661 bookings\n",
    "- **May**: 11,791 bookings\n",
    "- **October**: 11,160 bookings\n",
    "- **April**: 11,089 bookings\n",
    "- **June**: 10,939 bookings\n",
    "- **September**: 10,508 bookings\n",
    "- **March**: 9,794 bookings\n",
    "- **February**: 8,068 bookings\n",
    "- **November**: 6,794 bookings\n",
    "- **December**: 6,780 bookings\n",
    "- **January**: 5,929 bookings\n",
    "\n",
    "#### 3. **meal**\n",
    "- **BB (Bed & Breakfast)**: 92,310 bookings\n",
    "- **HB (Half Board)**: 14,463 bookings\n",
    "- **SC (Self Catering)**: 10,650 bookings\n",
    "- **Undefined**: 1,169 bookings\n",
    "- **FB (Full Board)**: 798 bookings\n",
    "\n",
    "#### 4. **country**\n",
    "- **PRT (Portugal)**: 48,590 bookings\n",
    "- **Others**: 18,590 bookings\n",
    "- **GBR (United Kingdom)**: 12,129 bookings\n",
    "- **FRA (France)**: 10,415 bookings\n",
    "- **ESP (Spain)**: 8,568 bookings\n",
    "- **DEU (Germany)**: 7,287 bookings\n",
    "- **ITA (Italy)**: 3,766 bookings\n",
    "- **IRL (Ireland)**: 3,375 bookings\n",
    "- **BEL (Belgium)**: 2,342 bookings\n",
    "- **BRA (Brazil)**: 2,224 bookings\n",
    "- **NLD (Netherlands)**: 2,104 bookings\n",
    "\n",
    "#### 5. **market_segment**\n",
    "- **Online TA**: 56,477 bookings\n",
    "- **Offline TA/TO**: 24,219 bookings\n",
    "- **Groups**: 19,811 bookings\n",
    "- **Direct**: 12,606 bookings\n",
    "- **Corporate**: 5,295 bookings\n",
    "- **Complementary**: 743 bookings\n",
    "- **Aviation**: 237 bookings\n",
    "- **Undefined**: 2 bookings\n",
    "\n",
    "#### 6. **distribution_channel**\n",
    "- **TA/TO**: 97,870 bookings\n",
    "- **Direct**: 14,645 bookings\n",
    "- **Corporate**: 6,677 bookings\n",
    "- **GDS**: 193 bookings\n",
    "- **Undefined**: 5 bookings\n",
    "\n",
    "#### 7. **reserved_room_type**\n",
    "- **A**: 85,994 bookings\n",
    "- **D**: 19,201 bookings\n",
    "- **E**: 6,535 bookings\n",
    "- **F**: 2,897 bookings\n",
    "- **G**: 2,094 bookings\n",
    "- **B**: 1,118 bookings\n",
    "- **C**: 932 bookings\n",
    "- **H**: 601 bookings\n",
    "- **P**: 12 bookings\n",
    "- **L**: 6 bookings\n",
    "\n",
    "#### 8. **assigned_room_type**\n",
    "- **A**: 74,053 bookings\n",
    "- **D**: 25,322 bookings\n",
    "- **E**: 7,806 bookings\n",
    "- **F**: 3,751 bookings\n",
    "- **G**: 2,553 bookings\n",
    "- **C**: 2,375 bookings\n",
    "- **B**: 2,163 bookings\n",
    "- **H**: 712 bookings\n",
    "- **I**: 363 bookings\n",
    "- **K**: 279 bookings\n",
    "- **P**: 12 bookings\n",
    "- **L**: 1 booking\n",
    "\n",
    "#### 9. **deposit_type**\n",
    "- **No Deposit**: 104,641 bookings\n",
    "- **Non Refund**: 14,587 bookings\n",
    "- **Refundable**: 162 bookings\n",
    "\n",
    "#### 10. **customer_type**\n",
    "- **Transient**: 89,613 bookings\n",
    "- **Transient-Party**: 25,124 bookings\n",
    "- **Contract**: 4,076 bookings\n",
    "- **Group**: 577 bookings\n",
    "\n",
    "#### 11. **reservation_status**\n",
    "- **Check-Out**: 75,166 bookings\n",
    "- **Canceled**: 43,017 bookings\n",
    "- **No-Show**: 1,207 bookings\n"
   ]
  },
  {
   "cell_type": "markdown",
   "id": "3d3a3473",
   "metadata": {},
   "source": [
    "### Converting Categorical variables to numeric variables"
   ]
  },
  {
   "cell_type": "markdown",
   "id": "d7e1a459",
   "metadata": {},
   "source": [
    "#### --------------------------------------------------------Handling `\"hotel\"` column------------------------------------------------------------------------"
   ]
  },
  {
   "cell_type": "markdown",
   "id": "9b3dffe4",
   "metadata": {},
   "source": [
    "**`Note:-`** Now, to handle column **\"hotel\"**. We will use dummy variable method and convert both categories **\"City Hotel\"** and **\"Resort Hotel\"** to **\"0\"** and **\"1\"** respectively."
   ]
  },
  {
   "cell_type": "code",
   "execution_count": 34,
   "id": "fd2f308f",
   "metadata": {},
   "outputs": [
    {
     "data": {
      "text/html": [
       "<div>\n",
       "<style scoped>\n",
       "    .dataframe tbody tr th:only-of-type {\n",
       "        vertical-align: middle;\n",
       "    }\n",
       "\n",
       "    .dataframe tbody tr th {\n",
       "        vertical-align: top;\n",
       "    }\n",
       "\n",
       "    .dataframe thead th {\n",
       "        text-align: right;\n",
       "    }\n",
       "</style>\n",
       "<table border=\"1\" class=\"dataframe\">\n",
       "  <thead>\n",
       "    <tr style=\"text-align: right;\">\n",
       "      <th></th>\n",
       "      <th>Resort Hotel</th>\n",
       "    </tr>\n",
       "  </thead>\n",
       "  <tbody>\n",
       "    <tr>\n",
       "      <th>0</th>\n",
       "      <td>1</td>\n",
       "    </tr>\n",
       "    <tr>\n",
       "      <th>1</th>\n",
       "      <td>1</td>\n",
       "    </tr>\n",
       "    <tr>\n",
       "      <th>2</th>\n",
       "      <td>1</td>\n",
       "    </tr>\n",
       "    <tr>\n",
       "      <th>3</th>\n",
       "      <td>1</td>\n",
       "    </tr>\n",
       "    <tr>\n",
       "      <th>4</th>\n",
       "      <td>1</td>\n",
       "    </tr>\n",
       "    <tr>\n",
       "      <th>...</th>\n",
       "      <td>...</td>\n",
       "    </tr>\n",
       "    <tr>\n",
       "      <th>119385</th>\n",
       "      <td>0</td>\n",
       "    </tr>\n",
       "    <tr>\n",
       "      <th>119386</th>\n",
       "      <td>0</td>\n",
       "    </tr>\n",
       "    <tr>\n",
       "      <th>119387</th>\n",
       "      <td>0</td>\n",
       "    </tr>\n",
       "    <tr>\n",
       "      <th>119388</th>\n",
       "      <td>0</td>\n",
       "    </tr>\n",
       "    <tr>\n",
       "      <th>119389</th>\n",
       "      <td>0</td>\n",
       "    </tr>\n",
       "  </tbody>\n",
       "</table>\n",
       "<p>119390 rows × 1 columns</p>\n",
       "</div>"
      ],
      "text/plain": [
       "        Resort Hotel\n",
       "0                  1\n",
       "1                  1\n",
       "2                  1\n",
       "3                  1\n",
       "4                  1\n",
       "...              ...\n",
       "119385             0\n",
       "119386             0\n",
       "119387             0\n",
       "119388             0\n",
       "119389             0\n",
       "\n",
       "[119390 rows x 1 columns]"
      ]
     },
     "execution_count": 34,
     "metadata": {},
     "output_type": "execute_result"
    }
   ],
   "source": [
    "pd.get_dummies(df['hotel'], drop_first=True).astype(int)"
   ]
  },
  {
   "cell_type": "code",
   "execution_count": 35,
   "id": "225a1572",
   "metadata": {},
   "outputs": [],
   "source": [
    "df = pd.concat([df, pd.get_dummies(df['hotel'],drop_first=True).astype(int)], axis=1)"
   ]
  },
  {
   "cell_type": "markdown",
   "id": "bd5f1e34",
   "metadata": {},
   "source": [
    "**`Note:-`** Now, dropping the **\"hotel\"** column because we have concatinated **\"Resort Hotel\"** column in the dataframe"
   ]
  },
  {
   "cell_type": "code",
   "execution_count": 36,
   "id": "d0144c3d",
   "metadata": {},
   "outputs": [],
   "source": [
    "df.drop('hotel', axis=1, inplace=True)"
   ]
  },
  {
   "cell_type": "markdown",
   "id": "022d26c9",
   "metadata": {},
   "source": [
    "#### ------------------------------------------------------Handling `\"arrival_date_month\"` column---------------------------------------------------------------------"
   ]
  },
  {
   "cell_type": "code",
   "execution_count": 37,
   "id": "b0b4efe0",
   "metadata": {},
   "outputs": [
    {
     "data": {
      "text/plain": [
       "arrival_date_month\n",
       "August       13877\n",
       "July         12661\n",
       "May          11791\n",
       "October      11160\n",
       "April        11089\n",
       "June         10939\n",
       "September    10508\n",
       "March         9794\n",
       "February      8068\n",
       "November      6794\n",
       "December      6780\n",
       "January       5929\n",
       "Name: count, dtype: int64"
      ]
     },
     "execution_count": 37,
     "metadata": {},
     "output_type": "execute_result"
    }
   ],
   "source": [
    "df['arrival_date_month'].value_counts()"
   ]
  },
  {
   "cell_type": "markdown",
   "id": "9354d6ea",
   "metadata": {},
   "source": [
    "**`Note:-`** Since this columns has months as categories. We are going to convert the month to their respective numbers (i.e. 1-12).\n",
    "We will not create dummy vairable as it can make the dataset sparse."
   ]
  },
  {
   "cell_type": "code",
   "execution_count": 38,
   "id": "d1530047",
   "metadata": {},
   "outputs": [],
   "source": [
    "month_mapping = {\n",
    "    'January': 1, 'February': 2, 'March': 3, 'April': 4, 'May': 5, 'June': 6,\n",
    "    'July': 7, 'August': 8, 'September': 9, 'October': 10, 'November': 11, 'December': 12\n",
    "}\n",
    "df['arrival_date_month'] = df['arrival_date_month'].map(month_mapping)"
   ]
  },
  {
   "cell_type": "markdown",
   "id": "4274c3e7",
   "metadata": {},
   "source": [
    "#### ------------------------------------------------------Handling `\"meal\"` column------------------------------------------------------------------------------"
   ]
  },
  {
   "cell_type": "markdown",
   "id": "6c5ec4b2",
   "metadata": {},
   "source": [
    "**`Note:-`** We will make dummy variable for this column and remove the category **\"Undefined\"**."
   ]
  },
  {
   "cell_type": "code",
   "execution_count": 39,
   "id": "7f9e4118",
   "metadata": {},
   "outputs": [
    {
     "data": {
      "text/plain": [
       "meal\n",
       "BB           92310\n",
       "HB           14463\n",
       "SC           10650\n",
       "Undefined     1169\n",
       "FB             798\n",
       "Name: count, dtype: int64"
      ]
     },
     "execution_count": 39,
     "metadata": {},
     "output_type": "execute_result"
    }
   ],
   "source": [
    "df['meal'].value_counts()"
   ]
  },
  {
   "cell_type": "code",
   "execution_count": 40,
   "id": "dc09870f",
   "metadata": {},
   "outputs": [],
   "source": [
    "# pd.get_dummies(df['meal']).astype(int).drop('Undefined',axis=1)\n",
    "df = pd.concat([df, pd.get_dummies(df['meal'],prefix=\"meal\").astype(int).drop('meal_Undefined',axis=1)], axis=1)"
   ]
  },
  {
   "cell_type": "markdown",
   "id": "7061395c",
   "metadata": {},
   "source": [
    "Now dropping the **`meal`** column because it is an extra column as we have made dummies for this column."
   ]
  },
  {
   "cell_type": "code",
   "execution_count": 41,
   "id": "78a4c9df",
   "metadata": {},
   "outputs": [],
   "source": [
    "df.drop('meal', axis=1, inplace=True)"
   ]
  },
  {
   "cell_type": "markdown",
   "id": "626df9cd",
   "metadata": {},
   "source": [
    "#### ------------------------------------------------------Handling `\"country\"` column------------------------------------------------------------------------------"
   ]
  },
  {
   "cell_type": "markdown",
   "id": "e1b2ed88",
   "metadata": {},
   "source": [
    "**`Note:-`** We will use **label encoder** in this column. Because it has more than 5 categories. So, using dummy variable would be irrelevant because it can increase the number of columns and would be difficult to handle."
   ]
  },
  {
   "cell_type": "code",
   "execution_count": 42,
   "id": "fd749445",
   "metadata": {},
   "outputs": [],
   "source": [
    "from sklearn.preprocessing import LabelEncoder"
   ]
  },
  {
   "cell_type": "code",
   "execution_count": 43,
   "id": "904472eb",
   "metadata": {},
   "outputs": [],
   "source": [
    "label_encoder = LabelEncoder()\n",
    "\n",
    "df['country_encoded'] = label_encoder.fit_transform(df['country'])\n",
    "country_mapping = dict(zip(label_encoder.classes_, label_encoder.transform(label_encoder.classes_)))"
   ]
  },
  {
   "cell_type": "code",
   "execution_count": 44,
   "id": "46bce012",
   "metadata": {},
   "outputs": [
    {
     "data": {
      "text/plain": [
       "{'BEL': 0,\n",
       " 'BRA': 1,\n",
       " 'DEU': 2,\n",
       " 'ESP': 3,\n",
       " 'FRA': 4,\n",
       " 'GBR': 5,\n",
       " 'IRL': 6,\n",
       " 'ITA': 7,\n",
       " 'NLD': 8,\n",
       " 'Others': 9,\n",
       " 'PRT': 10}"
      ]
     },
     "execution_count": 44,
     "metadata": {},
     "output_type": "execute_result"
    }
   ],
   "source": [
    "country_mapping"
   ]
  },
  {
   "cell_type": "markdown",
   "id": "aebf1e9d",
   "metadata": {},
   "source": [
    "### `Here is the mapping of countries to their respective labels in a more presentable format:`\n",
    "\n",
    "| Country | Label |\n",
    "|---------|-------|\n",
    "| BEL     | 0     |\n",
    "| BRA     | 1     |\n",
    "| DEU     | 2     |\n",
    "| ESP     | 3     |\n",
    "| FRA     | 4     |\n",
    "| GBR     | 5     |\n",
    "| IRL     | 6     |\n",
    "| ITA     | 7     |\n",
    "| NLD     | 8     |\n",
    "| Others  | 9     |\n",
    "| PRT     | 10    |\n",
    "\n",
    "This table shows how each country has been assigned a unique numerical label. The label can be used in machine learning models that require numerical input for categorical data."
   ]
  },
  {
   "cell_type": "markdown",
   "id": "b4614c85",
   "metadata": {},
   "source": [
    "**`Note:-`** Now we will remove **\"country\"** because we have already created a new column for this **\"country_encoded\"**"
   ]
  },
  {
   "cell_type": "code",
   "execution_count": 45,
   "id": "c3f9d44e",
   "metadata": {
    "scrolled": true
   },
   "outputs": [],
   "source": [
    "df.drop('country', axis=1, inplace=True)"
   ]
  },
  {
   "cell_type": "markdown",
   "id": "ab7c4ce4",
   "metadata": {},
   "source": [
    "#### ------------------------------------------------------Handling `\"market_segment\"` column------------------------------------------------------------------------------"
   ]
  },
  {
   "cell_type": "code",
   "execution_count": 46,
   "id": "584fb5e0",
   "metadata": {},
   "outputs": [
    {
     "data": {
      "text/plain": [
       "market_segment\n",
       "Online TA        56477\n",
       "Offline TA/TO    24219\n",
       "Groups           19811\n",
       "Direct           12606\n",
       "Corporate         5295\n",
       "Complementary      743\n",
       "Aviation           237\n",
       "Undefined            2\n",
       "Name: count, dtype: int64"
      ]
     },
     "execution_count": 46,
     "metadata": {},
     "output_type": "execute_result"
    }
   ],
   "source": [
    "df['market_segment'].value_counts()"
   ]
  },
  {
   "cell_type": "markdown",
   "id": "b3e3338a",
   "metadata": {},
   "source": [
    "**`Note:-`** We will use label encoder. Because dummy variable method will increase the number of variables."
   ]
  },
  {
   "cell_type": "code",
   "execution_count": 47,
   "id": "e9bd10d3",
   "metadata": {},
   "outputs": [
    {
     "data": {
      "text/plain": [
       "{'Aviation': 0,\n",
       " 'Complementary': 1,\n",
       " 'Corporate': 2,\n",
       " 'Direct': 3,\n",
       " 'Groups': 4,\n",
       " 'Offline TA/TO': 5,\n",
       " 'Online TA': 6,\n",
       " 'Undefined': 7}"
      ]
     },
     "execution_count": 47,
     "metadata": {},
     "output_type": "execute_result"
    }
   ],
   "source": [
    "label_encoder = LabelEncoder()\n",
    "\n",
    "df['market_segment_encoded'] = label_encoder.fit_transform(df['market_segment'])\n",
    "market_segment_mapping = dict(zip(label_encoder.classes_, label_encoder.transform(label_encoder.classes_)))\n",
    "market_segment_mapping"
   ]
  },
  {
   "cell_type": "markdown",
   "id": "4868de91",
   "metadata": {},
   "source": [
    "#### `Here is the mapping of market segments to their respective labels in a presentable format:`\n",
    "\n",
    "| Market Segment  | Label |\n",
    "|-----------------|-------|\n",
    "| Aviation        | 0     |\n",
    "| Complementary   | 1     |\n",
    "| Corporate       | 2     |\n",
    "| Direct          | 3     |\n",
    "| Groups          | 4     |\n",
    "| Offline TA/TO   | 5     |\n",
    "| Online TA       | 6     |\n",
    "| Undefined       | 7     |\n",
    "\n",
    "This table provides a clear overview of the different market segments and their corresponding numeric labels, which are useful for data processing and analysis in machine learning models."
   ]
  },
  {
   "cell_type": "markdown",
   "id": "0ce8c2a5",
   "metadata": {},
   "source": [
    "**`Note:-`** Now, removing the **\"market_segment\"** because we have already created a new column using label encoder."
   ]
  },
  {
   "cell_type": "code",
   "execution_count": 48,
   "id": "f57a2abc",
   "metadata": {},
   "outputs": [],
   "source": [
    "df.drop('market_segment', axis=1, inplace=True)"
   ]
  },
  {
   "cell_type": "markdown",
   "id": "0266616c",
   "metadata": {},
   "source": [
    "#### ------------------------------------------------------Handling `\"distribution_channel\"` column------------------------------------------------------------------------------"
   ]
  },
  {
   "cell_type": "code",
   "execution_count": 49,
   "id": "6dfeffff",
   "metadata": {},
   "outputs": [
    {
     "data": {
      "text/plain": [
       "distribution_channel\n",
       "TA/TO        97870\n",
       "Direct       14645\n",
       "Corporate     6677\n",
       "GDS            193\n",
       "Undefined        5\n",
       "Name: count, dtype: int64"
      ]
     },
     "execution_count": 49,
     "metadata": {},
     "output_type": "execute_result"
    }
   ],
   "source": [
    "df['distribution_channel'].value_counts()"
   ]
  },
  {
   "cell_type": "markdown",
   "id": "3c8d0b7c",
   "metadata": {},
   "source": [
    "**`Note:-`** Since **\"distribution_channel\"** has only 5 categories. We will create **dummy variables** for that."
   ]
  },
  {
   "cell_type": "code",
   "execution_count": 50,
   "id": "24b3ea13",
   "metadata": {},
   "outputs": [],
   "source": [
    "# pd.get_dummies(df['meal']).astype(int).drop('Undefined',axis=1)\n",
    "df = pd.concat([df, pd.get_dummies(df['distribution_channel'], prefix=\"distrib_chnl\").astype(int).drop('distrib_chnl_Undefined', axis=1)], axis=1)"
   ]
  },
  {
   "cell_type": "code",
   "execution_count": 51,
   "id": "d3429b9c",
   "metadata": {},
   "outputs": [],
   "source": [
    "df.drop('distribution_channel', axis=1, inplace=True)"
   ]
  },
  {
   "cell_type": "markdown",
   "id": "19d5f7cd",
   "metadata": {},
   "source": [
    "#### ------------------------------------------------------Handling `\"reserved_room_type\"` column------------------------------------------------------------------------------"
   ]
  },
  {
   "cell_type": "markdown",
   "id": "ca0bc7d1",
   "metadata": {},
   "source": [
    "**`Note:-`** Now, converting these categories into numbers according to their alphabetical order respectively"
   ]
  },
  {
   "cell_type": "code",
   "execution_count": 52,
   "id": "f563cb48",
   "metadata": {},
   "outputs": [],
   "source": [
    "sorted_room_types = sorted(df['reserved_room_type'].value_counts().keys().unique())\n",
    "room_type_mapping = {room_type: i + 1 for i, room_type in enumerate(sorted_room_types)}\n"
   ]
  },
  {
   "cell_type": "code",
   "execution_count": 53,
   "id": "1751f502",
   "metadata": {},
   "outputs": [
    {
     "data": {
      "text/plain": [
       "{'A': 1,\n",
       " 'B': 2,\n",
       " 'C': 3,\n",
       " 'D': 4,\n",
       " 'E': 5,\n",
       " 'F': 6,\n",
       " 'G': 7,\n",
       " 'H': 8,\n",
       " 'L': 9,\n",
       " 'P': 10}"
      ]
     },
     "execution_count": 53,
     "metadata": {},
     "output_type": "execute_result"
    }
   ],
   "source": [
    "room_type_mapping"
   ]
  },
  {
   "cell_type": "code",
   "execution_count": 54,
   "id": "051246db",
   "metadata": {},
   "outputs": [],
   "source": [
    "df['reserved_room_type_encoded'] = df['reserved_room_type'].map(room_type_mapping)"
   ]
  },
  {
   "cell_type": "code",
   "execution_count": 55,
   "id": "40cbd214",
   "metadata": {},
   "outputs": [],
   "source": [
    "df.drop('reserved_room_type', axis=1, inplace=True)"
   ]
  },
  {
   "cell_type": "markdown",
   "id": "53cc70b0",
   "metadata": {},
   "source": [
    "#### ------------------------------------------------------Handling `\"assigned_room_type\"` column------------------------------------------------------------------------------"
   ]
  },
  {
   "cell_type": "markdown",
   "id": "f6e64ee5",
   "metadata": {},
   "source": [
    "**`Note:-`** Now, converting these categories into numbers according to their alphabetical order respectively"
   ]
  },
  {
   "cell_type": "code",
   "execution_count": 56,
   "id": "f8037963",
   "metadata": {},
   "outputs": [],
   "source": [
    "sorted_assign_room_types = sorted(df['assigned_room_type'].value_counts().keys().unique())\n",
    "assign_room_type_mapping = {room_type: i + 1 for i, room_type in enumerate(sorted_assign_room_types)}\n",
    "df['assign_room_type_encoded'] = df['assigned_room_type'].map(assign_room_type_mapping)"
   ]
  },
  {
   "cell_type": "code",
   "execution_count": 57,
   "id": "bf167044",
   "metadata": {},
   "outputs": [],
   "source": [
    "df.drop('assigned_room_type', axis=1, inplace=True)"
   ]
  },
  {
   "cell_type": "markdown",
   "id": "40685797",
   "metadata": {},
   "source": [
    "#### ------------------------------------------------------Handling `\"deposit_type\"` column------------------------------------------------------------------------------"
   ]
  },
  {
   "cell_type": "code",
   "execution_count": 58,
   "id": "575984b1",
   "metadata": {},
   "outputs": [
    {
     "data": {
      "text/plain": [
       "deposit_type\n",
       "No Deposit    104641\n",
       "Non Refund     14587\n",
       "Refundable       162\n",
       "Name: count, dtype: int64"
      ]
     },
     "execution_count": 58,
     "metadata": {},
     "output_type": "execute_result"
    }
   ],
   "source": [
    "df['deposit_type'].value_counts()"
   ]
  },
  {
   "cell_type": "markdown",
   "id": "d776ed74",
   "metadata": {},
   "source": [
    "**`Note:-`** This column has 3 categories. Therefore, we will create dummy variables"
   ]
  },
  {
   "cell_type": "code",
   "execution_count": 59,
   "id": "e6e74235",
   "metadata": {},
   "outputs": [],
   "source": [
    "df = pd.concat([df, pd.get_dummies(df['deposit_type'],prefix=\"type\").astype(int).drop('type_Refundable',axis=1)], axis=1)"
   ]
  },
  {
   "cell_type": "code",
   "execution_count": 60,
   "id": "e32c47eb",
   "metadata": {},
   "outputs": [],
   "source": [
    "df.drop('deposit_type', axis=1, inplace=True)"
   ]
  },
  {
   "cell_type": "markdown",
   "id": "ad602ab9",
   "metadata": {},
   "source": [
    "#### ------------------------------------------------------Handling `\"customer_type\"` column------------------------------------------------------------------------------"
   ]
  },
  {
   "cell_type": "code",
   "execution_count": 61,
   "id": "4c8fe0f4",
   "metadata": {},
   "outputs": [
    {
     "data": {
      "text/plain": [
       "customer_type\n",
       "Transient          89613\n",
       "Transient-Party    25124\n",
       "Contract            4076\n",
       "Group                577\n",
       "Name: count, dtype: int64"
      ]
     },
     "execution_count": 61,
     "metadata": {},
     "output_type": "execute_result"
    }
   ],
   "source": [
    "df['customer_type'].value_counts()"
   ]
  },
  {
   "cell_type": "code",
   "execution_count": 62,
   "id": "ef45bfdb",
   "metadata": {},
   "outputs": [],
   "source": [
    "df = pd.concat([df, pd.get_dummies(df['customer_type'],prefix=\"cust_type\").astype(int).drop('cust_type_Group',axis=1)], axis=1)"
   ]
  },
  {
   "cell_type": "code",
   "execution_count": 63,
   "id": "1d6181f0",
   "metadata": {},
   "outputs": [],
   "source": [
    "df.drop('customer_type', axis=1, inplace=True)"
   ]
  },
  {
   "cell_type": "markdown",
   "id": "c1a207f5",
   "metadata": {},
   "source": [
    "#### ------------------------------------------------------Handling `\"reservation_status\"` column------------------------------------------------------------------------------\n"
   ]
  },
  {
   "cell_type": "code",
   "execution_count": 64,
   "id": "d8db1219",
   "metadata": {},
   "outputs": [
    {
     "data": {
      "text/plain": [
       "reservation_status\n",
       "Check-Out    75166\n",
       "Canceled     43017\n",
       "No-Show       1207\n",
       "Name: count, dtype: int64"
      ]
     },
     "execution_count": 64,
     "metadata": {},
     "output_type": "execute_result"
    }
   ],
   "source": [
    "df['reservation_status'].value_counts()"
   ]
  },
  {
   "cell_type": "code",
   "execution_count": 65,
   "id": "b2194454",
   "metadata": {},
   "outputs": [],
   "source": [
    "df = pd.concat([df, pd.get_dummies(df['reservation_status'],prefix=\"res_status\").astype(int).drop('res_status_No-Show',axis=1)], axis=1)"
   ]
  },
  {
   "cell_type": "code",
   "execution_count": 66,
   "id": "1b4de14e",
   "metadata": {},
   "outputs": [],
   "source": [
    "df.drop('reservation_status', axis=1, inplace=True)"
   ]
  },
  {
   "cell_type": "markdown",
   "id": "5c5af973",
   "metadata": {},
   "source": [
    "#### ------------------------------------------------------Handling `\"reservation_status_date\"` column------------------------------------------------------------------------------\n"
   ]
  },
  {
   "cell_type": "code",
   "execution_count": 67,
   "id": "b57269c2",
   "metadata": {},
   "outputs": [
    {
     "data": {
      "text/plain": [
       "['hotel',\n",
       " 'arrival_date_month',\n",
       " 'meal',\n",
       " 'country',\n",
       " 'market_segment',\n",
       " 'distribution_channel',\n",
       " 'reserved_room_type',\n",
       " 'assigned_room_type',\n",
       " 'deposit_type',\n",
       " 'customer_type',\n",
       " 'reservation_status',\n",
       " 'reservation_status_date']"
      ]
     },
     "execution_count": 67,
     "metadata": {},
     "output_type": "execute_result"
    }
   ],
   "source": [
    "categorical_columns"
   ]
  },
  {
   "cell_type": "code",
   "execution_count": 68,
   "id": "146e23a8",
   "metadata": {},
   "outputs": [],
   "source": [
    "categorical_columns.remove('reservation_status_date')"
   ]
  },
  {
   "cell_type": "code",
   "execution_count": 69,
   "id": "debd05d9",
   "metadata": {},
   "outputs": [
    {
     "data": {
      "text/plain": [
       "['hotel',\n",
       " 'arrival_date_month',\n",
       " 'meal',\n",
       " 'country',\n",
       " 'market_segment',\n",
       " 'distribution_channel',\n",
       " 'reserved_room_type',\n",
       " 'assigned_room_type',\n",
       " 'deposit_type',\n",
       " 'customer_type',\n",
       " 'reservation_status']"
      ]
     },
     "execution_count": 69,
     "metadata": {},
     "output_type": "execute_result"
    }
   ],
   "source": [
    "(categorical_columns)"
   ]
  },
  {
   "cell_type": "markdown",
   "id": "549571cf",
   "metadata": {},
   "source": [
    "# 2. Exploratory Data Analysis (EDA)\n",
    "\n",
    "* Provide a detailed EDA including visualizations. Focus on understanding booking trends, customer demographics, and cancellation patterns.\n",
    "* Use visualizations to highlight key insights, such as:\n",
    "    * Seasonality in bookings.\n",
    "    * Distribution of stays across different hotel types.\n",
    "    * Average daily rate (ADR) trends.\n",
    "    * Cancellation rates and factors affecting cancellations."
   ]
  },
  {
   "cell_type": "markdown",
   "id": "9d9c6cdc",
   "metadata": {},
   "source": [
    "### `Note:-`\n",
    "* Now to continue the further analysis, we have to convert the `\"reservation_status_date\"` to datetime format using pandas.\n",
    "* Also we wil again import the dataset to a new variable to analyse the categorical values."
   ]
  },
  {
   "cell_type": "code",
   "execution_count": 70,
   "id": "5220ec92",
   "metadata": {},
   "outputs": [],
   "source": [
    "df_clone = pd.read_csv('hotel_bookings.csv')"
   ]
  },
  {
   "cell_type": "code",
   "execution_count": 71,
   "id": "df29c75f",
   "metadata": {},
   "outputs": [],
   "source": [
    "df_categorical = df_clone[categorical_columns]"
   ]
  },
  {
   "cell_type": "code",
   "execution_count": 72,
   "id": "04eb01a6",
   "metadata": {},
   "outputs": [],
   "source": [
    "df['reservation_status_date'] = pd.to_datetime(df['reservation_status_date']) # converting the datatype from 'object' to 'datetime'"
   ]
  },
  {
   "cell_type": "code",
   "execution_count": 73,
   "id": "5e84cf63",
   "metadata": {},
   "outputs": [],
   "source": [
    "df = pd.concat([df, df['reservation_status_date']], axis=1)"
   ]
  },
  {
   "cell_type": "code",
   "execution_count": 74,
   "id": "b5de0b0e",
   "metadata": {},
   "outputs": [
    {
     "data": {
      "text/html": [
       "<div>\n",
       "<style scoped>\n",
       "    .dataframe tbody tr th:only-of-type {\n",
       "        vertical-align: middle;\n",
       "    }\n",
       "\n",
       "    .dataframe tbody tr th {\n",
       "        vertical-align: top;\n",
       "    }\n",
       "\n",
       "    .dataframe thead th {\n",
       "        text-align: right;\n",
       "    }\n",
       "</style>\n",
       "<table border=\"1\" class=\"dataframe\">\n",
       "  <thead>\n",
       "    <tr style=\"text-align: right;\">\n",
       "      <th></th>\n",
       "      <th>reservation_status_date</th>\n",
       "      <th>reservation_status_date</th>\n",
       "    </tr>\n",
       "  </thead>\n",
       "  <tbody>\n",
       "    <tr>\n",
       "      <th>0</th>\n",
       "      <td>2015-07-01</td>\n",
       "      <td>2015-07-01</td>\n",
       "    </tr>\n",
       "    <tr>\n",
       "      <th>1</th>\n",
       "      <td>2015-07-01</td>\n",
       "      <td>2015-07-01</td>\n",
       "    </tr>\n",
       "    <tr>\n",
       "      <th>2</th>\n",
       "      <td>2015-07-02</td>\n",
       "      <td>2015-07-02</td>\n",
       "    </tr>\n",
       "    <tr>\n",
       "      <th>3</th>\n",
       "      <td>2015-07-02</td>\n",
       "      <td>2015-07-02</td>\n",
       "    </tr>\n",
       "    <tr>\n",
       "      <th>4</th>\n",
       "      <td>2015-07-03</td>\n",
       "      <td>2015-07-03</td>\n",
       "    </tr>\n",
       "    <tr>\n",
       "      <th>...</th>\n",
       "      <td>...</td>\n",
       "      <td>...</td>\n",
       "    </tr>\n",
       "    <tr>\n",
       "      <th>119385</th>\n",
       "      <td>2017-09-06</td>\n",
       "      <td>2017-09-06</td>\n",
       "    </tr>\n",
       "    <tr>\n",
       "      <th>119386</th>\n",
       "      <td>2017-09-07</td>\n",
       "      <td>2017-09-07</td>\n",
       "    </tr>\n",
       "    <tr>\n",
       "      <th>119387</th>\n",
       "      <td>2017-09-07</td>\n",
       "      <td>2017-09-07</td>\n",
       "    </tr>\n",
       "    <tr>\n",
       "      <th>119388</th>\n",
       "      <td>2017-09-07</td>\n",
       "      <td>2017-09-07</td>\n",
       "    </tr>\n",
       "    <tr>\n",
       "      <th>119389</th>\n",
       "      <td>2017-09-07</td>\n",
       "      <td>2017-09-07</td>\n",
       "    </tr>\n",
       "  </tbody>\n",
       "</table>\n",
       "<p>119390 rows × 2 columns</p>\n",
       "</div>"
      ],
      "text/plain": [
       "       reservation_status_date reservation_status_date\n",
       "0                   2015-07-01              2015-07-01\n",
       "1                   2015-07-01              2015-07-01\n",
       "2                   2015-07-02              2015-07-02\n",
       "3                   2015-07-02              2015-07-02\n",
       "4                   2015-07-03              2015-07-03\n",
       "...                        ...                     ...\n",
       "119385              2017-09-06              2017-09-06\n",
       "119386              2017-09-07              2017-09-07\n",
       "119387              2017-09-07              2017-09-07\n",
       "119388              2017-09-07              2017-09-07\n",
       "119389              2017-09-07              2017-09-07\n",
       "\n",
       "[119390 rows x 2 columns]"
      ]
     },
     "execution_count": 74,
     "metadata": {},
     "output_type": "execute_result"
    }
   ],
   "source": [
    "df_dates = df['reservation_status_date']\n",
    "df_dates"
   ]
  },
  {
   "cell_type": "code",
   "execution_count": 75,
   "id": "3e2d0829",
   "metadata": {},
   "outputs": [],
   "source": [
    "df_dates = df_dates.iloc[:, :1]"
   ]
  },
  {
   "cell_type": "code",
   "execution_count": 76,
   "id": "4ff7f0aa",
   "metadata": {},
   "outputs": [],
   "source": [
    "df.drop('reservation_status_date', axis=1, inplace=True)"
   ]
  },
  {
   "cell_type": "code",
   "execution_count": 77,
   "id": "e1a9d0a1",
   "metadata": {},
   "outputs": [],
   "source": [
    "df = pd.concat([df, df_dates], axis=1)"
   ]
  },
  {
   "cell_type": "code",
   "execution_count": 78,
   "id": "0e8cf8b0",
   "metadata": {},
   "outputs": [
    {
     "data": {
      "text/html": [
       "<div>\n",
       "<style scoped>\n",
       "    .dataframe tbody tr th:only-of-type {\n",
       "        vertical-align: middle;\n",
       "    }\n",
       "\n",
       "    .dataframe tbody tr th {\n",
       "        vertical-align: top;\n",
       "    }\n",
       "\n",
       "    .dataframe thead th {\n",
       "        text-align: right;\n",
       "    }\n",
       "</style>\n",
       "<table border=\"1\" class=\"dataframe\">\n",
       "  <thead>\n",
       "    <tr style=\"text-align: right;\">\n",
       "      <th></th>\n",
       "      <th>is_canceled</th>\n",
       "      <th>lead_time</th>\n",
       "      <th>arrival_date_year</th>\n",
       "      <th>arrival_date_month</th>\n",
       "      <th>arrival_date_week_number</th>\n",
       "      <th>arrival_date_day_of_month</th>\n",
       "      <th>stays_in_weekend_nights</th>\n",
       "      <th>stays_in_week_nights</th>\n",
       "      <th>adults</th>\n",
       "      <th>children</th>\n",
       "      <th>...</th>\n",
       "      <th>reserved_room_type_encoded</th>\n",
       "      <th>assign_room_type_encoded</th>\n",
       "      <th>type_No Deposit</th>\n",
       "      <th>type_Non Refund</th>\n",
       "      <th>cust_type_Contract</th>\n",
       "      <th>cust_type_Transient</th>\n",
       "      <th>cust_type_Transient-Party</th>\n",
       "      <th>res_status_Canceled</th>\n",
       "      <th>res_status_Check-Out</th>\n",
       "      <th>reservation_status_date</th>\n",
       "    </tr>\n",
       "  </thead>\n",
       "  <tbody>\n",
       "    <tr>\n",
       "      <th>0</th>\n",
       "      <td>0</td>\n",
       "      <td>342</td>\n",
       "      <td>2015</td>\n",
       "      <td>7</td>\n",
       "      <td>27</td>\n",
       "      <td>1</td>\n",
       "      <td>0</td>\n",
       "      <td>0</td>\n",
       "      <td>2</td>\n",
       "      <td>0.0</td>\n",
       "      <td>...</td>\n",
       "      <td>3</td>\n",
       "      <td>3</td>\n",
       "      <td>1</td>\n",
       "      <td>0</td>\n",
       "      <td>0</td>\n",
       "      <td>1</td>\n",
       "      <td>0</td>\n",
       "      <td>0</td>\n",
       "      <td>1</td>\n",
       "      <td>2015-07-01</td>\n",
       "    </tr>\n",
       "    <tr>\n",
       "      <th>1</th>\n",
       "      <td>0</td>\n",
       "      <td>737</td>\n",
       "      <td>2015</td>\n",
       "      <td>7</td>\n",
       "      <td>27</td>\n",
       "      <td>1</td>\n",
       "      <td>0</td>\n",
       "      <td>0</td>\n",
       "      <td>2</td>\n",
       "      <td>0.0</td>\n",
       "      <td>...</td>\n",
       "      <td>3</td>\n",
       "      <td>3</td>\n",
       "      <td>1</td>\n",
       "      <td>0</td>\n",
       "      <td>0</td>\n",
       "      <td>1</td>\n",
       "      <td>0</td>\n",
       "      <td>0</td>\n",
       "      <td>1</td>\n",
       "      <td>2015-07-01</td>\n",
       "    </tr>\n",
       "    <tr>\n",
       "      <th>2</th>\n",
       "      <td>0</td>\n",
       "      <td>7</td>\n",
       "      <td>2015</td>\n",
       "      <td>7</td>\n",
       "      <td>27</td>\n",
       "      <td>1</td>\n",
       "      <td>0</td>\n",
       "      <td>1</td>\n",
       "      <td>1</td>\n",
       "      <td>0.0</td>\n",
       "      <td>...</td>\n",
       "      <td>1</td>\n",
       "      <td>3</td>\n",
       "      <td>1</td>\n",
       "      <td>0</td>\n",
       "      <td>0</td>\n",
       "      <td>1</td>\n",
       "      <td>0</td>\n",
       "      <td>0</td>\n",
       "      <td>1</td>\n",
       "      <td>2015-07-02</td>\n",
       "    </tr>\n",
       "    <tr>\n",
       "      <th>3</th>\n",
       "      <td>0</td>\n",
       "      <td>13</td>\n",
       "      <td>2015</td>\n",
       "      <td>7</td>\n",
       "      <td>27</td>\n",
       "      <td>1</td>\n",
       "      <td>0</td>\n",
       "      <td>1</td>\n",
       "      <td>1</td>\n",
       "      <td>0.0</td>\n",
       "      <td>...</td>\n",
       "      <td>1</td>\n",
       "      <td>1</td>\n",
       "      <td>1</td>\n",
       "      <td>0</td>\n",
       "      <td>0</td>\n",
       "      <td>1</td>\n",
       "      <td>0</td>\n",
       "      <td>0</td>\n",
       "      <td>1</td>\n",
       "      <td>2015-07-02</td>\n",
       "    </tr>\n",
       "    <tr>\n",
       "      <th>4</th>\n",
       "      <td>0</td>\n",
       "      <td>14</td>\n",
       "      <td>2015</td>\n",
       "      <td>7</td>\n",
       "      <td>27</td>\n",
       "      <td>1</td>\n",
       "      <td>0</td>\n",
       "      <td>2</td>\n",
       "      <td>2</td>\n",
       "      <td>0.0</td>\n",
       "      <td>...</td>\n",
       "      <td>1</td>\n",
       "      <td>1</td>\n",
       "      <td>1</td>\n",
       "      <td>0</td>\n",
       "      <td>0</td>\n",
       "      <td>1</td>\n",
       "      <td>0</td>\n",
       "      <td>0</td>\n",
       "      <td>1</td>\n",
       "      <td>2015-07-03</td>\n",
       "    </tr>\n",
       "    <tr>\n",
       "      <th>...</th>\n",
       "      <td>...</td>\n",
       "      <td>...</td>\n",
       "      <td>...</td>\n",
       "      <td>...</td>\n",
       "      <td>...</td>\n",
       "      <td>...</td>\n",
       "      <td>...</td>\n",
       "      <td>...</td>\n",
       "      <td>...</td>\n",
       "      <td>...</td>\n",
       "      <td>...</td>\n",
       "      <td>...</td>\n",
       "      <td>...</td>\n",
       "      <td>...</td>\n",
       "      <td>...</td>\n",
       "      <td>...</td>\n",
       "      <td>...</td>\n",
       "      <td>...</td>\n",
       "      <td>...</td>\n",
       "      <td>...</td>\n",
       "      <td>...</td>\n",
       "    </tr>\n",
       "    <tr>\n",
       "      <th>119385</th>\n",
       "      <td>0</td>\n",
       "      <td>23</td>\n",
       "      <td>2017</td>\n",
       "      <td>8</td>\n",
       "      <td>35</td>\n",
       "      <td>30</td>\n",
       "      <td>2</td>\n",
       "      <td>5</td>\n",
       "      <td>2</td>\n",
       "      <td>0.0</td>\n",
       "      <td>...</td>\n",
       "      <td>1</td>\n",
       "      <td>1</td>\n",
       "      <td>1</td>\n",
       "      <td>0</td>\n",
       "      <td>0</td>\n",
       "      <td>1</td>\n",
       "      <td>0</td>\n",
       "      <td>0</td>\n",
       "      <td>1</td>\n",
       "      <td>2017-09-06</td>\n",
       "    </tr>\n",
       "    <tr>\n",
       "      <th>119386</th>\n",
       "      <td>0</td>\n",
       "      <td>102</td>\n",
       "      <td>2017</td>\n",
       "      <td>8</td>\n",
       "      <td>35</td>\n",
       "      <td>31</td>\n",
       "      <td>2</td>\n",
       "      <td>5</td>\n",
       "      <td>3</td>\n",
       "      <td>0.0</td>\n",
       "      <td>...</td>\n",
       "      <td>5</td>\n",
       "      <td>5</td>\n",
       "      <td>1</td>\n",
       "      <td>0</td>\n",
       "      <td>0</td>\n",
       "      <td>1</td>\n",
       "      <td>0</td>\n",
       "      <td>0</td>\n",
       "      <td>1</td>\n",
       "      <td>2017-09-07</td>\n",
       "    </tr>\n",
       "    <tr>\n",
       "      <th>119387</th>\n",
       "      <td>0</td>\n",
       "      <td>34</td>\n",
       "      <td>2017</td>\n",
       "      <td>8</td>\n",
       "      <td>35</td>\n",
       "      <td>31</td>\n",
       "      <td>2</td>\n",
       "      <td>5</td>\n",
       "      <td>2</td>\n",
       "      <td>0.0</td>\n",
       "      <td>...</td>\n",
       "      <td>4</td>\n",
       "      <td>4</td>\n",
       "      <td>1</td>\n",
       "      <td>0</td>\n",
       "      <td>0</td>\n",
       "      <td>1</td>\n",
       "      <td>0</td>\n",
       "      <td>0</td>\n",
       "      <td>1</td>\n",
       "      <td>2017-09-07</td>\n",
       "    </tr>\n",
       "    <tr>\n",
       "      <th>119388</th>\n",
       "      <td>0</td>\n",
       "      <td>109</td>\n",
       "      <td>2017</td>\n",
       "      <td>8</td>\n",
       "      <td>35</td>\n",
       "      <td>31</td>\n",
       "      <td>2</td>\n",
       "      <td>5</td>\n",
       "      <td>2</td>\n",
       "      <td>0.0</td>\n",
       "      <td>...</td>\n",
       "      <td>1</td>\n",
       "      <td>1</td>\n",
       "      <td>1</td>\n",
       "      <td>0</td>\n",
       "      <td>0</td>\n",
       "      <td>1</td>\n",
       "      <td>0</td>\n",
       "      <td>0</td>\n",
       "      <td>1</td>\n",
       "      <td>2017-09-07</td>\n",
       "    </tr>\n",
       "    <tr>\n",
       "      <th>119389</th>\n",
       "      <td>0</td>\n",
       "      <td>205</td>\n",
       "      <td>2017</td>\n",
       "      <td>8</td>\n",
       "      <td>35</td>\n",
       "      <td>29</td>\n",
       "      <td>2</td>\n",
       "      <td>7</td>\n",
       "      <td>2</td>\n",
       "      <td>0.0</td>\n",
       "      <td>...</td>\n",
       "      <td>1</td>\n",
       "      <td>1</td>\n",
       "      <td>1</td>\n",
       "      <td>0</td>\n",
       "      <td>0</td>\n",
       "      <td>1</td>\n",
       "      <td>0</td>\n",
       "      <td>0</td>\n",
       "      <td>1</td>\n",
       "      <td>2017-09-07</td>\n",
       "    </tr>\n",
       "  </tbody>\n",
       "</table>\n",
       "<p>119390 rows × 41 columns</p>\n",
       "</div>"
      ],
      "text/plain": [
       "        is_canceled  lead_time  arrival_date_year  arrival_date_month  \\\n",
       "0                 0        342               2015                   7   \n",
       "1                 0        737               2015                   7   \n",
       "2                 0          7               2015                   7   \n",
       "3                 0         13               2015                   7   \n",
       "4                 0         14               2015                   7   \n",
       "...             ...        ...                ...                 ...   \n",
       "119385            0         23               2017                   8   \n",
       "119386            0        102               2017                   8   \n",
       "119387            0         34               2017                   8   \n",
       "119388            0        109               2017                   8   \n",
       "119389            0        205               2017                   8   \n",
       "\n",
       "        arrival_date_week_number  arrival_date_day_of_month  \\\n",
       "0                             27                          1   \n",
       "1                             27                          1   \n",
       "2                             27                          1   \n",
       "3                             27                          1   \n",
       "4                             27                          1   \n",
       "...                          ...                        ...   \n",
       "119385                        35                         30   \n",
       "119386                        35                         31   \n",
       "119387                        35                         31   \n",
       "119388                        35                         31   \n",
       "119389                        35                         29   \n",
       "\n",
       "        stays_in_weekend_nights  stays_in_week_nights  adults  children  ...  \\\n",
       "0                             0                     0       2       0.0  ...   \n",
       "1                             0                     0       2       0.0  ...   \n",
       "2                             0                     1       1       0.0  ...   \n",
       "3                             0                     1       1       0.0  ...   \n",
       "4                             0                     2       2       0.0  ...   \n",
       "...                         ...                   ...     ...       ...  ...   \n",
       "119385                        2                     5       2       0.0  ...   \n",
       "119386                        2                     5       3       0.0  ...   \n",
       "119387                        2                     5       2       0.0  ...   \n",
       "119388                        2                     5       2       0.0  ...   \n",
       "119389                        2                     7       2       0.0  ...   \n",
       "\n",
       "        reserved_room_type_encoded  assign_room_type_encoded  type_No Deposit  \\\n",
       "0                                3                         3                1   \n",
       "1                                3                         3                1   \n",
       "2                                1                         3                1   \n",
       "3                                1                         1                1   \n",
       "4                                1                         1                1   \n",
       "...                            ...                       ...              ...   \n",
       "119385                           1                         1                1   \n",
       "119386                           5                         5                1   \n",
       "119387                           4                         4                1   \n",
       "119388                           1                         1                1   \n",
       "119389                           1                         1                1   \n",
       "\n",
       "        type_Non Refund  cust_type_Contract  cust_type_Transient  \\\n",
       "0                     0                   0                    1   \n",
       "1                     0                   0                    1   \n",
       "2                     0                   0                    1   \n",
       "3                     0                   0                    1   \n",
       "4                     0                   0                    1   \n",
       "...                 ...                 ...                  ...   \n",
       "119385                0                   0                    1   \n",
       "119386                0                   0                    1   \n",
       "119387                0                   0                    1   \n",
       "119388                0                   0                    1   \n",
       "119389                0                   0                    1   \n",
       "\n",
       "        cust_type_Transient-Party  res_status_Canceled  res_status_Check-Out  \\\n",
       "0                               0                    0                     1   \n",
       "1                               0                    0                     1   \n",
       "2                               0                    0                     1   \n",
       "3                               0                    0                     1   \n",
       "4                               0                    0                     1   \n",
       "...                           ...                  ...                   ...   \n",
       "119385                          0                    0                     1   \n",
       "119386                          0                    0                     1   \n",
       "119387                          0                    0                     1   \n",
       "119388                          0                    0                     1   \n",
       "119389                          0                    0                     1   \n",
       "\n",
       "        reservation_status_date  \n",
       "0                    2015-07-01  \n",
       "1                    2015-07-01  \n",
       "2                    2015-07-02  \n",
       "3                    2015-07-02  \n",
       "4                    2015-07-03  \n",
       "...                         ...  \n",
       "119385               2017-09-06  \n",
       "119386               2017-09-07  \n",
       "119387               2017-09-07  \n",
       "119388               2017-09-07  \n",
       "119389               2017-09-07  \n",
       "\n",
       "[119390 rows x 41 columns]"
      ]
     },
     "execution_count": 78,
     "metadata": {},
     "output_type": "execute_result"
    }
   ],
   "source": [
    "df"
   ]
  },
  {
   "cell_type": "code",
   "execution_count": 79,
   "id": "e0502fb1",
   "metadata": {},
   "outputs": [
    {
     "data": {
      "text/plain": [
       "0        2015-07-01\n",
       "1        2015-07-01\n",
       "2        2015-07-02\n",
       "3        2015-07-02\n",
       "4        2015-07-03\n",
       "            ...    \n",
       "119385   2017-09-06\n",
       "119386   2017-09-07\n",
       "119387   2017-09-07\n",
       "119388   2017-09-07\n",
       "119389   2017-09-07\n",
       "Name: reservation_status_date, Length: 119390, dtype: datetime64[ns]"
      ]
     },
     "execution_count": 79,
     "metadata": {},
     "output_type": "execute_result"
    }
   ],
   "source": [
    "df['reservation_status_date']"
   ]
  },
  {
   "cell_type": "code",
   "execution_count": 80,
   "id": "292ade0b",
   "metadata": {},
   "outputs": [
    {
     "data": {
      "text/html": [
       "<div>\n",
       "<style scoped>\n",
       "    .dataframe tbody tr th:only-of-type {\n",
       "        vertical-align: middle;\n",
       "    }\n",
       "\n",
       "    .dataframe tbody tr th {\n",
       "        vertical-align: top;\n",
       "    }\n",
       "\n",
       "    .dataframe thead th {\n",
       "        text-align: right;\n",
       "    }\n",
       "</style>\n",
       "<table border=\"1\" class=\"dataframe\">\n",
       "  <thead>\n",
       "    <tr style=\"text-align: right;\">\n",
       "      <th></th>\n",
       "      <th>is_canceled</th>\n",
       "      <th>lead_time</th>\n",
       "      <th>arrival_date_year</th>\n",
       "      <th>arrival_date_month</th>\n",
       "      <th>arrival_date_week_number</th>\n",
       "      <th>arrival_date_day_of_month</th>\n",
       "      <th>stays_in_weekend_nights</th>\n",
       "      <th>stays_in_week_nights</th>\n",
       "      <th>adults</th>\n",
       "      <th>children</th>\n",
       "      <th>...</th>\n",
       "      <th>reserved_room_type_encoded</th>\n",
       "      <th>assign_room_type_encoded</th>\n",
       "      <th>type_No Deposit</th>\n",
       "      <th>type_Non Refund</th>\n",
       "      <th>cust_type_Contract</th>\n",
       "      <th>cust_type_Transient</th>\n",
       "      <th>cust_type_Transient-Party</th>\n",
       "      <th>res_status_Canceled</th>\n",
       "      <th>res_status_Check-Out</th>\n",
       "      <th>reservation_status_date</th>\n",
       "    </tr>\n",
       "  </thead>\n",
       "  <tbody>\n",
       "    <tr>\n",
       "      <th>0</th>\n",
       "      <td>0</td>\n",
       "      <td>342</td>\n",
       "      <td>2015</td>\n",
       "      <td>7</td>\n",
       "      <td>27</td>\n",
       "      <td>1</td>\n",
       "      <td>0</td>\n",
       "      <td>0</td>\n",
       "      <td>2</td>\n",
       "      <td>0.0</td>\n",
       "      <td>...</td>\n",
       "      <td>3</td>\n",
       "      <td>3</td>\n",
       "      <td>1</td>\n",
       "      <td>0</td>\n",
       "      <td>0</td>\n",
       "      <td>1</td>\n",
       "      <td>0</td>\n",
       "      <td>0</td>\n",
       "      <td>1</td>\n",
       "      <td>2015-07-01</td>\n",
       "    </tr>\n",
       "    <tr>\n",
       "      <th>1</th>\n",
       "      <td>0</td>\n",
       "      <td>737</td>\n",
       "      <td>2015</td>\n",
       "      <td>7</td>\n",
       "      <td>27</td>\n",
       "      <td>1</td>\n",
       "      <td>0</td>\n",
       "      <td>0</td>\n",
       "      <td>2</td>\n",
       "      <td>0.0</td>\n",
       "      <td>...</td>\n",
       "      <td>3</td>\n",
       "      <td>3</td>\n",
       "      <td>1</td>\n",
       "      <td>0</td>\n",
       "      <td>0</td>\n",
       "      <td>1</td>\n",
       "      <td>0</td>\n",
       "      <td>0</td>\n",
       "      <td>1</td>\n",
       "      <td>2015-07-01</td>\n",
       "    </tr>\n",
       "    <tr>\n",
       "      <th>2</th>\n",
       "      <td>0</td>\n",
       "      <td>7</td>\n",
       "      <td>2015</td>\n",
       "      <td>7</td>\n",
       "      <td>27</td>\n",
       "      <td>1</td>\n",
       "      <td>0</td>\n",
       "      <td>1</td>\n",
       "      <td>1</td>\n",
       "      <td>0.0</td>\n",
       "      <td>...</td>\n",
       "      <td>1</td>\n",
       "      <td>3</td>\n",
       "      <td>1</td>\n",
       "      <td>0</td>\n",
       "      <td>0</td>\n",
       "      <td>1</td>\n",
       "      <td>0</td>\n",
       "      <td>0</td>\n",
       "      <td>1</td>\n",
       "      <td>2015-07-02</td>\n",
       "    </tr>\n",
       "    <tr>\n",
       "      <th>3</th>\n",
       "      <td>0</td>\n",
       "      <td>13</td>\n",
       "      <td>2015</td>\n",
       "      <td>7</td>\n",
       "      <td>27</td>\n",
       "      <td>1</td>\n",
       "      <td>0</td>\n",
       "      <td>1</td>\n",
       "      <td>1</td>\n",
       "      <td>0.0</td>\n",
       "      <td>...</td>\n",
       "      <td>1</td>\n",
       "      <td>1</td>\n",
       "      <td>1</td>\n",
       "      <td>0</td>\n",
       "      <td>0</td>\n",
       "      <td>1</td>\n",
       "      <td>0</td>\n",
       "      <td>0</td>\n",
       "      <td>1</td>\n",
       "      <td>2015-07-02</td>\n",
       "    </tr>\n",
       "    <tr>\n",
       "      <th>4</th>\n",
       "      <td>0</td>\n",
       "      <td>14</td>\n",
       "      <td>2015</td>\n",
       "      <td>7</td>\n",
       "      <td>27</td>\n",
       "      <td>1</td>\n",
       "      <td>0</td>\n",
       "      <td>2</td>\n",
       "      <td>2</td>\n",
       "      <td>0.0</td>\n",
       "      <td>...</td>\n",
       "      <td>1</td>\n",
       "      <td>1</td>\n",
       "      <td>1</td>\n",
       "      <td>0</td>\n",
       "      <td>0</td>\n",
       "      <td>1</td>\n",
       "      <td>0</td>\n",
       "      <td>0</td>\n",
       "      <td>1</td>\n",
       "      <td>2015-07-03</td>\n",
       "    </tr>\n",
       "    <tr>\n",
       "      <th>5</th>\n",
       "      <td>0</td>\n",
       "      <td>14</td>\n",
       "      <td>2015</td>\n",
       "      <td>7</td>\n",
       "      <td>27</td>\n",
       "      <td>1</td>\n",
       "      <td>0</td>\n",
       "      <td>2</td>\n",
       "      <td>2</td>\n",
       "      <td>0.0</td>\n",
       "      <td>...</td>\n",
       "      <td>1</td>\n",
       "      <td>1</td>\n",
       "      <td>1</td>\n",
       "      <td>0</td>\n",
       "      <td>0</td>\n",
       "      <td>1</td>\n",
       "      <td>0</td>\n",
       "      <td>0</td>\n",
       "      <td>1</td>\n",
       "      <td>2015-07-03</td>\n",
       "    </tr>\n",
       "    <tr>\n",
       "      <th>6</th>\n",
       "      <td>0</td>\n",
       "      <td>0</td>\n",
       "      <td>2015</td>\n",
       "      <td>7</td>\n",
       "      <td>27</td>\n",
       "      <td>1</td>\n",
       "      <td>0</td>\n",
       "      <td>2</td>\n",
       "      <td>2</td>\n",
       "      <td>0.0</td>\n",
       "      <td>...</td>\n",
       "      <td>3</td>\n",
       "      <td>3</td>\n",
       "      <td>1</td>\n",
       "      <td>0</td>\n",
       "      <td>0</td>\n",
       "      <td>1</td>\n",
       "      <td>0</td>\n",
       "      <td>0</td>\n",
       "      <td>1</td>\n",
       "      <td>2015-07-03</td>\n",
       "    </tr>\n",
       "    <tr>\n",
       "      <th>7</th>\n",
       "      <td>0</td>\n",
       "      <td>9</td>\n",
       "      <td>2015</td>\n",
       "      <td>7</td>\n",
       "      <td>27</td>\n",
       "      <td>1</td>\n",
       "      <td>0</td>\n",
       "      <td>2</td>\n",
       "      <td>2</td>\n",
       "      <td>0.0</td>\n",
       "      <td>...</td>\n",
       "      <td>3</td>\n",
       "      <td>3</td>\n",
       "      <td>1</td>\n",
       "      <td>0</td>\n",
       "      <td>0</td>\n",
       "      <td>1</td>\n",
       "      <td>0</td>\n",
       "      <td>0</td>\n",
       "      <td>1</td>\n",
       "      <td>2015-07-03</td>\n",
       "    </tr>\n",
       "    <tr>\n",
       "      <th>8</th>\n",
       "      <td>1</td>\n",
       "      <td>85</td>\n",
       "      <td>2015</td>\n",
       "      <td>7</td>\n",
       "      <td>27</td>\n",
       "      <td>1</td>\n",
       "      <td>0</td>\n",
       "      <td>3</td>\n",
       "      <td>2</td>\n",
       "      <td>0.0</td>\n",
       "      <td>...</td>\n",
       "      <td>1</td>\n",
       "      <td>1</td>\n",
       "      <td>1</td>\n",
       "      <td>0</td>\n",
       "      <td>0</td>\n",
       "      <td>1</td>\n",
       "      <td>0</td>\n",
       "      <td>1</td>\n",
       "      <td>0</td>\n",
       "      <td>2015-05-06</td>\n",
       "    </tr>\n",
       "    <tr>\n",
       "      <th>9</th>\n",
       "      <td>1</td>\n",
       "      <td>75</td>\n",
       "      <td>2015</td>\n",
       "      <td>7</td>\n",
       "      <td>27</td>\n",
       "      <td>1</td>\n",
       "      <td>0</td>\n",
       "      <td>3</td>\n",
       "      <td>2</td>\n",
       "      <td>0.0</td>\n",
       "      <td>...</td>\n",
       "      <td>4</td>\n",
       "      <td>4</td>\n",
       "      <td>1</td>\n",
       "      <td>0</td>\n",
       "      <td>0</td>\n",
       "      <td>1</td>\n",
       "      <td>0</td>\n",
       "      <td>1</td>\n",
       "      <td>0</td>\n",
       "      <td>2015-04-22</td>\n",
       "    </tr>\n",
       "    <tr>\n",
       "      <th>10</th>\n",
       "      <td>1</td>\n",
       "      <td>23</td>\n",
       "      <td>2015</td>\n",
       "      <td>7</td>\n",
       "      <td>27</td>\n",
       "      <td>1</td>\n",
       "      <td>0</td>\n",
       "      <td>4</td>\n",
       "      <td>2</td>\n",
       "      <td>0.0</td>\n",
       "      <td>...</td>\n",
       "      <td>5</td>\n",
       "      <td>5</td>\n",
       "      <td>1</td>\n",
       "      <td>0</td>\n",
       "      <td>0</td>\n",
       "      <td>1</td>\n",
       "      <td>0</td>\n",
       "      <td>1</td>\n",
       "      <td>0</td>\n",
       "      <td>2015-06-23</td>\n",
       "    </tr>\n",
       "    <tr>\n",
       "      <th>11</th>\n",
       "      <td>0</td>\n",
       "      <td>35</td>\n",
       "      <td>2015</td>\n",
       "      <td>7</td>\n",
       "      <td>27</td>\n",
       "      <td>1</td>\n",
       "      <td>0</td>\n",
       "      <td>4</td>\n",
       "      <td>2</td>\n",
       "      <td>0.0</td>\n",
       "      <td>...</td>\n",
       "      <td>4</td>\n",
       "      <td>4</td>\n",
       "      <td>1</td>\n",
       "      <td>0</td>\n",
       "      <td>0</td>\n",
       "      <td>1</td>\n",
       "      <td>0</td>\n",
       "      <td>0</td>\n",
       "      <td>1</td>\n",
       "      <td>2015-07-05</td>\n",
       "    </tr>\n",
       "    <tr>\n",
       "      <th>12</th>\n",
       "      <td>0</td>\n",
       "      <td>68</td>\n",
       "      <td>2015</td>\n",
       "      <td>7</td>\n",
       "      <td>27</td>\n",
       "      <td>1</td>\n",
       "      <td>0</td>\n",
       "      <td>4</td>\n",
       "      <td>2</td>\n",
       "      <td>0.0</td>\n",
       "      <td>...</td>\n",
       "      <td>4</td>\n",
       "      <td>5</td>\n",
       "      <td>1</td>\n",
       "      <td>0</td>\n",
       "      <td>0</td>\n",
       "      <td>1</td>\n",
       "      <td>0</td>\n",
       "      <td>0</td>\n",
       "      <td>1</td>\n",
       "      <td>2015-07-05</td>\n",
       "    </tr>\n",
       "    <tr>\n",
       "      <th>13</th>\n",
       "      <td>0</td>\n",
       "      <td>18</td>\n",
       "      <td>2015</td>\n",
       "      <td>7</td>\n",
       "      <td>27</td>\n",
       "      <td>1</td>\n",
       "      <td>0</td>\n",
       "      <td>4</td>\n",
       "      <td>2</td>\n",
       "      <td>1.0</td>\n",
       "      <td>...</td>\n",
       "      <td>7</td>\n",
       "      <td>7</td>\n",
       "      <td>1</td>\n",
       "      <td>0</td>\n",
       "      <td>0</td>\n",
       "      <td>1</td>\n",
       "      <td>0</td>\n",
       "      <td>0</td>\n",
       "      <td>1</td>\n",
       "      <td>2015-07-05</td>\n",
       "    </tr>\n",
       "    <tr>\n",
       "      <th>14</th>\n",
       "      <td>0</td>\n",
       "      <td>37</td>\n",
       "      <td>2015</td>\n",
       "      <td>7</td>\n",
       "      <td>27</td>\n",
       "      <td>1</td>\n",
       "      <td>0</td>\n",
       "      <td>4</td>\n",
       "      <td>2</td>\n",
       "      <td>0.0</td>\n",
       "      <td>...</td>\n",
       "      <td>5</td>\n",
       "      <td>5</td>\n",
       "      <td>1</td>\n",
       "      <td>0</td>\n",
       "      <td>0</td>\n",
       "      <td>1</td>\n",
       "      <td>0</td>\n",
       "      <td>0</td>\n",
       "      <td>1</td>\n",
       "      <td>2015-07-05</td>\n",
       "    </tr>\n",
       "    <tr>\n",
       "      <th>15</th>\n",
       "      <td>0</td>\n",
       "      <td>68</td>\n",
       "      <td>2015</td>\n",
       "      <td>7</td>\n",
       "      <td>27</td>\n",
       "      <td>1</td>\n",
       "      <td>0</td>\n",
       "      <td>4</td>\n",
       "      <td>2</td>\n",
       "      <td>0.0</td>\n",
       "      <td>...</td>\n",
       "      <td>4</td>\n",
       "      <td>5</td>\n",
       "      <td>1</td>\n",
       "      <td>0</td>\n",
       "      <td>0</td>\n",
       "      <td>1</td>\n",
       "      <td>0</td>\n",
       "      <td>0</td>\n",
       "      <td>1</td>\n",
       "      <td>2015-07-05</td>\n",
       "    </tr>\n",
       "    <tr>\n",
       "      <th>16</th>\n",
       "      <td>0</td>\n",
       "      <td>37</td>\n",
       "      <td>2015</td>\n",
       "      <td>7</td>\n",
       "      <td>27</td>\n",
       "      <td>1</td>\n",
       "      <td>0</td>\n",
       "      <td>4</td>\n",
       "      <td>2</td>\n",
       "      <td>0.0</td>\n",
       "      <td>...</td>\n",
       "      <td>5</td>\n",
       "      <td>5</td>\n",
       "      <td>1</td>\n",
       "      <td>0</td>\n",
       "      <td>1</td>\n",
       "      <td>0</td>\n",
       "      <td>0</td>\n",
       "      <td>0</td>\n",
       "      <td>1</td>\n",
       "      <td>2015-07-05</td>\n",
       "    </tr>\n",
       "    <tr>\n",
       "      <th>17</th>\n",
       "      <td>0</td>\n",
       "      <td>12</td>\n",
       "      <td>2015</td>\n",
       "      <td>7</td>\n",
       "      <td>27</td>\n",
       "      <td>1</td>\n",
       "      <td>0</td>\n",
       "      <td>1</td>\n",
       "      <td>2</td>\n",
       "      <td>0.0</td>\n",
       "      <td>...</td>\n",
       "      <td>1</td>\n",
       "      <td>5</td>\n",
       "      <td>1</td>\n",
       "      <td>0</td>\n",
       "      <td>0</td>\n",
       "      <td>1</td>\n",
       "      <td>0</td>\n",
       "      <td>0</td>\n",
       "      <td>1</td>\n",
       "      <td>2015-07-02</td>\n",
       "    </tr>\n",
       "    <tr>\n",
       "      <th>18</th>\n",
       "      <td>0</td>\n",
       "      <td>0</td>\n",
       "      <td>2015</td>\n",
       "      <td>7</td>\n",
       "      <td>27</td>\n",
       "      <td>1</td>\n",
       "      <td>0</td>\n",
       "      <td>1</td>\n",
       "      <td>2</td>\n",
       "      <td>0.0</td>\n",
       "      <td>...</td>\n",
       "      <td>1</td>\n",
       "      <td>7</td>\n",
       "      <td>1</td>\n",
       "      <td>0</td>\n",
       "      <td>0</td>\n",
       "      <td>1</td>\n",
       "      <td>0</td>\n",
       "      <td>0</td>\n",
       "      <td>1</td>\n",
       "      <td>2015-07-02</td>\n",
       "    </tr>\n",
       "    <tr>\n",
       "      <th>19</th>\n",
       "      <td>0</td>\n",
       "      <td>7</td>\n",
       "      <td>2015</td>\n",
       "      <td>7</td>\n",
       "      <td>27</td>\n",
       "      <td>1</td>\n",
       "      <td>0</td>\n",
       "      <td>4</td>\n",
       "      <td>2</td>\n",
       "      <td>0.0</td>\n",
       "      <td>...</td>\n",
       "      <td>7</td>\n",
       "      <td>7</td>\n",
       "      <td>1</td>\n",
       "      <td>0</td>\n",
       "      <td>0</td>\n",
       "      <td>1</td>\n",
       "      <td>0</td>\n",
       "      <td>0</td>\n",
       "      <td>1</td>\n",
       "      <td>2015-07-05</td>\n",
       "    </tr>\n",
       "  </tbody>\n",
       "</table>\n",
       "<p>20 rows × 41 columns</p>\n",
       "</div>"
      ],
      "text/plain": [
       "    is_canceled  lead_time  arrival_date_year  arrival_date_month  \\\n",
       "0             0        342               2015                   7   \n",
       "1             0        737               2015                   7   \n",
       "2             0          7               2015                   7   \n",
       "3             0         13               2015                   7   \n",
       "4             0         14               2015                   7   \n",
       "5             0         14               2015                   7   \n",
       "6             0          0               2015                   7   \n",
       "7             0          9               2015                   7   \n",
       "8             1         85               2015                   7   \n",
       "9             1         75               2015                   7   \n",
       "10            1         23               2015                   7   \n",
       "11            0         35               2015                   7   \n",
       "12            0         68               2015                   7   \n",
       "13            0         18               2015                   7   \n",
       "14            0         37               2015                   7   \n",
       "15            0         68               2015                   7   \n",
       "16            0         37               2015                   7   \n",
       "17            0         12               2015                   7   \n",
       "18            0          0               2015                   7   \n",
       "19            0          7               2015                   7   \n",
       "\n",
       "    arrival_date_week_number  arrival_date_day_of_month  \\\n",
       "0                         27                          1   \n",
       "1                         27                          1   \n",
       "2                         27                          1   \n",
       "3                         27                          1   \n",
       "4                         27                          1   \n",
       "5                         27                          1   \n",
       "6                         27                          1   \n",
       "7                         27                          1   \n",
       "8                         27                          1   \n",
       "9                         27                          1   \n",
       "10                        27                          1   \n",
       "11                        27                          1   \n",
       "12                        27                          1   \n",
       "13                        27                          1   \n",
       "14                        27                          1   \n",
       "15                        27                          1   \n",
       "16                        27                          1   \n",
       "17                        27                          1   \n",
       "18                        27                          1   \n",
       "19                        27                          1   \n",
       "\n",
       "    stays_in_weekend_nights  stays_in_week_nights  adults  children  ...  \\\n",
       "0                         0                     0       2       0.0  ...   \n",
       "1                         0                     0       2       0.0  ...   \n",
       "2                         0                     1       1       0.0  ...   \n",
       "3                         0                     1       1       0.0  ...   \n",
       "4                         0                     2       2       0.0  ...   \n",
       "5                         0                     2       2       0.0  ...   \n",
       "6                         0                     2       2       0.0  ...   \n",
       "7                         0                     2       2       0.0  ...   \n",
       "8                         0                     3       2       0.0  ...   \n",
       "9                         0                     3       2       0.0  ...   \n",
       "10                        0                     4       2       0.0  ...   \n",
       "11                        0                     4       2       0.0  ...   \n",
       "12                        0                     4       2       0.0  ...   \n",
       "13                        0                     4       2       1.0  ...   \n",
       "14                        0                     4       2       0.0  ...   \n",
       "15                        0                     4       2       0.0  ...   \n",
       "16                        0                     4       2       0.0  ...   \n",
       "17                        0                     1       2       0.0  ...   \n",
       "18                        0                     1       2       0.0  ...   \n",
       "19                        0                     4       2       0.0  ...   \n",
       "\n",
       "    reserved_room_type_encoded  assign_room_type_encoded  type_No Deposit  \\\n",
       "0                            3                         3                1   \n",
       "1                            3                         3                1   \n",
       "2                            1                         3                1   \n",
       "3                            1                         1                1   \n",
       "4                            1                         1                1   \n",
       "5                            1                         1                1   \n",
       "6                            3                         3                1   \n",
       "7                            3                         3                1   \n",
       "8                            1                         1                1   \n",
       "9                            4                         4                1   \n",
       "10                           5                         5                1   \n",
       "11                           4                         4                1   \n",
       "12                           4                         5                1   \n",
       "13                           7                         7                1   \n",
       "14                           5                         5                1   \n",
       "15                           4                         5                1   \n",
       "16                           5                         5                1   \n",
       "17                           1                         5                1   \n",
       "18                           1                         7                1   \n",
       "19                           7                         7                1   \n",
       "\n",
       "    type_Non Refund  cust_type_Contract  cust_type_Transient  \\\n",
       "0                 0                   0                    1   \n",
       "1                 0                   0                    1   \n",
       "2                 0                   0                    1   \n",
       "3                 0                   0                    1   \n",
       "4                 0                   0                    1   \n",
       "5                 0                   0                    1   \n",
       "6                 0                   0                    1   \n",
       "7                 0                   0                    1   \n",
       "8                 0                   0                    1   \n",
       "9                 0                   0                    1   \n",
       "10                0                   0                    1   \n",
       "11                0                   0                    1   \n",
       "12                0                   0                    1   \n",
       "13                0                   0                    1   \n",
       "14                0                   0                    1   \n",
       "15                0                   0                    1   \n",
       "16                0                   1                    0   \n",
       "17                0                   0                    1   \n",
       "18                0                   0                    1   \n",
       "19                0                   0                    1   \n",
       "\n",
       "    cust_type_Transient-Party  res_status_Canceled  res_status_Check-Out  \\\n",
       "0                           0                    0                     1   \n",
       "1                           0                    0                     1   \n",
       "2                           0                    0                     1   \n",
       "3                           0                    0                     1   \n",
       "4                           0                    0                     1   \n",
       "5                           0                    0                     1   \n",
       "6                           0                    0                     1   \n",
       "7                           0                    0                     1   \n",
       "8                           0                    1                     0   \n",
       "9                           0                    1                     0   \n",
       "10                          0                    1                     0   \n",
       "11                          0                    0                     1   \n",
       "12                          0                    0                     1   \n",
       "13                          0                    0                     1   \n",
       "14                          0                    0                     1   \n",
       "15                          0                    0                     1   \n",
       "16                          0                    0                     1   \n",
       "17                          0                    0                     1   \n",
       "18                          0                    0                     1   \n",
       "19                          0                    0                     1   \n",
       "\n",
       "    reservation_status_date  \n",
       "0                2015-07-01  \n",
       "1                2015-07-01  \n",
       "2                2015-07-02  \n",
       "3                2015-07-02  \n",
       "4                2015-07-03  \n",
       "5                2015-07-03  \n",
       "6                2015-07-03  \n",
       "7                2015-07-03  \n",
       "8                2015-05-06  \n",
       "9                2015-04-22  \n",
       "10               2015-06-23  \n",
       "11               2015-07-05  \n",
       "12               2015-07-05  \n",
       "13               2015-07-05  \n",
       "14               2015-07-05  \n",
       "15               2015-07-05  \n",
       "16               2015-07-05  \n",
       "17               2015-07-02  \n",
       "18               2015-07-02  \n",
       "19               2015-07-05  \n",
       "\n",
       "[20 rows x 41 columns]"
      ]
     },
     "execution_count": 80,
     "metadata": {},
     "output_type": "execute_result"
    }
   ],
   "source": [
    "df.head(20)"
   ]
  },
  {
   "cell_type": "markdown",
   "id": "c685cd8e",
   "metadata": {},
   "source": [
    "#### Now aranging the date and time in ascending order"
   ]
  },
  {
   "cell_type": "code",
   "execution_count": 81,
   "id": "80215b92",
   "metadata": {},
   "outputs": [],
   "source": [
    "# Sort the DataFrame by the date column in ascending order\n",
    "df.sort_values(by='reservation_status_date', inplace=True)"
   ]
  },
  {
   "cell_type": "code",
   "execution_count": 82,
   "id": "48b6049c",
   "metadata": {},
   "outputs": [],
   "source": [
    "df.reset_index(inplace=True)\n",
    "df.drop('index', axis=1, inplace=True)"
   ]
  },
  {
   "cell_type": "code",
   "execution_count": 83,
   "id": "ed18e091",
   "metadata": {},
   "outputs": [
    {
     "data": {
      "text/plain": [
       "arrival_date_year\n",
       "2016    56707\n",
       "2017    40687\n",
       "2015    21996\n",
       "Name: count, dtype: int64"
      ]
     },
     "execution_count": 83,
     "metadata": {},
     "output_type": "execute_result"
    }
   ],
   "source": [
    "df['arrival_date_year'].value_counts()"
   ]
  },
  {
   "cell_type": "code",
   "execution_count": 84,
   "id": "1bac8d40",
   "metadata": {},
   "outputs": [],
   "source": [
    "cols = ['reservation_status_date'] + [col for col in df.columns if col != 'reservation_status_date']\n",
    "df = df[cols]"
   ]
  },
  {
   "cell_type": "code",
   "execution_count": 85,
   "id": "f490698f",
   "metadata": {},
   "outputs": [
    {
     "data": {
      "text/html": [
       "<div>\n",
       "<style scoped>\n",
       "    .dataframe tbody tr th:only-of-type {\n",
       "        vertical-align: middle;\n",
       "    }\n",
       "\n",
       "    .dataframe tbody tr th {\n",
       "        vertical-align: top;\n",
       "    }\n",
       "\n",
       "    .dataframe thead th {\n",
       "        text-align: right;\n",
       "    }\n",
       "</style>\n",
       "<table border=\"1\" class=\"dataframe\">\n",
       "  <thead>\n",
       "    <tr style=\"text-align: right;\">\n",
       "      <th></th>\n",
       "      <th>reservation_status_date</th>\n",
       "      <th>is_canceled</th>\n",
       "      <th>lead_time</th>\n",
       "      <th>arrival_date_year</th>\n",
       "      <th>arrival_date_month</th>\n",
       "      <th>arrival_date_week_number</th>\n",
       "      <th>arrival_date_day_of_month</th>\n",
       "      <th>stays_in_weekend_nights</th>\n",
       "      <th>stays_in_week_nights</th>\n",
       "      <th>adults</th>\n",
       "      <th>...</th>\n",
       "      <th>distrib_chnl_TA/TO</th>\n",
       "      <th>reserved_room_type_encoded</th>\n",
       "      <th>assign_room_type_encoded</th>\n",
       "      <th>type_No Deposit</th>\n",
       "      <th>type_Non Refund</th>\n",
       "      <th>cust_type_Contract</th>\n",
       "      <th>cust_type_Transient</th>\n",
       "      <th>cust_type_Transient-Party</th>\n",
       "      <th>res_status_Canceled</th>\n",
       "      <th>res_status_Check-Out</th>\n",
       "    </tr>\n",
       "  </thead>\n",
       "  <tbody>\n",
       "    <tr>\n",
       "      <th>0</th>\n",
       "      <td>2014-10-17</td>\n",
       "      <td>1</td>\n",
       "      <td>300</td>\n",
       "      <td>2015</td>\n",
       "      <td>8</td>\n",
       "      <td>33</td>\n",
       "      <td>13</td>\n",
       "      <td>0</td>\n",
       "      <td>2</td>\n",
       "      <td>2</td>\n",
       "      <td>...</td>\n",
       "      <td>1</td>\n",
       "      <td>1</td>\n",
       "      <td>1</td>\n",
       "      <td>1</td>\n",
       "      <td>0</td>\n",
       "      <td>0</td>\n",
       "      <td>0</td>\n",
       "      <td>1</td>\n",
       "      <td>1</td>\n",
       "      <td>0</td>\n",
       "    </tr>\n",
       "    <tr>\n",
       "      <th>1</th>\n",
       "      <td>2014-10-17</td>\n",
       "      <td>1</td>\n",
       "      <td>286</td>\n",
       "      <td>2015</td>\n",
       "      <td>7</td>\n",
       "      <td>31</td>\n",
       "      <td>30</td>\n",
       "      <td>0</td>\n",
       "      <td>2</td>\n",
       "      <td>2</td>\n",
       "      <td>...</td>\n",
       "      <td>1</td>\n",
       "      <td>1</td>\n",
       "      <td>1</td>\n",
       "      <td>1</td>\n",
       "      <td>0</td>\n",
       "      <td>0</td>\n",
       "      <td>0</td>\n",
       "      <td>1</td>\n",
       "      <td>1</td>\n",
       "      <td>0</td>\n",
       "    </tr>\n",
       "    <tr>\n",
       "      <th>2</th>\n",
       "      <td>2014-10-17</td>\n",
       "      <td>1</td>\n",
       "      <td>286</td>\n",
       "      <td>2015</td>\n",
       "      <td>7</td>\n",
       "      <td>31</td>\n",
       "      <td>30</td>\n",
       "      <td>0</td>\n",
       "      <td>2</td>\n",
       "      <td>2</td>\n",
       "      <td>...</td>\n",
       "      <td>1</td>\n",
       "      <td>1</td>\n",
       "      <td>1</td>\n",
       "      <td>1</td>\n",
       "      <td>0</td>\n",
       "      <td>0</td>\n",
       "      <td>0</td>\n",
       "      <td>1</td>\n",
       "      <td>1</td>\n",
       "      <td>0</td>\n",
       "    </tr>\n",
       "    <tr>\n",
       "      <th>3</th>\n",
       "      <td>2014-10-17</td>\n",
       "      <td>1</td>\n",
       "      <td>286</td>\n",
       "      <td>2015</td>\n",
       "      <td>7</td>\n",
       "      <td>31</td>\n",
       "      <td>30</td>\n",
       "      <td>0</td>\n",
       "      <td>2</td>\n",
       "      <td>2</td>\n",
       "      <td>...</td>\n",
       "      <td>1</td>\n",
       "      <td>1</td>\n",
       "      <td>1</td>\n",
       "      <td>1</td>\n",
       "      <td>0</td>\n",
       "      <td>0</td>\n",
       "      <td>0</td>\n",
       "      <td>1</td>\n",
       "      <td>1</td>\n",
       "      <td>0</td>\n",
       "    </tr>\n",
       "    <tr>\n",
       "      <th>4</th>\n",
       "      <td>2014-10-17</td>\n",
       "      <td>1</td>\n",
       "      <td>286</td>\n",
       "      <td>2015</td>\n",
       "      <td>7</td>\n",
       "      <td>31</td>\n",
       "      <td>30</td>\n",
       "      <td>0</td>\n",
       "      <td>2</td>\n",
       "      <td>2</td>\n",
       "      <td>...</td>\n",
       "      <td>1</td>\n",
       "      <td>1</td>\n",
       "      <td>1</td>\n",
       "      <td>1</td>\n",
       "      <td>0</td>\n",
       "      <td>0</td>\n",
       "      <td>0</td>\n",
       "      <td>1</td>\n",
       "      <td>1</td>\n",
       "      <td>0</td>\n",
       "    </tr>\n",
       "  </tbody>\n",
       "</table>\n",
       "<p>5 rows × 41 columns</p>\n",
       "</div>"
      ],
      "text/plain": [
       "  reservation_status_date  is_canceled  lead_time  arrival_date_year  \\\n",
       "0              2014-10-17            1        300               2015   \n",
       "1              2014-10-17            1        286               2015   \n",
       "2              2014-10-17            1        286               2015   \n",
       "3              2014-10-17            1        286               2015   \n",
       "4              2014-10-17            1        286               2015   \n",
       "\n",
       "   arrival_date_month  arrival_date_week_number  arrival_date_day_of_month  \\\n",
       "0                   8                        33                         13   \n",
       "1                   7                        31                         30   \n",
       "2                   7                        31                         30   \n",
       "3                   7                        31                         30   \n",
       "4                   7                        31                         30   \n",
       "\n",
       "   stays_in_weekend_nights  stays_in_week_nights  adults  ...  \\\n",
       "0                        0                     2       2  ...   \n",
       "1                        0                     2       2  ...   \n",
       "2                        0                     2       2  ...   \n",
       "3                        0                     2       2  ...   \n",
       "4                        0                     2       2  ...   \n",
       "\n",
       "   distrib_chnl_TA/TO  reserved_room_type_encoded  assign_room_type_encoded  \\\n",
       "0                   1                           1                         1   \n",
       "1                   1                           1                         1   \n",
       "2                   1                           1                         1   \n",
       "3                   1                           1                         1   \n",
       "4                   1                           1                         1   \n",
       "\n",
       "   type_No Deposit  type_Non Refund  cust_type_Contract  cust_type_Transient  \\\n",
       "0                1                0                   0                    0   \n",
       "1                1                0                   0                    0   \n",
       "2                1                0                   0                    0   \n",
       "3                1                0                   0                    0   \n",
       "4                1                0                   0                    0   \n",
       "\n",
       "   cust_type_Transient-Party  res_status_Canceled  res_status_Check-Out  \n",
       "0                          1                    1                     0  \n",
       "1                          1                    1                     0  \n",
       "2                          1                    1                     0  \n",
       "3                          1                    1                     0  \n",
       "4                          1                    1                     0  \n",
       "\n",
       "[5 rows x 41 columns]"
      ]
     },
     "execution_count": 85,
     "metadata": {},
     "output_type": "execute_result"
    }
   ],
   "source": [
    "df.head()"
   ]
  },
  {
   "cell_type": "markdown",
   "id": "fcc2f490",
   "metadata": {},
   "source": [
    "### Creating dummy variables for `\"arrival_date_year\"` because of only 3 categories"
   ]
  },
  {
   "cell_type": "code",
   "execution_count": 86,
   "id": "9e008335",
   "metadata": {},
   "outputs": [],
   "source": [
    "df = pd.concat([df, pd.get_dummies(df['arrival_date_year'],prefix=\"year\").astype(int).drop('year_2017',axis=1)], axis=1)"
   ]
  },
  {
   "cell_type": "markdown",
   "id": "e4ad5dad",
   "metadata": {},
   "source": [
    "**`Note:-`** Keeping `'arrival_date_year'` for the further time series analysis"
   ]
  },
  {
   "cell_type": "markdown",
   "id": "854c4e04",
   "metadata": {},
   "source": [
    "### Use visualizations to highlight key insights, such as:\n",
    "* `Seasonality in bookings.`\n",
    "* `Distribution of stays across different hotel types.`\n",
    "* `Average daily rate (ADR) trends.`\n",
    "* `Cancellation rates and factors affecting cancellations.`"
   ]
  },
  {
   "cell_type": "markdown",
   "id": "67df2f66",
   "metadata": {},
   "source": [
    "### --------------------------------------------------------`Seasonality in Bookings`-------------------------------------------------------"
   ]
  },
  {
   "cell_type": "code",
   "execution_count": 87,
   "id": "fc97728a",
   "metadata": {},
   "outputs": [
    {
     "data": {
      "image/png": "[encoded data removed]",
      "text/plain": [
       "<Figure size 1000x600 with 1 Axes>"
      ]
     },
     "metadata": {},
     "output_type": "display_data"
    }
   ],
   "source": [
    "\n",
    "# Create the plot\n",
    "plt.figure(figsize=(10, 6))\n",
    "ax = sns.countplot(data=df, x='arrival_date_month', hue='is_canceled', palette='muted')\n",
    "\n",
    "# Annotate the bars with counts\n",
    "for container in ax.containers:\n",
    "    ax.bar_label(container)\n",
    "\n",
    "# Set the plot title and labels\n",
    "plt.title('Count of Cancellations by Month')\n",
    "plt.xlabel('Month')\n",
    "plt.ylabel('Number of Entries')\n",
    "plt.xticks(ticks=range(0, 12), labels=['Jan', 'Feb', 'Mar', 'Apr', 'May', 'Jun', 'Jul', 'Aug', 'Sep', 'Oct', 'Nov', 'Dec'])\n",
    "plt.grid(True)\n",
    "\n",
    "# Show the plot\n",
    "plt.show()\n"
   ]
  },
  {
   "cell_type": "markdown",
   "id": "5a7ce703",
   "metadata": {},
   "source": [
    "### `observation:-`\n",
    "> Top 4 months with highest bookings without cancelation\n",
    "\n",
    "* **`August`** - **8638**\n",
    "* **`July`** - **7919**\n",
    "* **`May`** - **7114**\n",
    "* **`October`** - **6914**"
   ]
  },
  {
   "cell_type": "markdown",
   "id": "ad940584",
   "metadata": {},
   "source": [
    "### ------------------------------`Distribution of stays across different hotel types.`---------------------------------------"
   ]
  },
  {
   "cell_type": "code",
   "execution_count": 88,
   "id": "5c327dd3",
   "metadata": {},
   "outputs": [
    {
     "data": {
      "image/png": "[encoded data removed]",
      "text/plain": [
       "<Figure size 800x600 with 1 Axes>"
      ]
     },
     "metadata": {},
     "output_type": "display_data"
    }
   ],
   "source": [
    "\n",
    "# Create the count plot\n",
    "plt.figure(figsize=(8, 6))\n",
    "ax = sns.countplot(data=df, x='Resort Hotel', palette='muted')\n",
    "\n",
    "# Annotate the bars with counts\n",
    "for container in ax.containers:\n",
    "    ax.bar_label(container)\n",
    "\n",
    "# Set x-axis labels with descriptive text\n",
    "ax.set_xticklabels(['City Hotel', 'Resort Hotel'])\n",
    "\n",
    "# Set the plot title and labels\n",
    "plt.title('Count of Hotel Types')\n",
    "plt.xlabel('Hotel Type')\n",
    "plt.ylabel('Number of Entries')\n",
    "plt.grid(True)\n",
    "\n",
    "# Show the plot\n",
    "plt.show()\n"
   ]
  },
  {
   "cell_type": "markdown",
   "id": "cc48d590",
   "metadata": {},
   "source": [
    "### `Observation:-`\n",
    "This plot shows that the most hotel bookings were of `\"City Hotel\"` type.\n",
    "* **`City Hotel`** - **79330** bookings\n",
    "* **`Resort Hotel`** - **40060** bookings"
   ]
  },
  {
   "cell_type": "markdown",
   "id": "02e9b92c",
   "metadata": {},
   "source": [
    "### ------------------------------------------`Average daily rate (ADR) trends`------------------------------------------------------------"
   ]
  },
  {
   "cell_type": "markdown",
   "id": "3512cf3a",
   "metadata": {},
   "source": [
    "**`Note:-`** To get average daily rate (trends), we will convert numeric months to month names"
   ]
  },
  {
   "cell_type": "code",
   "execution_count": 89,
   "id": "292f3aaa",
   "metadata": {},
   "outputs": [
    {
     "data": {
      "text/html": [
       "<div>\n",
       "<style scoped>\n",
       "    .dataframe tbody tr th:only-of-type {\n",
       "        vertical-align: middle;\n",
       "    }\n",
       "\n",
       "    .dataframe tbody tr th {\n",
       "        vertical-align: top;\n",
       "    }\n",
       "\n",
       "    .dataframe thead th {\n",
       "        text-align: right;\n",
       "    }\n",
       "</style>\n",
       "<table border=\"1\" class=\"dataframe\">\n",
       "  <thead>\n",
       "    <tr style=\"text-align: right;\">\n",
       "      <th></th>\n",
       "      <th>arrival_date_month_names</th>\n",
       "      <th>arrival_date_month</th>\n",
       "    </tr>\n",
       "  </thead>\n",
       "  <tbody>\n",
       "    <tr>\n",
       "      <th>0</th>\n",
       "      <td>August</td>\n",
       "      <td>8</td>\n",
       "    </tr>\n",
       "    <tr>\n",
       "      <th>1</th>\n",
       "      <td>July</td>\n",
       "      <td>7</td>\n",
       "    </tr>\n",
       "    <tr>\n",
       "      <th>2</th>\n",
       "      <td>July</td>\n",
       "      <td>7</td>\n",
       "    </tr>\n",
       "    <tr>\n",
       "      <th>3</th>\n",
       "      <td>July</td>\n",
       "      <td>7</td>\n",
       "    </tr>\n",
       "    <tr>\n",
       "      <th>4</th>\n",
       "      <td>July</td>\n",
       "      <td>7</td>\n",
       "    </tr>\n",
       "  </tbody>\n",
       "</table>\n",
       "</div>"
      ],
      "text/plain": [
       "  arrival_date_month_names  arrival_date_month\n",
       "0                   August                   8\n",
       "1                     July                   7\n",
       "2                     July                   7\n",
       "3                     July                   7\n",
       "4                     July                   7"
      ]
     },
     "execution_count": 89,
     "metadata": {},
     "output_type": "execute_result"
    }
   ],
   "source": [
    "month_mapping = {\n",
    "    1: 'January', 2: 'February', 3: 'March', 4: 'April', 5: 'May', 6: 'June',\n",
    "    7: 'July', 8: 'August', 9: 'September', 10: 'October', 11: 'November', 12: 'December'\n",
    "}\n",
    "df['arrival_date_month_names'] = df['arrival_date_month'].map(month_mapping)\n",
    "\n",
    "df[['arrival_date_month_names', 'arrival_date_month']].head()"
   ]
  },
  {
   "cell_type": "code",
   "execution_count": 90,
   "id": "80b8260e",
   "metadata": {},
   "outputs": [],
   "source": [
    "# Convert 'arrival_date_month' to a datetime format for better plotting\n",
    "df['arrival_date'] = pd.to_datetime(df['arrival_date_year'].astype(str) + '-' + df['arrival_date_month_names'] + '-01')\n",
    "\n",
    "# Calculate the average ADR trends overtime\n",
    "monthly_adr = df.groupby('arrival_date')['adr'].mean().reset_index()"
   ]
  },
  {
   "cell_type": "code",
   "execution_count": 91,
   "id": "260ad733",
   "metadata": {},
   "outputs": [
    {
     "data": {
      "image/png": "[encoded data removed]",
      "text/plain": [
       "<Figure size 1400x700 with 1 Axes>"
      ]
     },
     "metadata": {},
     "output_type": "display_data"
    }
   ],
   "source": [
    "plt.figure(figsize=(14,7))\n",
    "sns.lineplot(data=monthly_adr, x='arrival_date', y='adr')\n",
    "plt.title('Average Daily Rate (ADR) Trends Over Time')\n",
    "plt.xlabel('Arrival Date')\n",
    "plt.ylabel('Average Daily Rate (ADR)')\n",
    "plt.xticks(rotation=45)\n",
    "plt.grid(True)\n",
    "plt.show()"
   ]
  },
  {
   "cell_type": "markdown",
   "id": "c569370c",
   "metadata": {},
   "source": [
    "#### `Observations:-`\n",
    "* This line-plot shows the ADR spikes from **`\"January\"`** (07) to **`\"August\"`** (08) of every year.\n",
    "* The ADR dips is seen on every from **`\"August\"`** (09)to **`\"November\"`** (11) of each year.\n",
    "* The Highest ADR recorded was on **`\"2017-07\"`** (July 2017)\n",
    "* The Lowest ADR recorded was on **`\"2015-11\"`** (November 2015)"
   ]
  },
  {
   "cell_type": "markdown",
   "id": "c40e1a34",
   "metadata": {},
   "source": [
    "### -------------------------`Cancellation rates and factors affecting cancellations`-----------------------------"
   ]
  },
  {
   "cell_type": "markdown",
   "id": "abd5720d",
   "metadata": {},
   "source": [
    "#### **`Cancellation rate`**"
   ]
  },
  {
   "cell_type": "code",
   "execution_count": 92,
   "id": "4a812e4e",
   "metadata": {},
   "outputs": [
    {
     "data": {
      "image/png": "[encoded data removed]",
      "text/plain": [
       "<Figure size 800x600 with 1 Axes>"
      ]
     },
     "metadata": {},
     "output_type": "display_data"
    }
   ],
   "source": [
    "\n",
    "# Create the count plot\n",
    "plt.figure(figsize=(8, 6))\n",
    "ax = sns.countplot(data=df, x='is_canceled', palette='muted')\n",
    "\n",
    "# Annotate the bars with counts\n",
    "for container in ax.containers:\n",
    "    ax.bar_label(container)\n",
    "\n",
    "\n",
    "\n",
    "# Set the plot title and labels\n",
    "plt.title('Cancellation Rates')\n",
    "plt.xlabel('Booking Cancelled')\n",
    "plt.ylabel('Count')\n",
    "plt.grid(True)\n",
    "\n",
    "# Show the plot\n",
    "plt.show()"
   ]
  },
  {
   "cell_type": "markdown",
   "id": "842a778e",
   "metadata": {},
   "source": [
    "### `Observations:-`\n",
    "* This plot shows that the **`44224`** bookings were cancelled out of **`119390`**."
   ]
  },
  {
   "cell_type": "code",
   "execution_count": 94,
   "id": "f25119b1",
   "metadata": {},
   "outputs": [
    {
     "data": {
      "text/html": [
       "<div>\n",
       "<style scoped>\n",
       "    .dataframe tbody tr th:only-of-type {\n",
       "        vertical-align: middle;\n",
       "    }\n",
       "\n",
       "    .dataframe tbody tr th {\n",
       "        vertical-align: top;\n",
       "    }\n",
       "\n",
       "    .dataframe thead th {\n",
       "        text-align: right;\n",
       "    }\n",
       "</style>\n",
       "<table border=\"1\" class=\"dataframe\">\n",
       "  <thead>\n",
       "    <tr style=\"text-align: right;\">\n",
       "      <th></th>\n",
       "      <th>is_canceled</th>\n",
       "      <th>lead_time</th>\n",
       "      <th>arrival_date_year</th>\n",
       "      <th>arrival_date_month</th>\n",
       "      <th>arrival_date_week_number</th>\n",
       "      <th>arrival_date_day_of_month</th>\n",
       "      <th>stays_in_weekend_nights</th>\n",
       "      <th>stays_in_week_nights</th>\n",
       "      <th>adults</th>\n",
       "      <th>children</th>\n",
       "      <th>...</th>\n",
       "      <th>assign_room_type_encoded</th>\n",
       "      <th>type_No Deposit</th>\n",
       "      <th>type_Non Refund</th>\n",
       "      <th>cust_type_Contract</th>\n",
       "      <th>cust_type_Transient</th>\n",
       "      <th>cust_type_Transient-Party</th>\n",
       "      <th>res_status_Canceled</th>\n",
       "      <th>res_status_Check-Out</th>\n",
       "      <th>year_2015</th>\n",
       "      <th>year_2016</th>\n",
       "    </tr>\n",
       "  </thead>\n",
       "  <tbody>\n",
       "    <tr>\n",
       "      <th>0</th>\n",
       "      <td>1</td>\n",
       "      <td>300</td>\n",
       "      <td>2015</td>\n",
       "      <td>8</td>\n",
       "      <td>33</td>\n",
       "      <td>13</td>\n",
       "      <td>0</td>\n",
       "      <td>2</td>\n",
       "      <td>2</td>\n",
       "      <td>0.0</td>\n",
       "      <td>...</td>\n",
       "      <td>1</td>\n",
       "      <td>1</td>\n",
       "      <td>0</td>\n",
       "      <td>0</td>\n",
       "      <td>0</td>\n",
       "      <td>1</td>\n",
       "      <td>1</td>\n",
       "      <td>0</td>\n",
       "      <td>1</td>\n",
       "      <td>0</td>\n",
       "    </tr>\n",
       "    <tr>\n",
       "      <th>1</th>\n",
       "      <td>1</td>\n",
       "      <td>286</td>\n",
       "      <td>2015</td>\n",
       "      <td>7</td>\n",
       "      <td>31</td>\n",
       "      <td>30</td>\n",
       "      <td>0</td>\n",
       "      <td>2</td>\n",
       "      <td>2</td>\n",
       "      <td>0.0</td>\n",
       "      <td>...</td>\n",
       "      <td>1</td>\n",
       "      <td>1</td>\n",
       "      <td>0</td>\n",
       "      <td>0</td>\n",
       "      <td>0</td>\n",
       "      <td>1</td>\n",
       "      <td>1</td>\n",
       "      <td>0</td>\n",
       "      <td>1</td>\n",
       "      <td>0</td>\n",
       "    </tr>\n",
       "    <tr>\n",
       "      <th>2</th>\n",
       "      <td>1</td>\n",
       "      <td>286</td>\n",
       "      <td>2015</td>\n",
       "      <td>7</td>\n",
       "      <td>31</td>\n",
       "      <td>30</td>\n",
       "      <td>0</td>\n",
       "      <td>2</td>\n",
       "      <td>2</td>\n",
       "      <td>0.0</td>\n",
       "      <td>...</td>\n",
       "      <td>1</td>\n",
       "      <td>1</td>\n",
       "      <td>0</td>\n",
       "      <td>0</td>\n",
       "      <td>0</td>\n",
       "      <td>1</td>\n",
       "      <td>1</td>\n",
       "      <td>0</td>\n",
       "      <td>1</td>\n",
       "      <td>0</td>\n",
       "    </tr>\n",
       "    <tr>\n",
       "      <th>3</th>\n",
       "      <td>1</td>\n",
       "      <td>286</td>\n",
       "      <td>2015</td>\n",
       "      <td>7</td>\n",
       "      <td>31</td>\n",
       "      <td>30</td>\n",
       "      <td>0</td>\n",
       "      <td>2</td>\n",
       "      <td>2</td>\n",
       "      <td>0.0</td>\n",
       "      <td>...</td>\n",
       "      <td>1</td>\n",
       "      <td>1</td>\n",
       "      <td>0</td>\n",
       "      <td>0</td>\n",
       "      <td>0</td>\n",
       "      <td>1</td>\n",
       "      <td>1</td>\n",
       "      <td>0</td>\n",
       "      <td>1</td>\n",
       "      <td>0</td>\n",
       "    </tr>\n",
       "    <tr>\n",
       "      <th>4</th>\n",
       "      <td>1</td>\n",
       "      <td>286</td>\n",
       "      <td>2015</td>\n",
       "      <td>7</td>\n",
       "      <td>31</td>\n",
       "      <td>30</td>\n",
       "      <td>0</td>\n",
       "      <td>2</td>\n",
       "      <td>2</td>\n",
       "      <td>0.0</td>\n",
       "      <td>...</td>\n",
       "      <td>1</td>\n",
       "      <td>1</td>\n",
       "      <td>0</td>\n",
       "      <td>0</td>\n",
       "      <td>0</td>\n",
       "      <td>1</td>\n",
       "      <td>1</td>\n",
       "      <td>0</td>\n",
       "      <td>1</td>\n",
       "      <td>0</td>\n",
       "    </tr>\n",
       "    <tr>\n",
       "      <th>...</th>\n",
       "      <td>...</td>\n",
       "      <td>...</td>\n",
       "      <td>...</td>\n",
       "      <td>...</td>\n",
       "      <td>...</td>\n",
       "      <td>...</td>\n",
       "      <td>...</td>\n",
       "      <td>...</td>\n",
       "      <td>...</td>\n",
       "      <td>...</td>\n",
       "      <td>...</td>\n",
       "      <td>...</td>\n",
       "      <td>...</td>\n",
       "      <td>...</td>\n",
       "      <td>...</td>\n",
       "      <td>...</td>\n",
       "      <td>...</td>\n",
       "      <td>...</td>\n",
       "      <td>...</td>\n",
       "      <td>...</td>\n",
       "      <td>...</td>\n",
       "    </tr>\n",
       "    <tr>\n",
       "      <th>119385</th>\n",
       "      <td>0</td>\n",
       "      <td>169</td>\n",
       "      <td>2017</td>\n",
       "      <td>8</td>\n",
       "      <td>35</td>\n",
       "      <td>30</td>\n",
       "      <td>2</td>\n",
       "      <td>9</td>\n",
       "      <td>2</td>\n",
       "      <td>0.0</td>\n",
       "      <td>...</td>\n",
       "      <td>5</td>\n",
       "      <td>1</td>\n",
       "      <td>0</td>\n",
       "      <td>0</td>\n",
       "      <td>0</td>\n",
       "      <td>1</td>\n",
       "      <td>0</td>\n",
       "      <td>1</td>\n",
       "      <td>0</td>\n",
       "      <td>0</td>\n",
       "    </tr>\n",
       "    <tr>\n",
       "      <th>119386</th>\n",
       "      <td>0</td>\n",
       "      <td>269</td>\n",
       "      <td>2017</td>\n",
       "      <td>8</td>\n",
       "      <td>34</td>\n",
       "      <td>24</td>\n",
       "      <td>4</td>\n",
       "      <td>13</td>\n",
       "      <td>2</td>\n",
       "      <td>0.0</td>\n",
       "      <td>...</td>\n",
       "      <td>4</td>\n",
       "      <td>1</td>\n",
       "      <td>0</td>\n",
       "      <td>1</td>\n",
       "      <td>0</td>\n",
       "      <td>0</td>\n",
       "      <td>0</td>\n",
       "      <td>1</td>\n",
       "      <td>0</td>\n",
       "      <td>0</td>\n",
       "    </tr>\n",
       "    <tr>\n",
       "      <th>119387</th>\n",
       "      <td>0</td>\n",
       "      <td>204</td>\n",
       "      <td>2017</td>\n",
       "      <td>8</td>\n",
       "      <td>35</td>\n",
       "      <td>29</td>\n",
       "      <td>4</td>\n",
       "      <td>10</td>\n",
       "      <td>2</td>\n",
       "      <td>0.0</td>\n",
       "      <td>...</td>\n",
       "      <td>5</td>\n",
       "      <td>1</td>\n",
       "      <td>0</td>\n",
       "      <td>0</td>\n",
       "      <td>1</td>\n",
       "      <td>0</td>\n",
       "      <td>0</td>\n",
       "      <td>1</td>\n",
       "      <td>0</td>\n",
       "      <td>0</td>\n",
       "    </tr>\n",
       "    <tr>\n",
       "      <th>119388</th>\n",
       "      <td>0</td>\n",
       "      <td>211</td>\n",
       "      <td>2017</td>\n",
       "      <td>8</td>\n",
       "      <td>35</td>\n",
       "      <td>31</td>\n",
       "      <td>4</td>\n",
       "      <td>10</td>\n",
       "      <td>2</td>\n",
       "      <td>0.0</td>\n",
       "      <td>...</td>\n",
       "      <td>4</td>\n",
       "      <td>1</td>\n",
       "      <td>0</td>\n",
       "      <td>1</td>\n",
       "      <td>0</td>\n",
       "      <td>0</td>\n",
       "      <td>0</td>\n",
       "      <td>1</td>\n",
       "      <td>0</td>\n",
       "      <td>0</td>\n",
       "    </tr>\n",
       "    <tr>\n",
       "      <th>119389</th>\n",
       "      <td>0</td>\n",
       "      <td>161</td>\n",
       "      <td>2017</td>\n",
       "      <td>8</td>\n",
       "      <td>35</td>\n",
       "      <td>31</td>\n",
       "      <td>4</td>\n",
       "      <td>10</td>\n",
       "      <td>2</td>\n",
       "      <td>0.0</td>\n",
       "      <td>...</td>\n",
       "      <td>1</td>\n",
       "      <td>1</td>\n",
       "      <td>0</td>\n",
       "      <td>0</td>\n",
       "      <td>1</td>\n",
       "      <td>0</td>\n",
       "      <td>0</td>\n",
       "      <td>1</td>\n",
       "      <td>0</td>\n",
       "      <td>0</td>\n",
       "    </tr>\n",
       "  </tbody>\n",
       "</table>\n",
       "<p>119390 rows × 42 columns</p>\n",
       "</div>"
      ],
      "text/plain": [
       "        is_canceled  lead_time  arrival_date_year  arrival_date_month  \\\n",
       "0                 1        300               2015                   8   \n",
       "1                 1        286               2015                   7   \n",
       "2                 1        286               2015                   7   \n",
       "3                 1        286               2015                   7   \n",
       "4                 1        286               2015                   7   \n",
       "...             ...        ...                ...                 ...   \n",
       "119385            0        169               2017                   8   \n",
       "119386            0        269               2017                   8   \n",
       "119387            0        204               2017                   8   \n",
       "119388            0        211               2017                   8   \n",
       "119389            0        161               2017                   8   \n",
       "\n",
       "        arrival_date_week_number  arrival_date_day_of_month  \\\n",
       "0                             33                         13   \n",
       "1                             31                         30   \n",
       "2                             31                         30   \n",
       "3                             31                         30   \n",
       "4                             31                         30   \n",
       "...                          ...                        ...   \n",
       "119385                        35                         30   \n",
       "119386                        34                         24   \n",
       "119387                        35                         29   \n",
       "119388                        35                         31   \n",
       "119389                        35                         31   \n",
       "\n",
       "        stays_in_weekend_nights  stays_in_week_nights  adults  children  ...  \\\n",
       "0                             0                     2       2       0.0  ...   \n",
       "1                             0                     2       2       0.0  ...   \n",
       "2                             0                     2       2       0.0  ...   \n",
       "3                             0                     2       2       0.0  ...   \n",
       "4                             0                     2       2       0.0  ...   \n",
       "...                         ...                   ...     ...       ...  ...   \n",
       "119385                        2                     9       2       0.0  ...   \n",
       "119386                        4                    13       2       0.0  ...   \n",
       "119387                        4                    10       2       0.0  ...   \n",
       "119388                        4                    10       2       0.0  ...   \n",
       "119389                        4                    10       2       0.0  ...   \n",
       "\n",
       "        assign_room_type_encoded  type_No Deposit  type_Non Refund  \\\n",
       "0                              1                1                0   \n",
       "1                              1                1                0   \n",
       "2                              1                1                0   \n",
       "3                              1                1                0   \n",
       "4                              1                1                0   \n",
       "...                          ...              ...              ...   \n",
       "119385                         5                1                0   \n",
       "119386                         4                1                0   \n",
       "119387                         5                1                0   \n",
       "119388                         4                1                0   \n",
       "119389                         1                1                0   \n",
       "\n",
       "        cust_type_Contract  cust_type_Transient  cust_type_Transient-Party  \\\n",
       "0                        0                    0                          1   \n",
       "1                        0                    0                          1   \n",
       "2                        0                    0                          1   \n",
       "3                        0                    0                          1   \n",
       "4                        0                    0                          1   \n",
       "...                    ...                  ...                        ...   \n",
       "119385                   0                    0                          1   \n",
       "119386                   1                    0                          0   \n",
       "119387                   0                    1                          0   \n",
       "119388                   1                    0                          0   \n",
       "119389                   0                    1                          0   \n",
       "\n",
       "        res_status_Canceled  res_status_Check-Out  year_2015  year_2016  \n",
       "0                         1                     0          1          0  \n",
       "1                         1                     0          1          0  \n",
       "2                         1                     0          1          0  \n",
       "3                         1                     0          1          0  \n",
       "4                         1                     0          1          0  \n",
       "...                     ...                   ...        ...        ...  \n",
       "119385                    0                     1          0          0  \n",
       "119386                    0                     1          0          0  \n",
       "119387                    0                     1          0          0  \n",
       "119388                    0                     1          0          0  \n",
       "119389                    0                     1          0          0  \n",
       "\n",
       "[119390 rows x 42 columns]"
      ]
     },
     "execution_count": 94,
     "metadata": {},
     "output_type": "execute_result"
    }
   ],
   "source": [
    "df.iloc[:, 1:-2]"
   ]
  },
  {
   "cell_type": "code",
   "execution_count": 95,
   "id": "1bdc0b24",
   "metadata": {},
   "outputs": [
    {
     "data": {
      "text/plain": [
       "res_status_Canceled\n",
       "0    76373\n",
       "1    43017\n",
       "Name: count, dtype: int64"
      ]
     },
     "execution_count": 95,
     "metadata": {},
     "output_type": "execute_result"
    }
   ],
   "source": [
    "df['res_status_Canceled'].value_counts()"
   ]
  },
  {
   "cell_type": "code",
   "execution_count": 96,
   "id": "df73d0a5",
   "metadata": {},
   "outputs": [
    {
     "data": {
      "text/plain": [
       "type_Non Refund\n",
       "0    104803\n",
       "1     14587\n",
       "Name: count, dtype: int64"
      ]
     },
     "execution_count": 96,
     "metadata": {},
     "output_type": "execute_result"
    }
   ],
   "source": [
    "df['type_Non Refund'].value_counts()"
   ]
  },
  {
   "cell_type": "code",
   "execution_count": 97,
   "id": "9fa3b11e",
   "metadata": {},
   "outputs": [
    {
     "data": {
      "text/plain": [
       "is_canceled                       1.000000\n",
       "res_status_Canceled               0.978435\n",
       "type_Non Refund                   0.481457\n",
       "lead_time                         0.293123\n",
       "country_encoded                   0.271231\n",
       "distrib_chnl_TA/TO                0.175944\n",
       "cust_type_Transient               0.133084\n",
       "previous_cancellations            0.110133\n",
       "adults                            0.060017\n",
       "market_segment_encoded            0.059338\n",
       "days_in_waiting_list              0.054186\n",
       "adr                               0.047557\n",
       "meal_FB                           0.038828\n",
       "stays_in_week_nights              0.024765\n",
       "arrival_date_year                 0.016660\n",
       "meal_BB                           0.013124\n",
       "arrival_date_month                0.011022\n",
       "arrival_date_week_number          0.008148\n",
       "children                          0.005036\n",
       "meal_SC                           0.001282\n",
       "year_2015                        -0.000254\n",
       "stays_in_weekend_nights          -0.001791\n",
       "arrival_date_day_of_month        -0.006130\n",
       "distrib_chnl_GDS                 -0.014891\n",
       "meal_HB                          -0.019845\n",
       "year_2016                        -0.023208\n",
       "cust_type_Contract               -0.023670\n",
       "babies                           -0.032491\n",
       "previous_bookings_not_canceled   -0.057358\n",
       "reserved_room_type_encoded       -0.061282\n",
       "distrib_chnl_Corporate           -0.075428\n",
       "agent                            -0.077992\n",
       "is_repeated_guest                -0.084793\n",
       "cust_type_Transient-Party        -0.124135\n",
       "Resort Hotel                     -0.136531\n",
       "booking_changes                  -0.144381\n",
       "distrib_chnl_Direct              -0.151620\n",
       "assign_room_type_encoded         -0.176028\n",
       "required_car_parking_spaces      -0.195498\n",
       "total_of_special_requests        -0.234658\n",
       "type_No Deposit                  -0.477911\n",
       "res_status_Check-Out             -1.000000\n",
       "Name: is_canceled, dtype: float64"
      ]
     },
     "execution_count": 97,
     "metadata": {},
     "output_type": "execute_result"
    }
   ],
   "source": [
    "corr_mat = df.iloc[:, 1:-2].corr()\n",
    "corr_mat['is_canceled'].sort_values(ascending=False)"
   ]
  },
  {
   "cell_type": "code",
   "execution_count": 98,
   "id": "bca54599",
   "metadata": {},
   "outputs": [
    {
     "data": {
      "image/png": "[encoded data removed]",
      "text/plain": [
       "<Figure size 800x600 with 1 Axes>"
      ]
     },
     "metadata": {},
     "output_type": "display_data"
    }
   ],
   "source": [
    "plt.figure(figsize=(8, 6))\n",
    "ax = sns.countplot(data=df, x=df_categorical['hotel'], hue='is_canceled', palette='muted')\n",
    "\n",
    "# Annotate the bars with counts\n",
    "for container in ax.containers:\n",
    "    ax.bar_label(container)\n",
    "\n",
    "\n",
    "# Set the plot title and labels\n",
    "plt.title('Cancellation on hotel types')\n",
    "plt.xlabel('Hotel Type')\n",
    "plt.ylabel('Cancellation')\n",
    "plt.grid(True)\n",
    "\n",
    "# Show the plot\n",
    "plt.show()\n",
    "\n",
    "# sns.countplot(data=df, x=df_categorical['hotel'], hue='is_canceled')"
   ]
  },
  {
   "cell_type": "markdown",
   "id": "6055278d",
   "metadata": {},
   "source": [
    "### `Observations:-`\n",
    "* This plot shows that most of the bookings were of **`\"City Hotel\"`**.\n",
    "* Since **`\"Resort Hotel\"`** has less bookings as compared to **`\"City Hotel\"`**. But the **`cancellation rate`** is higher as compared to **`\"Resort Hotel\"`**."
   ]
  },
  {
   "cell_type": "code",
   "execution_count": 99,
   "id": "d65e3d07",
   "metadata": {},
   "outputs": [
    {
     "name": "stdout",
     "output_type": "stream",
     "text": [
      "<class 'pandas.core.frame.DataFrame'>\n",
      "RangeIndex: 119390 entries, 0 to 119389\n",
      "Data columns (total 11 columns):\n",
      " #   Column                Non-Null Count   Dtype \n",
      "---  ------                --------------   ----- \n",
      " 0   hotel                 119390 non-null  object\n",
      " 1   arrival_date_month    119390 non-null  object\n",
      " 2   meal                  119390 non-null  object\n",
      " 3   country               118902 non-null  object\n",
      " 4   market_segment        119390 non-null  object\n",
      " 5   distribution_channel  119390 non-null  object\n",
      " 6   reserved_room_type    119390 non-null  object\n",
      " 7   assigned_room_type    119390 non-null  object\n",
      " 8   deposit_type          119390 non-null  object\n",
      " 9   customer_type         119390 non-null  object\n",
      " 10  reservation_status    119390 non-null  object\n",
      "dtypes: object(11)\n",
      "memory usage: 10.0+ MB\n"
     ]
    }
   ],
   "source": [
    "df_categorical.info()"
   ]
  },
  {
   "cell_type": "code",
   "execution_count": 100,
   "id": "19e84fa0",
   "metadata": {},
   "outputs": [
    {
     "data": {
      "text/plain": [
       "country_encoded\n",
       "10    48590\n",
       "9     18590\n",
       "5     12129\n",
       "4     10415\n",
       "3      8568\n",
       "2      7287\n",
       "7      3766\n",
       "6      3375\n",
       "0      2342\n",
       "1      2224\n",
       "8      2104\n",
       "Name: count, dtype: int64"
      ]
     },
     "execution_count": 100,
     "metadata": {},
     "output_type": "execute_result"
    }
   ],
   "source": [
    "df['country_encoded'].value_counts()"
   ]
  },
  {
   "cell_type": "code",
   "execution_count": 101,
   "id": "c0955e48",
   "metadata": {},
   "outputs": [
    {
     "data": {
      "image/png": "[encoded data removed]",
      "text/plain": [
       "<Figure size 1400x800 with 1 Axes>"
      ]
     },
     "metadata": {},
     "output_type": "display_data"
    }
   ],
   "source": [
    "plt.figure(figsize=(14, 8))\n",
    "ax = sns.countplot(data=df, x='country_encoded', hue='is_canceled', palette='muted')\n",
    "\n",
    "# Annotate the bars with counts\n",
    "for container in ax.containers:\n",
    "    ax.bar_label(container)\n",
    "\n",
    "\n",
    "# Set the plot title and labels\n",
    "plt.title('Cancellation according to countries')\n",
    "plt.xlabel('Countries')\n",
    "plt.ylabel('Cancellation')\n",
    "plt.grid(True)\n",
    "\n",
    "# Show the plot\n",
    "plt.show()\n"
   ]
  },
  {
   "cell_type": "markdown",
   "id": "c932c4ba",
   "metadata": {},
   "source": [
    "### `Labels for the countries:`\n",
    "\n",
    "| Country | Label |\n",
    "|---------|-------|\n",
    "| BEL     | 0     |\n",
    "| BRA     | 1     |\n",
    "| DEU     | 2     |\n",
    "| ESP     | 3     |\n",
    "| FRA     | 4     |\n",
    "| GBR     | 5     |\n",
    "| IRL     | 6     |\n",
    "| ITA     | 7     |\n",
    "| NLD     | 8     |\n",
    "| Others  | 9     |\n",
    "| PRT     | 10    |\n",
    "\n",
    "-------------------------------------------------------------------------------\n",
    "### **`Observations:-`**\n",
    "* The most of the bookings were from country code **`\"PRT\" (Portugal)`**.\n",
    "* **`\"PRT\" (Portugal)`** is the only country which has **`higher amount of cancellations` (27519)** even higher that **`non-cancellations` (21071)**.\n",
    "* Rest of the country has lower rate of `cancellations`."
   ]
  },
  {
   "cell_type": "code",
   "execution_count": 102,
   "id": "94511b9f",
   "metadata": {},
   "outputs": [
    {
     "data": {
      "image/png": "[encoded data removed]",
      "text/plain": [
       "<Figure size 1400x800 with 1 Axes>"
      ]
     },
     "metadata": {},
     "output_type": "display_data"
    }
   ],
   "source": [
    "plt.figure(figsize=(14, 8))\n",
    "ax = sns.countplot(data=df, x=df_categorical['reserved_room_type'], hue='is_canceled', palette='muted')\n",
    "\n",
    "# Annotate the bars with counts\n",
    "for container in ax.containers:\n",
    "    ax.bar_label(container)\n",
    "\n",
    "\n",
    "# Set the plot title and labels\n",
    "plt.title('Cancellation according to Reserved Room types')\n",
    "plt.xlabel('Reserved Room Type')\n",
    "plt.ylabel('Cancellation')\n",
    "plt.grid(True)\n",
    "\n",
    "# Show the plot\n",
    "plt.show()\n"
   ]
  },
  {
   "cell_type": "markdown",
   "id": "e8382c91",
   "metadata": {},
   "source": [
    "### **`Observations:-`**\n",
    "* The most of the bookings were from **`reserved room type (A)`**.\n",
    "* The most cancellation were also from **`reserved room type (A)` (31341 out of 85994)**."
   ]
  },
  {
   "cell_type": "code",
   "execution_count": 103,
   "id": "dfa76e05",
   "metadata": {},
   "outputs": [
    {
     "data": {
      "image/png": "[encoded data removed]",
      "text/plain": [
       "<Figure size 1400x800 with 1 Axes>"
      ]
     },
     "metadata": {},
     "output_type": "display_data"
    }
   ],
   "source": [
    "plt.figure(figsize=(14, 8))\n",
    "ax = sns.countplot(data=df, x=df_categorical['assigned_room_type'], hue='is_canceled', palette='muted')\n",
    "\n",
    "# Annotate the bars with counts\n",
    "for container in ax.containers:\n",
    "    ax.bar_label(container)\n",
    "\n",
    "\n",
    "# Set the plot title and labels\n",
    "plt.title('Cancellation according to Assigned Room types')\n",
    "plt.xlabel('Assigned Room Type')\n",
    "plt.ylabel('Cancellation')\n",
    "plt.grid(True)\n",
    "\n",
    "# Show the plot\n",
    "plt.show()\n"
   ]
  },
  {
   "cell_type": "markdown",
   "id": "08d6d35b",
   "metadata": {},
   "source": [
    "### **`Observations:-`**\n",
    "* The most of the bookings were from **`assigned room type (A)`**.\n",
    "* The most cancellation were also from **`assigned room type (A)` (26392 out of 74053)**."
   ]
  },
  {
   "cell_type": "markdown",
   "id": "22051de4",
   "metadata": {},
   "source": [
    "# 3. Hypothesis Testing\n",
    "\n",
    "* Formulate and test at least two hypotheses related to the data. For example:\n",
    "    * \"Customers booking more than 6 months in advance are more likely to cancel.\"\n",
    "    * \"Weekday bookings have a higher average daily rate than weekend bookings.\"\n",
    "* Use appropriate statistical tests to validate these hypotheses."
   ]
  },
  {
   "cell_type": "markdown",
   "id": "acd798c2",
   "metadata": {},
   "source": [
    "### -----------`\"Customers booking more than 6 months in advance are more likely to cancel.\"`----------------"
   ]
  },
  {
   "cell_type": "code",
   "execution_count": 104,
   "id": "30ae9d84",
   "metadata": {},
   "outputs": [
    {
     "name": "stdout",
     "output_type": "stream",
     "text": [
      "reserved_room_type\n",
      "A    85994\n",
      "D    19201\n",
      "E     6535\n",
      "F     2897\n",
      "G     2094\n",
      "B     1118\n",
      "C      932\n",
      "H      601\n",
      "P       12\n",
      "L        6\n",
      "Name: count, dtype: int64\n",
      "reservation_status\n",
      "Check-Out    75166\n",
      "Canceled     43017\n",
      "No-Show       1207\n",
      "Name: count, dtype: int64\n"
     ]
    }
   ],
   "source": [
    "print(df_categorical['reserved_room_type'].value_counts())\n",
    "print(df_categorical['reservation_status'].value_counts())"
   ]
  },
  {
   "cell_type": "code",
   "execution_count": 105,
   "id": "33210e88",
   "metadata": {},
   "outputs": [
    {
     "data": {
      "text/plain": [
       "0         8\n",
       "1         7\n",
       "2         7\n",
       "3         7\n",
       "4         7\n",
       "         ..\n",
       "119385    8\n",
       "119386    8\n",
       "119387    8\n",
       "119388    8\n",
       "119389    8\n",
       "Name: arrival_date_month, Length: 119390, dtype: int64"
      ]
     },
     "execution_count": 105,
     "metadata": {},
     "output_type": "execute_result"
    }
   ],
   "source": [
    "df['arrival_date_month']"
   ]
  },
  {
   "cell_type": "code",
   "execution_count": 106,
   "id": "5287ad51",
   "metadata": {},
   "outputs": [
    {
     "name": "stdout",
     "output_type": "stream",
     "text": [
      "<class 'pandas.core.frame.DataFrame'>\n",
      "RangeIndex: 119390 entries, 0 to 119389\n",
      "Data columns (total 11 columns):\n",
      " #   Column                Non-Null Count   Dtype \n",
      "---  ------                --------------   ----- \n",
      " 0   hotel                 119390 non-null  object\n",
      " 1   arrival_date_month    119390 non-null  object\n",
      " 2   meal                  119390 non-null  object\n",
      " 3   country               118902 non-null  object\n",
      " 4   market_segment        119390 non-null  object\n",
      " 5   distribution_channel  119390 non-null  object\n",
      " 6   reserved_room_type    119390 non-null  object\n",
      " 7   assigned_room_type    119390 non-null  object\n",
      " 8   deposit_type          119390 non-null  object\n",
      " 9   customer_type         119390 non-null  object\n",
      " 10  reservation_status    119390 non-null  object\n",
      "dtypes: object(11)\n",
      "memory usage: 10.0+ MB\n"
     ]
    }
   ],
   "source": [
    "df_categorical.info()"
   ]
  },
  {
   "cell_type": "code",
   "execution_count": 107,
   "id": "506a4900",
   "metadata": {},
   "outputs": [
    {
     "name": "stdout",
     "output_type": "stream",
     "text": [
      "<class 'pandas.core.frame.DataFrame'>\n",
      "RangeIndex: 119390 entries, 0 to 119389\n",
      "Data columns (total 45 columns):\n",
      " #   Column                          Non-Null Count   Dtype         \n",
      "---  ------                          --------------   -----         \n",
      " 0   reservation_status_date         119390 non-null  datetime64[ns]\n",
      " 1   is_canceled                     119390 non-null  int64         \n",
      " 2   lead_time                       119390 non-null  int64         \n",
      " 3   arrival_date_year               119390 non-null  int64         \n",
      " 4   arrival_date_month              119390 non-null  int64         \n",
      " 5   arrival_date_week_number        119390 non-null  int64         \n",
      " 6   arrival_date_day_of_month       119390 non-null  int64         \n",
      " 7   stays_in_weekend_nights         119390 non-null  int64         \n",
      " 8   stays_in_week_nights            119390 non-null  int64         \n",
      " 9   adults                          119390 non-null  int64         \n",
      " 10  children                        119390 non-null  float64       \n",
      " 11  babies                          119390 non-null  int64         \n",
      " 12  is_repeated_guest               119390 non-null  int64         \n",
      " 13  previous_cancellations          119390 non-null  int64         \n",
      " 14  previous_bookings_not_canceled  119390 non-null  int64         \n",
      " 15  booking_changes                 119390 non-null  int64         \n",
      " 16  agent                           119390 non-null  float64       \n",
      " 17  days_in_waiting_list            119390 non-null  int64         \n",
      " 18  adr                             119390 non-null  float64       \n",
      " 19  required_car_parking_spaces     119390 non-null  int64         \n",
      " 20  total_of_special_requests       119390 non-null  int64         \n",
      " 21  Resort Hotel                    119390 non-null  int32         \n",
      " 22  meal_BB                         119390 non-null  int32         \n",
      " 23  meal_FB                         119390 non-null  int32         \n",
      " 24  meal_HB                         119390 non-null  int32         \n",
      " 25  meal_SC                         119390 non-null  int32         \n",
      " 26  country_encoded                 119390 non-null  int32         \n",
      " 27  market_segment_encoded          119390 non-null  int32         \n",
      " 28  distrib_chnl_Corporate          119390 non-null  int32         \n",
      " 29  distrib_chnl_Direct             119390 non-null  int32         \n",
      " 30  distrib_chnl_GDS                119390 non-null  int32         \n",
      " 31  distrib_chnl_TA/TO              119390 non-null  int32         \n",
      " 32  reserved_room_type_encoded      119390 non-null  int64         \n",
      " 33  assign_room_type_encoded        119390 non-null  int64         \n",
      " 34  type_No Deposit                 119390 non-null  int32         \n",
      " 35  type_Non Refund                 119390 non-null  int32         \n",
      " 36  cust_type_Contract              119390 non-null  int32         \n",
      " 37  cust_type_Transient             119390 non-null  int32         \n",
      " 38  cust_type_Transient-Party       119390 non-null  int32         \n",
      " 39  res_status_Canceled             119390 non-null  int32         \n",
      " 40  res_status_Check-Out            119390 non-null  int32         \n",
      " 41  year_2015                       119390 non-null  int32         \n",
      " 42  year_2016                       119390 non-null  int32         \n",
      " 43  arrival_date_month_names        119390 non-null  object        \n",
      " 44  arrival_date                    119390 non-null  datetime64[ns]\n",
      "dtypes: datetime64[ns](2), float64(3), int32(20), int64(19), object(1)\n",
      "memory usage: 31.9+ MB\n"
     ]
    }
   ],
   "source": [
    "df.info()"
   ]
  },
  {
   "cell_type": "code",
   "execution_count": 108,
   "id": "397cbf74",
   "metadata": {},
   "outputs": [],
   "source": [
    "df['6_months_advance_booking'] = df['lead_time']>180"
   ]
  },
  {
   "cell_type": "code",
   "execution_count": 109,
   "id": "85abcc54",
   "metadata": {},
   "outputs": [
    {
     "data": {
      "text/plain": [
       "<Axes: xlabel='6_months_advance_booking', ylabel='count'>"
      ]
     },
     "execution_count": 109,
     "metadata": {},
     "output_type": "execute_result"
    },
    {
     "data": {
      "image/png": "[encoded data removed]",
      "text/plain": [
       "<Figure size 640x480 with 1 Axes>"
      ]
     },
     "metadata": {},
     "output_type": "display_data"
    }
   ],
   "source": [
    "sns.countplot(data=df, x='6_months_advance_booking', hue='is_canceled')"
   ]
  },
  {
   "cell_type": "markdown",
   "id": "e8649750",
   "metadata": {},
   "source": [
    "### `Observations:-`\n",
    "* As we can see in the above plot, the **`\"cancellations rate\"`** in **`\"6 months advance booking\"`** is higher than the **`\"non cancellations rate\"`** as compared to the cancellations of **`\"bookings before 6 months\"`**.\n",
    "\n",
    "\n",
    "#### `Conclusion:-`\n",
    " This proved that the hypothesis is **`TRUE`**"
   ]
  },
  {
   "cell_type": "markdown",
   "id": "f259a9c1",
   "metadata": {},
   "source": [
    "### -----------`\"Weekday bookings have a higher average daily rate than weekend bookings.\"`----------------"
   ]
  },
  {
   "cell_type": "markdown",
   "id": "b5bd480f",
   "metadata": {},
   "source": [
    "* To test the hypothesis that \"Weekday bookings have a higher average daily rate than weekend bookings,\" we need to:\n",
    "\n",
    "    * Define Weekday and Weekend Bookings: Identify which days are considered weekdays and which are weekends. Typically, weekdays are Monday through Friday, and weekends are Saturday and Sunday.\n",
    "    * Calculate the Average Daily Rate (ADR): Compute the ADR for bookings that are primarily for weekdays versus those primarily for weekends."
   ]
  },
  {
   "cell_type": "markdown",
   "id": "72c78c38",
   "metadata": {},
   "source": [
    "**`Note:-`**\n",
    "Now, we will get `ADR` according to `weekdays` and `weekends`."
   ]
  },
  {
   "cell_type": "code",
   "execution_count": 110,
   "id": "b2f604d3",
   "metadata": {},
   "outputs": [
    {
     "data": {
      "text/plain": [
       "booking_type\n",
       "Weekdays    103.167653\n",
       "Weekends     97.519810\n",
       "Name: adr, dtype: float64"
      ]
     },
     "execution_count": 110,
     "metadata": {},
     "output_type": "execute_result"
    }
   ],
   "source": [
    "df['booking_type'] = df.apply(lambda x: 'Weekdays' if x['stays_in_week_nights'] > x['stays_in_weekend_nights'] else 'Weekends', axis=1)\n",
    "\n",
    "adr_booking_type = df.groupby('booking_type')['adr'].mean()\n",
    "adr_booking_type"
   ]
  },
  {
   "cell_type": "markdown",
   "id": "378e47a8",
   "metadata": {},
   "source": [
    "### `Observations:-`\n",
    "* This shows that `weekdays` bookings have `higher ADR` as compared to `weekends`."
   ]
  },
  {
   "cell_type": "markdown",
   "id": "791b7403",
   "metadata": {},
   "source": [
    "### **`Note:-`** Now we will analyse it further using `t-test`"
   ]
  },
  {
   "cell_type": "code",
   "execution_count": 111,
   "id": "4df5b760",
   "metadata": {},
   "outputs": [
    {
     "data": {
      "text/plain": [
       "(17.366420731800837, 2.3038558112105565e-67)"
      ]
     },
     "execution_count": 111,
     "metadata": {},
     "output_type": "execute_result"
    }
   ],
   "source": [
    "from scipy.stats import ttest_ind\n",
    "\n",
    "weekend_adr = df[df['booking_type']=='Weekends']['adr']\n",
    "weekday_adr = df[df['booking_type']=='Weekdays']['adr']\n",
    "\n",
    "t_stats, p_value = ttest_ind(weekday_adr, weekend_adr, equal_var=False)\n",
    "t_stats, p_value"
   ]
  },
  {
   "cell_type": "markdown",
   "id": "ae1e4c5d",
   "metadata": {},
   "source": [
    "#### `The t-test results are as follows:`\n",
    "\n",
    "* t-statistic: 17.37\n",
    "* p-value: 2.30e-67 (basically 0)\n",
    "\n",
    "### `Observations:-`\n",
    "* Since the P-value is less than `0.05`. Therefore, we can reject the null hypothesis.\n",
    "* This supports the hypothesis that `\"Weekday bookings have a higher average daily rate than weekend bookings.\"`"
   ]
  },
  {
   "cell_type": "markdown",
   "id": "e1823177",
   "metadata": {},
   "source": [
    "# 4. Predictive Modeling\n",
    "\n",
    "* Build a predictive model to forecast hotel cancellations. Include the following steps:\n",
    "    * Select appropriate features.\n",
    "    * Split the data into training and test sets.\n",
    "    * Train at least two different models (e.g., Logistic Regression, Random Forest).\n",
    "    * Evaluate model performance using relevant metrics (accuracy, precision, recall, F1-score).\n",
    "    * Discuss any improvements you would recommend for the model."
   ]
  },
  {
   "cell_type": "code",
   "execution_count": 112,
   "id": "3360c266",
   "metadata": {},
   "outputs": [],
   "source": [
    "df.drop('arrival_date_month_names', axis=1, inplace=True)"
   ]
  },
  {
   "cell_type": "code",
   "execution_count": 113,
   "id": "ee54d2f9",
   "metadata": {},
   "outputs": [
    {
     "name": "stdout",
     "output_type": "stream",
     "text": [
      "<class 'pandas.core.frame.DataFrame'>\n",
      "RangeIndex: 119390 entries, 0 to 119389\n",
      "Data columns (total 46 columns):\n",
      " #   Column                          Non-Null Count   Dtype         \n",
      "---  ------                          --------------   -----         \n",
      " 0   reservation_status_date         119390 non-null  datetime64[ns]\n",
      " 1   is_canceled                     119390 non-null  int64         \n",
      " 2   lead_time                       119390 non-null  int64         \n",
      " 3   arrival_date_year               119390 non-null  int64         \n",
      " 4   arrival_date_month              119390 non-null  int64         \n",
      " 5   arrival_date_week_number        119390 non-null  int64         \n",
      " 6   arrival_date_day_of_month       119390 non-null  int64         \n",
      " 7   stays_in_weekend_nights         119390 non-null  int64         \n",
      " 8   stays_in_week_nights            119390 non-null  int64         \n",
      " 9   adults                          119390 non-null  int64         \n",
      " 10  children                        119390 non-null  float64       \n",
      " 11  babies                          119390 non-null  int64         \n",
      " 12  is_repeated_guest               119390 non-null  int64         \n",
      " 13  previous_cancellations          119390 non-null  int64         \n",
      " 14  previous_bookings_not_canceled  119390 non-null  int64         \n",
      " 15  booking_changes                 119390 non-null  int64         \n",
      " 16  agent                           119390 non-null  float64       \n",
      " 17  days_in_waiting_list            119390 non-null  int64         \n",
      " 18  adr                             119390 non-null  float64       \n",
      " 19  required_car_parking_spaces     119390 non-null  int64         \n",
      " 20  total_of_special_requests       119390 non-null  int64         \n",
      " 21  Resort Hotel                    119390 non-null  int32         \n",
      " 22  meal_BB                         119390 non-null  int32         \n",
      " 23  meal_FB                         119390 non-null  int32         \n",
      " 24  meal_HB                         119390 non-null  int32         \n",
      " 25  meal_SC                         119390 non-null  int32         \n",
      " 26  country_encoded                 119390 non-null  int32         \n",
      " 27  market_segment_encoded          119390 non-null  int32         \n",
      " 28  distrib_chnl_Corporate          119390 non-null  int32         \n",
      " 29  distrib_chnl_Direct             119390 non-null  int32         \n",
      " 30  distrib_chnl_GDS                119390 non-null  int32         \n",
      " 31  distrib_chnl_TA/TO              119390 non-null  int32         \n",
      " 32  reserved_room_type_encoded      119390 non-null  int64         \n",
      " 33  assign_room_type_encoded        119390 non-null  int64         \n",
      " 34  type_No Deposit                 119390 non-null  int32         \n",
      " 35  type_Non Refund                 119390 non-null  int32         \n",
      " 36  cust_type_Contract              119390 non-null  int32         \n",
      " 37  cust_type_Transient             119390 non-null  int32         \n",
      " 38  cust_type_Transient-Party       119390 non-null  int32         \n",
      " 39  res_status_Canceled             119390 non-null  int32         \n",
      " 40  res_status_Check-Out            119390 non-null  int32         \n",
      " 41  year_2015                       119390 non-null  int32         \n",
      " 42  year_2016                       119390 non-null  int32         \n",
      " 43  arrival_date                    119390 non-null  datetime64[ns]\n",
      " 44  6_months_advance_booking        119390 non-null  bool          \n",
      " 45  booking_type                    119390 non-null  object        \n",
      "dtypes: bool(1), datetime64[ns](2), float64(3), int32(20), int64(19), object(1)\n",
      "memory usage: 32.0+ MB\n"
     ]
    }
   ],
   "source": [
    "df.info()"
   ]
  },
  {
   "cell_type": "markdown",
   "id": "3c0cdc66",
   "metadata": {},
   "source": [
    "#### `Now, finding the correlations of column \"is_canceled\" with other columns to get the columns with high correlations.`"
   ]
  },
  {
   "cell_type": "code",
   "execution_count": 114,
   "id": "07f30ff9",
   "metadata": {},
   "outputs": [
    {
     "data": {
      "text/plain": [
       "is_canceled                       1.000000\n",
       "res_status_Canceled               0.978435\n",
       "type_Non Refund                   0.481457\n",
       "lead_time                         0.293123\n",
       "country_encoded                   0.271231\n",
       "6_months_advance_booking          0.211148\n",
       "distrib_chnl_TA/TO                0.175944\n",
       "cust_type_Transient               0.133084\n",
       "previous_cancellations            0.110133\n",
       "adults                            0.060017\n",
       "market_segment_encoded            0.059338\n",
       "days_in_waiting_list              0.054186\n",
       "adr                               0.047557\n",
       "meal_FB                           0.038828\n",
       "stays_in_week_nights              0.024765\n",
       "arrival_date                      0.023826\n",
       "arrival_date_year                 0.016660\n",
       "meal_BB                           0.013124\n",
       "arrival_date_month                0.011022\n",
       "arrival_date_week_number          0.008148\n",
       "children                          0.005036\n",
       "meal_SC                           0.001282\n",
       "year_2015                        -0.000254\n",
       "stays_in_weekend_nights          -0.001791\n",
       "arrival_date_day_of_month        -0.006130\n",
       "distrib_chnl_GDS                 -0.014891\n",
       "meal_HB                          -0.019845\n",
       "year_2016                        -0.023208\n",
       "cust_type_Contract               -0.023670\n",
       "babies                           -0.032491\n",
       "previous_bookings_not_canceled   -0.057358\n",
       "reserved_room_type_encoded       -0.061282\n",
       "distrib_chnl_Corporate           -0.075428\n",
       "agent                            -0.077992\n",
       "is_repeated_guest                -0.084793\n",
       "cust_type_Transient-Party        -0.124135\n",
       "Resort Hotel                     -0.136531\n",
       "booking_changes                  -0.144381\n",
       "distrib_chnl_Direct              -0.151620\n",
       "reservation_status_date          -0.165057\n",
       "assign_room_type_encoded         -0.176028\n",
       "required_car_parking_spaces      -0.195498\n",
       "total_of_special_requests        -0.234658\n",
       "type_No Deposit                  -0.477911\n",
       "res_status_Check-Out             -1.000000\n",
       "Name: is_canceled, dtype: float64"
      ]
     },
     "execution_count": 114,
     "metadata": {},
     "output_type": "execute_result"
    }
   ],
   "source": [
    "corr_mat = df.iloc[:, :-1].corr()\n",
    "corr_mat['is_canceled'].sort_values(ascending=False)"
   ]
  },
  {
   "cell_type": "markdown",
   "id": "a3376dc5",
   "metadata": {},
   "source": [
    "### `Observations:-`\n",
    "Given below are the features that we will be taking while training the model because of the high correlations:\n",
    "* res_status_Canceled           -    `0.978435`\n",
    "* type_Non Refund               -    `0.481457`\n",
    "* lead_time                     -    `0.293123`\n",
    "* country_encoded               -    `0.271231`\n",
    "* 6_months_advance_booking      -    `0.211148`\n",
    "* distrib_chnl_TA/TO            -    `0.175944`\n",
    "* cust_type_Transient           -    `0.133084`\n",
    "* booking_changes               -   `-0.144381`\n",
    "* distrib_chnl_Direct           -   `-0.151620`\n",
    "* reservation_status_date       -   `-0.165057`\n",
    "* assign_room_type_encoded      -   `-0.176028`\n",
    "* required_car_parking_spaces   -   `-0.195498`\n",
    "* total_of_special_requests     -   `-0.234658`\n",
    "* type_No Deposit               -   `-0.477911`\n",
    "* res_status_Check-Out          -   `-1.000000`"
   ]
  },
  {
   "cell_type": "code",
   "execution_count": 132,
   "id": "03791a7f",
   "metadata": {},
   "outputs": [],
   "source": [
    "selected_features = ['reservation_status_date',\n",
    "    'res_status_Canceled', \n",
    "    'type_Non Refund', \n",
    "    'lead_time', \n",
    "    'country_encoded',\n",
    "    'distrib_chnl_TA/TO', \n",
    "    'cust_type_Transient', \n",
    "    'booking_changes', \n",
    "    'distrib_chnl_Direct', \n",
    "    'assign_room_type_encoded', \n",
    "    'required_car_parking_spaces', \n",
    "    'total_of_special_requests', \n",
    "    'type_No Deposit', \n",
    "    'res_status_Check-Out',\n",
    "    'is_canceled'\n",
    "]"
   ]
  },
  {
   "cell_type": "code",
   "execution_count": 133,
   "id": "e6850c05",
   "metadata": {},
   "outputs": [],
   "source": [
    "df_for_model = df[selected_features]"
   ]
  },
  {
   "cell_type": "code",
   "execution_count": 134,
   "id": "bf80350d",
   "metadata": {},
   "outputs": [
    {
     "name": "stdout",
     "output_type": "stream",
     "text": [
      "<class 'pandas.core.frame.DataFrame'>\n",
      "RangeIndex: 119390 entries, 0 to 119389\n",
      "Data columns (total 15 columns):\n",
      " #   Column                       Non-Null Count   Dtype         \n",
      "---  ------                       --------------   -----         \n",
      " 0   reservation_status_date      119390 non-null  datetime64[ns]\n",
      " 1   res_status_Canceled          119390 non-null  int32         \n",
      " 2   type_Non Refund              119390 non-null  int32         \n",
      " 3   lead_time                    119390 non-null  int64         \n",
      " 4   country_encoded              119390 non-null  int32         \n",
      " 5   distrib_chnl_TA/TO           119390 non-null  int32         \n",
      " 6   cust_type_Transient          119390 non-null  int32         \n",
      " 7   booking_changes              119390 non-null  int64         \n",
      " 8   distrib_chnl_Direct          119390 non-null  int32         \n",
      " 9   assign_room_type_encoded     119390 non-null  int64         \n",
      " 10  required_car_parking_spaces  119390 non-null  int64         \n",
      " 11  total_of_special_requests    119390 non-null  int64         \n",
      " 12  type_No Deposit              119390 non-null  int32         \n",
      " 13  res_status_Check-Out         119390 non-null  int32         \n",
      " 14  is_canceled                  119390 non-null  int64         \n",
      "dtypes: datetime64[ns](1), int32(8), int64(6)\n",
      "memory usage: 10.0 MB\n"
     ]
    }
   ],
   "source": [
    "df_for_model.info()"
   ]
  },
  {
   "cell_type": "markdown",
   "id": "d34e57d4",
   "metadata": {},
   "source": [
    "### Training the model using `Random Forest Classifier`"
   ]
  },
  {
   "cell_type": "code",
   "execution_count": 155,
   "id": "3a3287e5",
   "metadata": {},
   "outputs": [
    {
     "name": "stderr",
     "output_type": "stream",
     "text": [
      "C:\\Users\\User\\AppData\\Local\\Temp\\ipykernel_10952\\2121981644.py:8: SettingWithCopyWarning: \n",
      "A value is trying to be set on a copy of a slice from a DataFrame.\n",
      "Try using .loc[row_indexer,col_indexer] = value instead\n",
      "\n",
      "See the caveats in the documentation: https://pandas.pydata.org/pandas-docs/stable/user_guide/indexing.html#returning-a-view-versus-a-copy\n",
      "  df_for_model['lag_1'] = df_for_model['is_canceled'].shift(1)\n",
      "C:\\Users\\User\\AppData\\Local\\Temp\\ipykernel_10952\\2121981644.py:9: SettingWithCopyWarning: \n",
      "A value is trying to be set on a copy of a slice from a DataFrame.\n",
      "Try using .loc[row_indexer,col_indexer] = value instead\n",
      "\n",
      "See the caveats in the documentation: https://pandas.pydata.org/pandas-docs/stable/user_guide/indexing.html#returning-a-view-versus-a-copy\n",
      "  df_for_model['lag_2'] = df_for_model['is_canceled'].shift(2)\n",
      "C:\\Users\\User\\AppData\\Local\\Temp\\ipykernel_10952\\2121981644.py:10: SettingWithCopyWarning: \n",
      "A value is trying to be set on a copy of a slice from a DataFrame.\n",
      "Try using .loc[row_indexer,col_indexer] = value instead\n",
      "\n",
      "See the caveats in the documentation: https://pandas.pydata.org/pandas-docs/stable/user_guide/indexing.html#returning-a-view-versus-a-copy\n",
      "  df_for_model['lag_3'] = df_for_model['is_canceled'].shift(3)\n",
      "C:\\Users\\User\\AppData\\Local\\Temp\\ipykernel_10952\\2121981644.py:12: SettingWithCopyWarning: \n",
      "A value is trying to be set on a copy of a slice from a DataFrame\n",
      "\n",
      "See the caveats in the documentation: https://pandas.pydata.org/pandas-docs/stable/user_guide/indexing.html#returning-a-view-versus-a-copy\n",
      "  df_for_model.dropna(inplace=True)\n"
     ]
    },
    {
     "name": "stdout",
     "output_type": "stream",
     "text": [
      "Confusion Matrix:\n",
      " [[16993  1361]\n",
      " [ 3186  2337]]\n",
      "\n",
      "Classification Report:\n",
      "               precision    recall  f1-score   support\n",
      "\n",
      "           0       0.84      0.93      0.88     18354\n",
      "           1       0.63      0.42      0.51      5523\n",
      "\n",
      "    accuracy                           0.81     23877\n",
      "   macro avg       0.74      0.67      0.69     23877\n",
      "weighted avg       0.79      0.81      0.80     23877\n",
      "\n",
      "\n",
      "ROC AUC Score: 0.7616414322615062\n",
      "\n",
      "Accuracy: 0.8095656908321816\n"
     ]
    }
   ],
   "source": [
    "from sklearn.ensemble import RandomForestClassifier\n",
    "from sklearn.model_selection import train_test_split\n",
    "from sklearn.metrics import classification_report, confusion_matrix, roc_auc_score, accuracy_score\n",
    "\n",
    "\n",
    "\n",
    "# Create lag features (e.g., lag 1, lag 2, lag 3)\n",
    "df_for_model['lag_1'] = df_for_model['is_canceled'].shift(1)\n",
    "df_for_model['lag_2'] = df_for_model['is_canceled'].shift(2)\n",
    "df_for_model['lag_3'] = df_for_model['is_canceled'].shift(3)\n",
    "\n",
    "df_for_model.dropna(inplace=True)\n",
    "# Features and target variable\n",
    "features = ['lag_1', 'lag_2', 'lag_3']\n",
    "X = df_for_model[features]\n",
    "y = df_for_model['is_canceled']\n",
    "\n",
    "# Train-test split\n",
    "X_train, X_test, y_train, y_test = train_test_split(X, y, test_size=0.2, shuffle=False)\n",
    "\n",
    "# Initialize and train Random Forest model\n",
    "rf_model = RandomForestClassifier(n_estimators=100, random_state=42)\n",
    "rf_model.fit(X_train, y_train)\n",
    "\n",
    "# Predict and evaluate\n",
    "y_pred = rf_model.predict(X_test)\n",
    "y_pred_proba = rf_model.predict_proba(X_test)[:, 1]\n",
    "\n",
    "# Calculate accuracy\n",
    "accuracy = accuracy_score(y_test, y_pred)\n",
    "\n",
    "# Evaluation metrics\n",
    "print(\"Confusion Matrix:\\n\", confusion_matrix(y_test, y_pred))\n",
    "print(\"\\nClassification Report:\\n\", classification_report(y_test, y_pred))\n",
    "print(\"\\nROC AUC Score:\", roc_auc_score(y_test, y_pred_proba))\n",
    "print(\"\\nAccuracy:\", accuracy)\n"
   ]
  },
  {
   "cell_type": "markdown",
   "id": "80d83e9a",
   "metadata": {},
   "source": [
    "Based on the results from your Random Forest Classifier model, here’s a summary of the key evaluation metrics:\n",
    "\n",
    "### 1. **Accuracy**\n",
    "- **Value:** 0.81 (or 81%)\n",
    "- **Explanation:** In this case, the model correctly predicted whether a booking would be canceled or not 81% of the time.\n",
    "\n",
    "### 2. **Precision**\n",
    "- **Class 0 (Not Canceled):** 0.84\n",
    "- **Class 1 (Canceled):** 0.63\n",
    "- **Explanation:** A high precision for Class 0 means that when the model predicts a booking will not be canceled, it is correct 84% of the time. For Class 1, the model is correct 63% of the time when it predicts a cancellation. This indicates that the model has more confidence in predicting non-cancellations than cancellations.\n",
    "\n",
    "### 3. **Recall (Sensitivity)**\n",
    "- **Class 0 (Not Canceled):** 0.93\n",
    "- **Class 1 (Canceled):** 0.42\n",
    "- **Explanation:** For Class 0, the recall is 0.93, meaning the model successfully identified 93% of the actual non-cancelled bookings. For Class 1, the recall is much lower at 0.42, indicating the model only correctly identified 42% of the actual canceled bookings.\n",
    "\n",
    "### 4. **F1-Score**\n",
    "- **Class 0 (Not Canceled):** 0.88\n",
    "- **Class 1 (Canceled):** 0.51\n",
    "- **Explanation:** For Class 0, the F1-score is 0.88, showing a good balance between high precision and high recall. For Class 1, the F1-score is 0.51, indicating that while the model has reasonable precision, its lower recall for cancellations affects the overall balance.\n",
    "\n",
    "### 5. **ROC AUC Score**\n",
    "- **Value:** 0.76\n",
    "- **Explanation:** A score of 0.76 indicates that the model has a moderate ability to differentiate between canceled and non-canceled bookings. A score closer to 1 would indicate excellent discrimination, while a score around 0.5 suggests no better performance than random guessing.\n",
    "\n",
    "### **Overall Summary**\n",
    "The Random Forest model has demonstrated a solid performance in predicting non-cancellations (Class 0) with high precision, recall, and F1-score. However, its performance is notably lower for predicting cancellations (Class 1), with lower precision, recall, and F1-score. The model tends to miss a significant number of actual cancellations, as indicated by the recall for Class 1 (0.42). Improving the recall for canceled bookings could be an area of focus for enhancing the model's overall effectiveness."
   ]
  },
  {
   "cell_type": "markdown",
   "id": "ab40a343",
   "metadata": {},
   "source": [
    "### Training the model using `Artificial Neural Network (ANN)`"
   ]
  },
  {
   "cell_type": "code",
   "execution_count": 159,
   "id": "4f281e29",
   "metadata": {},
   "outputs": [],
   "source": [
    "import tensorflow as tf"
   ]
  },
  {
   "cell_type": "code",
   "execution_count": 165,
   "id": "be519c74",
   "metadata": {
    "scrolled": false
   },
   "outputs": [
    {
     "name": "stdout",
     "output_type": "stream",
     "text": [
      "Epoch 1/25\n"
     ]
    },
    {
     "name": "stderr",
     "output_type": "stream",
     "text": [
      "C:\\Users\\User\\anaconda3\\Lib\\site-packages\\keras\\src\\layers\\core\\dense.py:87: UserWarning: Do not pass an `input_shape`/`input_dim` argument to a layer. When using Sequential models, prefer using an `Input(shape)` object as the first layer in the model instead.\n",
      "  super().__init__(activity_regularizer=activity_regularizer, **kwargs)\n"
     ]
    },
    {
     "name": "stdout",
     "output_type": "stream",
     "text": [
      "\u001b[1m2388/2388\u001b[0m \u001b[32m━━━━━━━━━━━━━━━━━━━━\u001b[0m\u001b[37m\u001b[0m \u001b[1m7s\u001b[0m 2ms/step - accuracy: 0.7828 - loss: 0.4918 - val_accuracy: 0.7463 - val_loss: 0.5368\n",
      "Epoch 2/25\n",
      "\u001b[1m2388/2388\u001b[0m \u001b[32m━━━━━━━━━━━━━━━━━━━━\u001b[0m\u001b[37m\u001b[0m \u001b[1m4s\u001b[0m 2ms/step - accuracy: 0.7825 - loss: 0.4860 - val_accuracy: 0.7463 - val_loss: 0.5351\n",
      "Epoch 3/25\n",
      "\u001b[1m2388/2388\u001b[0m \u001b[32m━━━━━━━━━━━━━━━━━━━━\u001b[0m\u001b[37m\u001b[0m \u001b[1m4s\u001b[0m 2ms/step - accuracy: 0.7879 - loss: 0.4813 - val_accuracy: 0.7463 - val_loss: 0.5454\n",
      "Epoch 4/25\n",
      "\u001b[1m2388/2388\u001b[0m \u001b[32m━━━━━━━━━━━━━━━━━━━━\u001b[0m\u001b[37m\u001b[0m \u001b[1m4s\u001b[0m 2ms/step - accuracy: 0.7876 - loss: 0.4780 - val_accuracy: 0.7463 - val_loss: 0.5333\n",
      "Epoch 5/25\n",
      "\u001b[1m2388/2388\u001b[0m \u001b[32m━━━━━━━━━━━━━━━━━━━━\u001b[0m\u001b[37m\u001b[0m \u001b[1m5s\u001b[0m 2ms/step - accuracy: 0.7871 - loss: 0.4806 - val_accuracy: 0.7463 - val_loss: 0.5366\n",
      "Epoch 6/25\n",
      "\u001b[1m2388/2388\u001b[0m \u001b[32m━━━━━━━━━━━━━━━━━━━━\u001b[0m\u001b[37m\u001b[0m \u001b[1m4s\u001b[0m 2ms/step - accuracy: 0.7869 - loss: 0.4827 - val_accuracy: 0.7463 - val_loss: 0.5353\n",
      "Epoch 7/25\n",
      "\u001b[1m2388/2388\u001b[0m \u001b[32m━━━━━━━━━━━━━━━━━━━━\u001b[0m\u001b[37m\u001b[0m \u001b[1m4s\u001b[0m 2ms/step - accuracy: 0.7858 - loss: 0.4823 - val_accuracy: 0.7463 - val_loss: 0.5335\n",
      "Epoch 8/25\n",
      "\u001b[1m2388/2388\u001b[0m \u001b[32m━━━━━━━━━━━━━━━━━━━━\u001b[0m\u001b[37m\u001b[0m \u001b[1m4s\u001b[0m 2ms/step - accuracy: 0.7882 - loss: 0.4804 - val_accuracy: 0.7341 - val_loss: 0.5354\n",
      "Epoch 9/25\n",
      "\u001b[1m2388/2388\u001b[0m \u001b[32m━━━━━━━━━━━━━━━━━━━━\u001b[0m\u001b[37m\u001b[0m \u001b[1m5s\u001b[0m 2ms/step - accuracy: 0.7845 - loss: 0.4818 - val_accuracy: 0.7463 - val_loss: 0.5411\n",
      "Epoch 10/25\n",
      "\u001b[1m2388/2388\u001b[0m \u001b[32m━━━━━━━━━━━━━━━━━━━━\u001b[0m\u001b[37m\u001b[0m \u001b[1m5s\u001b[0m 2ms/step - accuracy: 0.7871 - loss: 0.4797 - val_accuracy: 0.7463 - val_loss: 0.5342\n",
      "Epoch 11/25\n",
      "\u001b[1m2388/2388\u001b[0m \u001b[32m━━━━━━━━━━━━━━━━━━━━\u001b[0m\u001b[37m\u001b[0m \u001b[1m4s\u001b[0m 2ms/step - accuracy: 0.7847 - loss: 0.4816 - val_accuracy: 0.7463 - val_loss: 0.5376\n",
      "Epoch 12/25\n",
      "\u001b[1m2388/2388\u001b[0m \u001b[32m━━━━━━━━━━━━━━━━━━━━\u001b[0m\u001b[37m\u001b[0m \u001b[1m5s\u001b[0m 2ms/step - accuracy: 0.7867 - loss: 0.4801 - val_accuracy: 0.7463 - val_loss: 0.5355\n",
      "Epoch 13/25\n",
      "\u001b[1m2388/2388\u001b[0m \u001b[32m━━━━━━━━━━━━━━━━━━━━\u001b[0m\u001b[37m\u001b[0m \u001b[1m4s\u001b[0m 2ms/step - accuracy: 0.7877 - loss: 0.4784 - val_accuracy: 0.7463 - val_loss: 0.5337\n",
      "Epoch 14/25\n",
      "\u001b[1m2388/2388\u001b[0m \u001b[32m━━━━━━━━━━━━━━━━━━━━\u001b[0m\u001b[37m\u001b[0m \u001b[1m4s\u001b[0m 2ms/step - accuracy: 0.7872 - loss: 0.4788 - val_accuracy: 0.7463 - val_loss: 0.5367\n",
      "Epoch 15/25\n",
      "\u001b[1m2388/2388\u001b[0m \u001b[32m━━━━━━━━━━━━━━━━━━━━\u001b[0m\u001b[37m\u001b[0m \u001b[1m4s\u001b[0m 2ms/step - accuracy: 0.7867 - loss: 0.4778 - val_accuracy: 0.7463 - val_loss: 0.5330\n",
      "Epoch 16/25\n",
      "\u001b[1m2388/2388\u001b[0m \u001b[32m━━━━━━━━━━━━━━━━━━━━\u001b[0m\u001b[37m\u001b[0m \u001b[1m5s\u001b[0m 2ms/step - accuracy: 0.7847 - loss: 0.4817 - val_accuracy: 0.7463 - val_loss: 0.5368\n",
      "Epoch 17/25\n",
      "\u001b[1m2388/2388\u001b[0m \u001b[32m━━━━━━━━━━━━━━━━━━━━\u001b[0m\u001b[37m\u001b[0m \u001b[1m5s\u001b[0m 2ms/step - accuracy: 0.7870 - loss: 0.4787 - val_accuracy: 0.7463 - val_loss: 0.5346\n",
      "Epoch 18/25\n",
      "\u001b[1m2388/2388\u001b[0m \u001b[32m━━━━━━━━━━━━━━━━━━━━\u001b[0m\u001b[37m\u001b[0m \u001b[1m4s\u001b[0m 2ms/step - accuracy: 0.7869 - loss: 0.4791 - val_accuracy: 0.7463 - val_loss: 0.5356\n",
      "Epoch 19/25\n",
      "\u001b[1m2388/2388\u001b[0m \u001b[32m━━━━━━━━━━━━━━━━━━━━\u001b[0m\u001b[37m\u001b[0m \u001b[1m4s\u001b[0m 2ms/step - accuracy: 0.7903 - loss: 0.4742 - val_accuracy: 0.7463 - val_loss: 0.5341\n",
      "Epoch 20/25\n",
      "\u001b[1m2388/2388\u001b[0m \u001b[32m━━━━━━━━━━━━━━━━━━━━\u001b[0m\u001b[37m\u001b[0m \u001b[1m5s\u001b[0m 2ms/step - accuracy: 0.7878 - loss: 0.4759 - val_accuracy: 0.7463 - val_loss: 0.5350\n",
      "Epoch 21/25\n",
      "\u001b[1m2388/2388\u001b[0m \u001b[32m━━━━━━━━━━━━━━━━━━━━\u001b[0m\u001b[37m\u001b[0m \u001b[1m4s\u001b[0m 2ms/step - accuracy: 0.7871 - loss: 0.4785 - val_accuracy: 0.7463 - val_loss: 0.5350\n",
      "Epoch 22/25\n",
      "\u001b[1m2388/2388\u001b[0m \u001b[32m━━━━━━━━━━━━━━━━━━━━\u001b[0m\u001b[37m\u001b[0m \u001b[1m4s\u001b[0m 2ms/step - accuracy: 0.7857 - loss: 0.4793 - val_accuracy: 0.7463 - val_loss: 0.5355\n",
      "Epoch 23/25\n",
      "\u001b[1m2388/2388\u001b[0m \u001b[32m━━━━━━━━━━━━━━━━━━━━\u001b[0m\u001b[37m\u001b[0m \u001b[1m5s\u001b[0m 2ms/step - accuracy: 0.7852 - loss: 0.4827 - val_accuracy: 0.7463 - val_loss: 0.5365\n",
      "Epoch 24/25\n",
      "\u001b[1m2388/2388\u001b[0m \u001b[32m━━━━━━━━━━━━━━━━━━━━\u001b[0m\u001b[37m\u001b[0m \u001b[1m4s\u001b[0m 2ms/step - accuracy: 0.7852 - loss: 0.4816 - val_accuracy: 0.7463 - val_loss: 0.5347\n",
      "Epoch 25/25\n",
      "\u001b[1m2388/2388\u001b[0m \u001b[32m━━━━━━━━━━━━━━━━━━━━\u001b[0m\u001b[37m\u001b[0m \u001b[1m4s\u001b[0m 2ms/step - accuracy: 0.7888 - loss: 0.4782 - val_accuracy: 0.7463 - val_loss: 0.5361\n",
      "\u001b[1m747/747\u001b[0m \u001b[32m━━━━━━━━━━━━━━━━━━━━\u001b[0m\u001b[37m\u001b[0m \u001b[1m1s\u001b[0m 994us/step\n",
      "Confusion Matrix:\n",
      " [[16993  1361]\n",
      " [ 3186  2337]]\n",
      "\n",
      "Classification Report:\n",
      "               precision    recall  f1-score   support\n",
      "\n",
      "           0       0.84      0.93      0.88     18354\n",
      "           1       0.63      0.42      0.51      5523\n",
      "\n",
      "    accuracy                           0.81     23877\n",
      "   macro avg       0.74      0.67      0.69     23877\n",
      "weighted avg       0.79      0.81      0.80     23877\n",
      "\n",
      "\n",
      "ROC AUC Score: 0.7607675469917661\n",
      "\n",
      "Accuracy: 0.8095656908321816\n"
     ]
    },
    {
     "data": {
      "image/png": "[encoded data removed]",
      "text/plain": [
       "<Figure size 1000x500 with 1 Axes>"
      ]
     },
     "metadata": {},
     "output_type": "display_data"
    },
    {
     "data": {
      "image/png": "[encoded data removed]",
      "text/plain": [
       "<Figure size 1000x500 with 1 Axes>"
      ]
     },
     "metadata": {},
     "output_type": "display_data"
    }
   ],
   "source": [
    "from sklearn.preprocessing import StandardScaler\n",
    "from tensorflow.keras.models import Sequential\n",
    "from tensorflow.keras.layers import Dense, Dropout\n",
    "# Train test split\n",
    "X_train, X_test, y_train, y_test = train_test_split(X, y, test_size=0.2, shuffle=False)\n",
    "\n",
    "# Feature Scaling\n",
    "scaler = StandardScaler()\n",
    "X_train_scaled = scaler.fit_transform(X_train)\n",
    "X_test_scaled = scaler.transform(X_test)\n",
    "\n",
    "# Building an ANN\n",
    "model = Sequential()\n",
    "model.add(Dense(128, input_dim=X_train_scaled.shape[1], activation='relu'))\n",
    "model.add(Dropout(0.2))\n",
    "model.add(Dense(64, activation='relu'))\n",
    "model.add(Dropout(0.2))\n",
    "model.add(Dense(32, activation='relu'))\n",
    "model.add(Dense(16, activation='relu'))\n",
    "model.add(Dense(1, activation='sigmoid')) # Output layer for binary classification\n",
    "\n",
    "# Compile the model\n",
    "model.compile(optimizer='Adam', loss='binary_crossentropy', metrics=['accuracy'])\n",
    "\n",
    "# Train the model\n",
    "history = model.fit(X_train_scaled, y_train, epochs=25, batch_size=32, validation_split=0.2)\n",
    "\n",
    "\n",
    "# Evaluate the model\n",
    "y_pred_proba = model.predict(X_test_scaled)\n",
    "y_pred = (y_pred_proba > 0.5).astype(int)\n",
    "\n",
    "# Calculate accuracy\n",
    "accuracy = accuracy_score(y_test, y_pred)\n",
    "\n",
    "# Evaluation metrics\n",
    "print(\"Confusion Matrix:\\n\", confusion_matrix(y_test, y_pred))\n",
    "print(\"\\nClassification Report:\\n\", classification_report(y_test, y_pred))\n",
    "print(\"\\nROC AUC Score:\", roc_auc_score(y_test, y_pred_proba))\n",
    "print(\"\\nAccuracy:\", accuracy)\n",
    "\n",
    "# Plotting the loss curve\n",
    "plt.figure(figsize=(10, 5))\n",
    "plt.plot(history.history['loss'], label='Training Loss')\n",
    "plt.plot(history.history['val_loss'], label='Validation Loss')\n",
    "plt.title('Loss Curve')\n",
    "plt.xlabel('Epochs')\n",
    "plt.ylabel('Loss')\n",
    "plt.legend()\n",
    "plt.show()\n",
    "\n",
    "# Plotting the accuracy curve\n",
    "plt.figure(figsize=(10, 5))\n",
    "plt.plot(history.history['accuracy'], label='Training Accuracy')\n",
    "plt.plot(history.history['val_accuracy'], label='Validation Accuracy')\n",
    "plt.title('Accuracy Curve')\n",
    "plt.xlabel('Epochs')\n",
    "plt.ylabel('Accuracy')\n",
    "plt.legend()\n",
    "plt.show()\n"
   ]
  },
  {
   "cell_type": "markdown",
   "id": "da45a544",
   "metadata": {},
   "source": [
    "### Summary of Model Performance\n",
    "\n",
    "**1. Confusion Matrix:**\n",
    "- **True Negatives (TN):** 16,993 - These are correctly predicted non-cancellations.\n",
    "- **False Positives (FP):** 1,361 - These are bookings that were predicted as canceled but were not actually canceled.\n",
    "- **False Negatives (FN):** 3,186 - These are bookings that were not predicted as canceled but were actually canceled.\n",
    "- **True Positives (TP):** 2,337 - These are correctly predicted cancellations.\n",
    "\n",
    "**2. Accuracy:**  \n",
    "- **Value:** 0.81 (or 81%)\n",
    "- **Explanation:** This represents the proportion of correctly predicted instances (both cancellations and non-cancellations) out of the total predictions. The model is correct 81% of the time, which indicates good overall performance.\n",
    "\n",
    "**3. Precision:**\n",
    "- **Class 0 (Not Canceled):** 0.84\n",
    "- **Class 1 (Canceled):** 0.63\n",
    "- **Explanation:** Precision measures the accuracy of positive predictions. For Class 0, when the model predicts a booking will not be canceled, it is correct 84% of the time. For Class 1, when the model predicts a booking will be canceled, it is correct 63% of the time. This shows that the model is more confident in predicting non-cancellations.\n",
    "\n",
    "**4. Recall (Sensitivity):**\n",
    "- **Class 0 (Not Canceled):** 0.93\n",
    "- **Class 1 (Canceled):** 0.42\n",
    "- **Explanation:** Recall measures how well the model identifies actual positive cases. For Class 0, the recall is 0.93, meaning the model correctly identifies 93% of actual non-cancellations. For Class 1, the recall is 0.42, indicating the model correctly identifies 42% of actual cancellations. The lower recall for cancellations suggests the model misses a significant number of actual cancellations.\n",
    "\n",
    "**5. F1-Score:**\n",
    "- **Class 0 (Not Canceled):** 0.88\n",
    "- **Class 1 (Canceled):** 0.51\n",
    "- **Explanation:** The F1-score is the harmonic mean of precision and recall. It provides a balance between the two. For Class 0, the F1-score is 0.88, indicating a strong performance in predicting non-cancellations. For Class 1, the F1-score is 0.51, reflecting a lower ability to predict cancellations accurately.\n",
    "\n",
    "**6. ROC AUC Score:**\n",
    "- **Value:** 0.76\n",
    "- **Explanation:** The ROC AUC score measures the model's ability to distinguish between the two classes (canceled and not canceled). A score of 0.76 indicates a moderate ability to differentiate between the classes. A perfect model would have a score of 1.0, while a score of 0.5 indicates no discriminatory power (equivalent to random guessing).\n",
    "\n",
    "### **Overall Summary:**\n",
    "\n",
    "* The ANN model demonstrates good performance in predicting non-cancelled bookings, with high accuracy, precision, recall, and F1-score for Class 0 (Not Canceled). \n",
    "* However, the model has a relatively lower performance in predicting cancellations (Class 1). It has a moderate precision for cancellations but a low recall, indicating it misses many actual cancellations. "
   ]
  },
  {
   "cell_type": "markdown",
   "id": "148ee528",
   "metadata": {},
   "source": [
    "### `Discuss any improvements you would recommend for the model.`"
   ]
  },
  {
   "cell_type": "markdown",
   "id": "d38da11d",
   "metadata": {},
   "source": [
    "### Summary of Recommendations for Model Improvement\n",
    "\n",
    "1. **Address Class Imbalance:**\n",
    "   - **Resampling Techniques:** Use oversampling (e.g., SMOTE) or undersampling to balance the dataset.\n",
    "   - **Class Weight Adjustment:** Increase the importance of the minority class in the loss function.\n",
    "\n",
    "2. **Improve Feature-Dependent Variable Correlation:**\n",
    "   - **Feature Engineering:** Enhance or create new features to better capture relationships with the dependent variable.\n",
    "   - **Feature Selection:** Identify and use the most relevant features to improve model performance."
   ]
  },
  {
   "cell_type": "code",
   "execution_count": 166,
   "id": "9b460d0f",
   "metadata": {},
   "outputs": [
    {
     "name": "stdout",
     "output_type": "stream",
     "text": [
      "<class 'pandas.core.frame.DataFrame'>\n",
      "RangeIndex: 119390 entries, 0 to 119389\n",
      "Data columns (total 46 columns):\n",
      " #   Column                          Non-Null Count   Dtype         \n",
      "---  ------                          --------------   -----         \n",
      " 0   reservation_status_date         119390 non-null  datetime64[ns]\n",
      " 1   is_canceled                     119390 non-null  int64         \n",
      " 2   lead_time                       119390 non-null  int64         \n",
      " 3   arrival_date_year               119390 non-null  int64         \n",
      " 4   arrival_date_month              119390 non-null  int64         \n",
      " 5   arrival_date_week_number        119390 non-null  int64         \n",
      " 6   arrival_date_day_of_month       119390 non-null  int64         \n",
      " 7   stays_in_weekend_nights         119390 non-null  int64         \n",
      " 8   stays_in_week_nights            119390 non-null  int64         \n",
      " 9   adults                          119390 non-null  int64         \n",
      " 10  children                        119390 non-null  float64       \n",
      " 11  babies                          119390 non-null  int64         \n",
      " 12  is_repeated_guest               119390 non-null  int64         \n",
      " 13  previous_cancellations          119390 non-null  int64         \n",
      " 14  previous_bookings_not_canceled  119390 non-null  int64         \n",
      " 15  booking_changes                 119390 non-null  int64         \n",
      " 16  agent                           119390 non-null  float64       \n",
      " 17  days_in_waiting_list            119390 non-null  int64         \n",
      " 18  adr                             119390 non-null  float64       \n",
      " 19  required_car_parking_spaces     119390 non-null  int64         \n",
      " 20  total_of_special_requests       119390 non-null  int64         \n",
      " 21  Resort Hotel                    119390 non-null  int32         \n",
      " 22  meal_BB                         119390 non-null  int32         \n",
      " 23  meal_FB                         119390 non-null  int32         \n",
      " 24  meal_HB                         119390 non-null  int32         \n",
      " 25  meal_SC                         119390 non-null  int32         \n",
      " 26  country_encoded                 119390 non-null  int32         \n",
      " 27  market_segment_encoded          119390 non-null  int32         \n",
      " 28  distrib_chnl_Corporate          119390 non-null  int32         \n",
      " 29  distrib_chnl_Direct             119390 non-null  int32         \n",
      " 30  distrib_chnl_GDS                119390 non-null  int32         \n",
      " 31  distrib_chnl_TA/TO              119390 non-null  int32         \n",
      " 32  reserved_room_type_encoded      119390 non-null  int64         \n",
      " 33  assign_room_type_encoded        119390 non-null  int64         \n",
      " 34  type_No Deposit                 119390 non-null  int32         \n",
      " 35  type_Non Refund                 119390 non-null  int32         \n",
      " 36  cust_type_Contract              119390 non-null  int32         \n",
      " 37  cust_type_Transient             119390 non-null  int32         \n",
      " 38  cust_type_Transient-Party       119390 non-null  int32         \n",
      " 39  res_status_Canceled             119390 non-null  int32         \n",
      " 40  res_status_Check-Out            119390 non-null  int32         \n",
      " 41  year_2015                       119390 non-null  int32         \n",
      " 42  year_2016                       119390 non-null  int32         \n",
      " 43  arrival_date                    119390 non-null  datetime64[ns]\n",
      " 44  6_months_advance_booking        119390 non-null  bool          \n",
      " 45  booking_type                    119390 non-null  object        \n",
      "dtypes: bool(1), datetime64[ns](2), float64(3), int32(20), int64(19), object(1)\n",
      "memory usage: 32.0+ MB\n"
     ]
    }
   ],
   "source": [
    "df.info()"
   ]
  },
  {
   "cell_type": "markdown",
   "id": "745ec669",
   "metadata": {},
   "source": [
    "# 5. Operational Insights:\n",
    "* Provide actionable insights and recommendations for hotel management based on your analysis. Consider aspects like pricing strategies, customer segmentation, and marketing focus."
   ]
  },
  {
   "cell_type": "code",
   "execution_count": 170,
   "id": "7bce48bf",
   "metadata": {},
   "outputs": [
    {
     "data": {
      "text/plain": [
       "<Axes: xlabel='market_segment', ylabel='count'>"
      ]
     },
     "execution_count": 170,
     "metadata": {},
     "output_type": "execute_result"
    },
    {
     "data": {
      "image/png": "[encoded data removed]",
      "text/plain": [
       "<Figure size 1400x800 with 1 Axes>"
      ]
     },
     "metadata": {},
     "output_type": "display_data"
    }
   ],
   "source": [
    "plt.figure(figsize=(14,8))\n",
    "sns.countplot(data=df_clone, x='market_segment', hue='is_canceled')"
   ]
  },
  {
   "cell_type": "markdown",
   "id": "15552482",
   "metadata": {},
   "source": [
    "### `Recommendations for Hotel Management`\n",
    "* The hotel in country PRT (Portugal) should focus more on their management because of the highest number of hotel cancellations compared to its own non-cancellations.\n",
    "* The management of `Resort type hotel` should focus more on their bookings as it has comparatively less bookings than the `City type hotels`.\n",
    "* Reserved room and Assigned room types has highest bookings only on `Room Type A` meaning there is a room for improvement on other room types.\n",
    "\n",
    "**Note:-**\n",
    "* `The customer is more likely to cancel the bookings if the booking is done in 6 months advance or more than that. That can be prevented by giving special offer on advance booking that attracts customers.`"
   ]
  },
  {
   "cell_type": "code",
   "execution_count": null,
   "id": "9cbcdf8d",
   "metadata": {},
   "outputs": [],
   "source": []
  }
 ],
 "metadata": {
  "kernelspec": {
   "display_name": "Python 3 (ipykernel)",
   "language": "python",
   "name": "python3"
  },
  "language_info": {
   "codemirror_mode": {
    "name": "ipython",
    "version": 3
   },
   "file_extension": ".py",
   "mimetype": "text/x-python",
   "name": "python",
   "nbconvert_exporter": "python",
   "pygments_lexer": "ipython3",
   "version": "3.11.5"
  }
 },
 "nbformat": 4,
 "nbformat_minor": 5
}
